{
  "nbformat": 4,
  "nbformat_minor": 0,
  "metadata": {
    "colab": {
      "provenance": []
    },
    "kernelspec": {
      "name": "python3",
      "display_name": "Python 3"
    },
    "language_info": {
      "name": "python"
    }
  },
  "cells": [
    {
      "cell_type": "markdown",
      "source": [
        "# MIE524 - Assignment 1\n"
      ],
      "metadata": {
        "id": "P3rGTK43YrNz"
      }
    },
    {
      "cell_type": "markdown",
      "source": [
        "## Setup"
      ],
      "metadata": {
        "id": "sk5Fl4bBY4k5"
      }
    },
    {
      "cell_type": "markdown",
      "source": [
        "Let's set up Spark on your Colab environment.  Run the cell below!"
      ],
      "metadata": {
        "id": "KVBFUi_sY_Rl"
      }
    },
    {
      "cell_type": "code",
      "execution_count": 1,
      "metadata": {
        "colab": {
          "base_uri": "https://localhost:8080/"
        },
        "id": "mV-AdHT2Yk_4",
        "outputId": "729cfc01-f39b-45b1-af91-6d344d91bf23"
      },
      "outputs": [
        {
          "output_type": "stream",
          "name": "stdout",
          "text": [
            "Collecting pyspark\n",
            "  Downloading pyspark-3.5.3.tar.gz (317.3 MB)\n",
            "\u001b[2K     \u001b[90m━━━━━━━━━━━━━━━━━━━━━━━━━━━━━━━━━━━━━━━━\u001b[0m \u001b[32m317.3/317.3 MB\u001b[0m \u001b[31m2.9 MB/s\u001b[0m eta \u001b[36m0:00:00\u001b[0m\n",
            "\u001b[?25h  Preparing metadata (setup.py) ... \u001b[?25l\u001b[?25hdone\n",
            "Requirement already satisfied: py4j==0.10.9.7 in /usr/local/lib/python3.10/dist-packages (from pyspark) (0.10.9.7)\n",
            "Building wheels for collected packages: pyspark\n",
            "  Building wheel for pyspark (setup.py) ... \u001b[?25l\u001b[?25hdone\n",
            "  Created wheel for pyspark: filename=pyspark-3.5.3-py2.py3-none-any.whl size=317840625 sha256=e6ffb38b649dd0d2187cc0aaee5b927bba1898c0985d854123a2e4d6c8652982\n",
            "  Stored in directory: /root/.cache/pip/wheels/1b/3a/92/28b93e2fbfdbb07509ca4d6f50c5e407f48dce4ddbda69a4ab\n",
            "Successfully built pyspark\n",
            "Installing collected packages: pyspark\n",
            "Successfully installed pyspark-3.5.3\n",
            "The following additional packages will be installed:\n",
            "  libxtst6 openjdk-8-jre-headless\n",
            "Suggested packages:\n",
            "  openjdk-8-demo openjdk-8-source libnss-mdns fonts-dejavu-extra fonts-nanum fonts-ipafont-gothic\n",
            "  fonts-ipafont-mincho fonts-wqy-microhei fonts-wqy-zenhei fonts-indic\n",
            "The following NEW packages will be installed:\n",
            "  libxtst6 openjdk-8-jdk-headless openjdk-8-jre-headless\n",
            "0 upgraded, 3 newly installed, 0 to remove and 49 not upgraded.\n",
            "Need to get 39.6 MB of archives.\n",
            "After this operation, 144 MB of additional disk space will be used.\n",
            "Selecting previously unselected package libxtst6:amd64.\n",
            "(Reading database ... 123605 files and directories currently installed.)\n",
            "Preparing to unpack .../libxtst6_2%3a1.2.3-1build4_amd64.deb ...\n",
            "Unpacking libxtst6:amd64 (2:1.2.3-1build4) ...\n",
            "Selecting previously unselected package openjdk-8-jre-headless:amd64.\n",
            "Preparing to unpack .../openjdk-8-jre-headless_8u422-b05-1~22.04_amd64.deb ...\n",
            "Unpacking openjdk-8-jre-headless:amd64 (8u422-b05-1~22.04) ...\n",
            "Selecting previously unselected package openjdk-8-jdk-headless:amd64.\n",
            "Preparing to unpack .../openjdk-8-jdk-headless_8u422-b05-1~22.04_amd64.deb ...\n",
            "Unpacking openjdk-8-jdk-headless:amd64 (8u422-b05-1~22.04) ...\n",
            "Setting up libxtst6:amd64 (2:1.2.3-1build4) ...\n",
            "Setting up openjdk-8-jre-headless:amd64 (8u422-b05-1~22.04) ...\n",
            "update-alternatives: using /usr/lib/jvm/java-8-openjdk-amd64/jre/bin/orbd to provide /usr/bin/orbd (orbd) in auto mode\n",
            "update-alternatives: using /usr/lib/jvm/java-8-openjdk-amd64/jre/bin/servertool to provide /usr/bin/servertool (servertool) in auto mode\n",
            "update-alternatives: using /usr/lib/jvm/java-8-openjdk-amd64/jre/bin/tnameserv to provide /usr/bin/tnameserv (tnameserv) in auto mode\n",
            "Setting up openjdk-8-jdk-headless:amd64 (8u422-b05-1~22.04) ...\n",
            "update-alternatives: using /usr/lib/jvm/java-8-openjdk-amd64/bin/clhsdb to provide /usr/bin/clhsdb (clhsdb) in auto mode\n",
            "update-alternatives: using /usr/lib/jvm/java-8-openjdk-amd64/bin/extcheck to provide /usr/bin/extcheck (extcheck) in auto mode\n",
            "update-alternatives: using /usr/lib/jvm/java-8-openjdk-amd64/bin/hsdb to provide /usr/bin/hsdb (hsdb) in auto mode\n",
            "update-alternatives: using /usr/lib/jvm/java-8-openjdk-amd64/bin/idlj to provide /usr/bin/idlj (idlj) in auto mode\n",
            "update-alternatives: using /usr/lib/jvm/java-8-openjdk-amd64/bin/javah to provide /usr/bin/javah (javah) in auto mode\n",
            "update-alternatives: using /usr/lib/jvm/java-8-openjdk-amd64/bin/jhat to provide /usr/bin/jhat (jhat) in auto mode\n",
            "update-alternatives: using /usr/lib/jvm/java-8-openjdk-amd64/bin/jsadebugd to provide /usr/bin/jsadebugd (jsadebugd) in auto mode\n",
            "update-alternatives: using /usr/lib/jvm/java-8-openjdk-amd64/bin/native2ascii to provide /usr/bin/native2ascii (native2ascii) in auto mode\n",
            "update-alternatives: using /usr/lib/jvm/java-8-openjdk-amd64/bin/schemagen to provide /usr/bin/schemagen (schemagen) in auto mode\n",
            "update-alternatives: using /usr/lib/jvm/java-8-openjdk-amd64/bin/wsgen to provide /usr/bin/wsgen (wsgen) in auto mode\n",
            "update-alternatives: using /usr/lib/jvm/java-8-openjdk-amd64/bin/wsimport to provide /usr/bin/wsimport (wsimport) in auto mode\n",
            "update-alternatives: using /usr/lib/jvm/java-8-openjdk-amd64/bin/xjc to provide /usr/bin/xjc (xjc) in auto mode\n",
            "Processing triggers for libc-bin (2.35-0ubuntu3.4) ...\n",
            "/sbin/ldconfig.real: /usr/local/lib/libtbbbind_2_5.so.3 is not a symbolic link\n",
            "\n",
            "/sbin/ldconfig.real: /usr/local/lib/libtbb.so.12 is not a symbolic link\n",
            "\n",
            "/sbin/ldconfig.real: /usr/local/lib/libur_loader.so.0 is not a symbolic link\n",
            "\n",
            "/sbin/ldconfig.real: /usr/local/lib/libtbbbind_2_0.so.3 is not a symbolic link\n",
            "\n",
            "/sbin/ldconfig.real: /usr/local/lib/libtbbmalloc_proxy.so.2 is not a symbolic link\n",
            "\n",
            "/sbin/ldconfig.real: /usr/local/lib/libur_adapter_opencl.so.0 is not a symbolic link\n",
            "\n",
            "/sbin/ldconfig.real: /usr/local/lib/libtbbbind.so.3 is not a symbolic link\n",
            "\n",
            "/sbin/ldconfig.real: /usr/local/lib/libtbbmalloc.so.2 is not a symbolic link\n",
            "\n",
            "/sbin/ldconfig.real: /usr/local/lib/libur_adapter_level_zero.so.0 is not a symbolic link\n",
            "\n"
          ]
        }
      ],
      "source": [
        "!pip install pyspark\n",
        "!pip install -U -q PyDrive\n",
        "!apt install openjdk-8-jdk-headless -qq\n",
        "import os\n",
        "os.environ[\"JAVA_HOME\"] = \"/usr/lib/jvm/java-8-openjdk-amd64\""
      ]
    },
    {
      "cell_type": "markdown",
      "source": [
        "Now we authenticate a Google Drive client to download the file we will be processing in our Spark job.\n",
        "\n",
        "**Make sure to follow the interactive instructions.**"
      ],
      "metadata": {
        "id": "cCNkNzbNZEOp"
      }
    },
    {
      "cell_type": "code",
      "source": [
        "from pyspark.sql import *\n",
        "from pyspark.sql.functions import *\n",
        "from pyspark import SparkContext\n",
        "import pandas as pd\n",
        "\n",
        "# create the Spark Session\n",
        "spark = SparkSession.builder.getOrCreate()\n",
        "\n",
        "# create the Spark Context\n",
        "sc = spark.sparkContext"
      ],
      "metadata": {
        "id": "LFZXyGgJZISe"
      },
      "execution_count": 2,
      "outputs": []
    },
    {
      "cell_type": "markdown",
      "source": [
        "Put all your imports, and path constants in the next cells."
      ],
      "metadata": {
        "id": "3flXijoNxGW5"
      }
    },
    {
      "cell_type": "code",
      "source": [
        "# from itertools import combinations\n",
        "# from operator import add\n"
      ],
      "metadata": {
        "id": "UZlFnHCuxPik"
      },
      "execution_count": 3,
      "outputs": []
    },
    {
      "cell_type": "markdown",
      "source": [
        "## Q1 - Message Count in Spark"
      ],
      "metadata": {
        "id": "zBzZCFTUZVIO"
      }
    },
    {
      "cell_type": "markdown",
      "source": [
        "### Load the dataset"
      ],
      "metadata": {
        "id": "NG8u58Eh3onu"
      }
    },
    {
      "cell_type": "code",
      "source": [
        "from pydrive.auth import GoogleAuth\n",
        "from pydrive.drive import GoogleDrive\n",
        "from google.colab import auth\n",
        "from oauth2client.client import GoogleCredentials\n",
        "\n",
        "# Authenticate and create the PyDrive client\n",
        "auth.authenticate_user()\n",
        "gauth = GoogleAuth()\n",
        "gauth.credentials = GoogleCredentials.get_application_default()\n",
        "drive = GoogleDrive(gauth)"
      ],
      "metadata": {
        "id": "pSLA9G5UZBI5",
        "colab": {
          "base_uri": "https://localhost:8080/"
        },
        "outputId": "4f09a5bb-5abb-4925-ef47-1d027e822b0c"
      },
      "execution_count": 4,
      "outputs": [
        {
          "output_type": "stream",
          "name": "stderr",
          "text": [
            "WARNING:root:pydrive is deprecated and no longer maintained. We recommend that you migrate your projects to pydrive2, the maintained fork of pydrive\n"
          ]
        }
      ]
    },
    {
      "cell_type": "code",
      "source": [
        "# first make sure to upload the werkmap_messages.csv file from the data folder of your starter repository to colab's files\n",
        "werkmap_message_data = 'werkmap_messages.csv'"
      ],
      "metadata": {
        "id": "z8-4i36t9AVy"
      },
      "execution_count": 5,
      "outputs": []
    },
    {
      "cell_type": "markdown",
      "source": [
        "If you executed the cells above, you should be able to see the file *plotsummaries.txt* under the \"Files\" tab on the left panel."
      ],
      "metadata": {
        "id": "Zy7nM4ltZP3x"
      }
    },
    {
      "cell_type": "markdown",
      "source": [
        "### Write your function in the next cells"
      ],
      "metadata": {
        "id": "APxI9MCs4Ovz"
      }
    },
    {
      "cell_type": "code",
      "source": [
        "def get_month_year(row):\n",
        "    \"\"\"\n",
        "    INPUT:\n",
        "        row : a row of the input data\n",
        "    OUTPUT:\n",
        "        month_year : string\n",
        "    \"\"\"\n",
        "\n",
        "    # YOUR CODE HERE\n",
        "    eventDateTime = (row.split(';'))[5]\n",
        "    month_year = (eventDateTime.split(' '))[0]\n",
        "    month = month_year.split('-')[1]\n",
        "    year = month_year.split('-')[0]\n",
        "    return year+'-'+month\n",
        "\n",
        "# You may have additional functions or modify the provided functions as necessary"
      ],
      "metadata": {
        "id": "82TmJ8Ii3u4q"
      },
      "execution_count": 6,
      "outputs": []
    },
    {
      "cell_type": "markdown",
      "source": [
        "## Run your function in the next cells to output required content."
      ],
      "metadata": {
        "id": "tcXHqu7q6IwZ"
      }
    },
    {
      "cell_type": "code",
      "source": [
        "rdd = sc.textFile(werkmap_message_data)\n",
        "header = rdd.first()\n",
        "rdd = rdd.filter(lambda line: line!= header)\n",
        "\n",
        "rdd = rdd.map(get_month_year)\n",
        "rdd = rdd.map(lambda my: (my,1))\n",
        "rdd_count = rdd.reduceByKey(lambda x,y:(x+y)).sortByKey()\n",
        "rdd_count.take(20)"
      ],
      "metadata": {
        "id": "ZAIIrExX5_H-",
        "colab": {
          "base_uri": "https://localhost:8080/"
        },
        "outputId": "0f499416-9941-4fc8-cd19-777e1b510e61"
      },
      "execution_count": 7,
      "outputs": [
        {
          "output_type": "execute_result",
          "data": {
            "text/plain": [
              "[('2015-07', 2933),\n",
              " ('2015-08', 3954),\n",
              " ('2015-09', 7079),\n",
              " ('2015-10', 8483),\n",
              " ('2015-11', 9695),\n",
              " ('2015-12', 9572),\n",
              " ('2016-01', 12582),\n",
              " ('2016-02', 11760)]"
            ]
          },
          "metadata": {},
          "execution_count": 7
        }
      ]
    },
    {
      "cell_type": "code",
      "source": [
        "columns = [\"date\",\"count\"]\n",
        "df_count = rdd_count.toDF(columns)\n",
        "df_count.show()"
      ],
      "metadata": {
        "colab": {
          "base_uri": "https://localhost:8080/"
        },
        "id": "UQpsj77DXo98",
        "outputId": "559e319c-ff63-4505-89e9-2dc24bda4783"
      },
      "execution_count": 8,
      "outputs": [
        {
          "output_type": "stream",
          "name": "stdout",
          "text": [
            "+-------+-----+\n",
            "|   date|count|\n",
            "+-------+-----+\n",
            "|2015-07| 2933|\n",
            "|2015-08| 3954|\n",
            "|2015-09| 7079|\n",
            "|2015-10| 8483|\n",
            "|2015-11| 9695|\n",
            "|2015-12| 9572|\n",
            "|2016-01|12582|\n",
            "|2016-02|11760|\n",
            "+-------+-----+\n",
            "\n"
          ]
        }
      ]
    },
    {
      "cell_type": "code",
      "source": [
        "#Change to date to order by time and change back to string\n",
        "df_count = df_count.withColumn(\"date\", to_date(df_count[\"date\"], \"yyyy-MM\"))\n",
        "\n",
        "df_count = df_count.orderBy(col(\"date\").asc())\n",
        "\n",
        "df_count = df_count.withColumn(\"date\", date_format(df_count[\"date\"], \"yyyy-MM\"))\n",
        "df_count.show()"
      ],
      "metadata": {
        "colab": {
          "base_uri": "https://localhost:8080/"
        },
        "id": "jy-2GzfRYbiG",
        "outputId": "cfb5c81a-4c8c-4eb9-939f-986c6b1baf48"
      },
      "execution_count": 9,
      "outputs": [
        {
          "output_type": "stream",
          "name": "stdout",
          "text": [
            "+-------+-----+\n",
            "|   date|count|\n",
            "+-------+-----+\n",
            "|2015-07| 2933|\n",
            "|2015-08| 3954|\n",
            "|2015-09| 7079|\n",
            "|2015-10| 8483|\n",
            "|2015-11| 9695|\n",
            "|2015-12| 9572|\n",
            "|2016-01|12582|\n",
            "|2016-02|11760|\n",
            "+-------+-----+\n",
            "\n"
          ]
        }
      ]
    },
    {
      "cell_type": "code",
      "source": [
        "df_count_pandas = df_count.toPandas()\n",
        "df_count_pandas.to_csv(\"/content/Q1.txt\", sep='\\t', index=False)"
      ],
      "metadata": {
        "id": "kFmB8H-UQWLi"
      },
      "execution_count": 10,
      "outputs": []
    },
    {
      "cell_type": "markdown",
      "source": [
        "## PART 2 - Oxford Covid-19 Government Response Tracker"
      ],
      "metadata": {
        "id": "pYACdWmz6MUT"
      }
    },
    {
      "cell_type": "markdown",
      "source": [
        "### Load the dataset"
      ],
      "metadata": {
        "id": "7Cvzdbj37zyh"
      }
    },
    {
      "cell_type": "code",
      "source": [
        "id='1J_2ido9_-LiasNi8xlzk5-DeHu-2_4Zs'\n",
        "downloaded = drive.CreateFile({'id': id})\n",
        "downloaded.GetContentFile('OxCGRT_USA_latest.csv')"
      ],
      "metadata": {
        "id": "rfUnVaKo6WaR"
      },
      "execution_count": 11,
      "outputs": []
    },
    {
      "cell_type": "markdown",
      "source": [
        "### Q2 - Computing Index Score with Spark"
      ],
      "metadata": {
        "id": "GFUIJwlD8KiM"
      }
    },
    {
      "cell_type": "code",
      "source": [
        "def clean_data(df):\n",
        "    \"\"\"\n",
        "    INPUT:\n",
        "        df: spark dataframe\n",
        "    OUTPUT:\n",
        "        cleaned data: spark dataframe\n",
        "\n",
        "    NOTE: output the given word with characters stripped.\n",
        "    \"\"\"\n",
        "    # YOUR CODE HERE\n",
        "\n",
        "    #Remove NULL RegionName\n",
        "    result = df.select([\"regionName\"]+[\"Date\"] + indicators + indicator_flags)\n",
        "    result = result.filter(col(\"RegionName\").isNotNull())\n",
        "\n",
        "    #Use only data in year 2020,2021\n",
        "    result = result.withColumn(\"Date\", to_date(result[\"Date\"], \"yyyyMMdd\"))\n",
        "    result = result.filter(year(result[\"Date\"]).isin(2020, 2021))\n",
        "    result = result.withColumn(\"Date\", date_format(result[\"Date\"], \"yyyyMMdd\"))\n",
        "\n",
        "    #Cast indicators+flags columns to float for easy calculation\n",
        "    for p in indicators+indicator_flags:\n",
        "      result = result.withColumn(p, col(p).cast(\"float\"))\n",
        "\n",
        "    #Consider only Year Month to groupBy Later\n",
        "    result = result.withColumn(\"Date\", substring(col(\"Date\"), 1, 6))\n",
        "    return result\n",
        "\n",
        "\n",
        "\n",
        "\n",
        "\n",
        "def impute_data(df):\n",
        "    \"\"\"\n",
        "    INPUT:\n",
        "        df: spark dataframe\n",
        "    OUTPUT:\n",
        "        imputed data: spark dataframe\n",
        "\n",
        "    NOTE: output the dataframe with nan values replaced with the minimal value of the given indicator.\n",
        "    \"\"\"\n",
        "    # YOUR CODE HERE\n",
        "\n",
        "    result = df.na.fill(value=0)\n",
        "    return result\n",
        "\n",
        "\n",
        "def group_and_aggregate_data(df):\n",
        "    \"\"\"\n",
        "    INPUT:\n",
        "        df: spark dataframe\n",
        "    OUTPUT:\n",
        "        groupe and aggregated data: spark dataframe\n",
        "\n",
        "    NOTE: output the dataframe with grouped (by month) and aggregated (based on the algorithm) data.\n",
        "    \"\"\"\n",
        "    # YOUR CODE HERE\n",
        "    unique_region_date = df.select(\"regionName\",\"Date\").distinct()\n",
        "\n",
        "    for p in indicators+indicator_flags:\n",
        "      grouped_df = df.groupBy(\"regionName\",\"Date\",p).agg(count(p).alias(\"Count \" + p))\n",
        "      #https://stackoverflow.com/questions/36654162/mode-of-grouped-data-in-pyspark\n",
        "      result_df = grouped_df.groupBy(\"regionName\",\"Date\").agg(max(struct(col(\"Count \" + p), col(p))).alias(\"Max\" + p)).select(col('regionName'),col('Date'),col('Max'+p+'.'+p))\n",
        "      unique_region_date = unique_region_date.join(result_df, on = [\"regionName\",\"Date\"], how=\"inner\")\n",
        "    #unique_region_date will now be a dataframe with mode of each month of each state, considering larger values if ties\n",
        "    return unique_region_date\n",
        "\n",
        "def compute_index_score(df):\n",
        "    \"\"\"\n",
        "    INPUT:\n",
        "        df: spark dataframe\n",
        "    OUTPUT:\n",
        "        list of index scores per region and period: list\n",
        "\n",
        "    NOTE: output a list of computed scores per region and period based on the algorithm.\n",
        "    \"\"\"\n",
        "    # YOUR CODE HERE\n",
        "    #Computing I(j,t)\n",
        "    for i in indicators:\n",
        "      temp = i.split(\"_\")\n",
        "      flag = temp[0] + \"_Flag\"\n",
        "      if i in [\"C8EV_International travel controls\",\"E2_Debt/contract relief\",\"H2_Testing policy\",\"H3_Contact tracing\"]:\n",
        "        F_value = 0\n",
        "      else:\n",
        "        F_value = 1\n",
        "\n",
        "      if flag not in indicator_flags:\n",
        "        ft = 0\n",
        "      else:\n",
        "        ft = col(flag)\n",
        "\n",
        "      if i in [\"C3M_Cancel public events\",\"C5M_Close public transport\",\"C7M_Restrictions on internal movement\",\"E1_Income support\",\"E2_Debt/contract relief\",\"H1_Public information campaigns\",\"H3_Contact tracing\"]:\n",
        "        N = 2\n",
        "      elif i in [\"C1M_School closing\",\"C2M_Workplace closing\",\"C6M_Stay at home requirements\",\"H2_Testing policy\",\"H8M_Protection of elderly people\"]:\n",
        "        N = 3\n",
        "      elif i in [\"C4M_Restrictions on gatherings\",\"C8EV_International travel controls\",\"H6M_Facial Coverings\"]:\n",
        "        N = 4\n",
        "      else:\n",
        "        N = 5\n",
        "      df = df.withColumn(f\"I{temp[0]}\", (100/N)*(col(i) - 0.5*(F_value-ft)))\n",
        "    return df\n",
        "\n",
        "# You may have additional functions\n"
      ],
      "metadata": {
        "id": "G4VuOGh78O4r"
      },
      "execution_count": 12,
      "outputs": []
    },
    {
      "cell_type": "code",
      "source": [
        "# You may use below lists to get indicators and flags header\n",
        "indicators = [\"C1M_School closing\",\n",
        "\"C2M_Workplace closing\",\n",
        "\"C3M_Cancel public events\",\n",
        "\"C4M_Restrictions on gatherings\",\n",
        "\"C5M_Close public transport\",\n",
        "\"C6M_Stay at home requirements\",\n",
        "\"C7M_Restrictions on internal movement\",\n",
        "\"C8EV_International travel controls\",\n",
        "\"E1_Income support\",\n",
        "\"E2_Debt/contract relief\",\n",
        "\"H1_Public information campaigns\",\n",
        "\"H2_Testing policy\",\n",
        "\"H3_Contact tracing\",\n",
        "\"H6M_Facial Coverings\",\n",
        "\"H7_Vaccination policy\",\n",
        "\"H8M_Protection of elderly people\"]\n",
        "\n",
        "indicator_flags = [\"C1M_Flag\",\n",
        "\"C2M_Flag\",\n",
        "\"C3M_Flag\",\n",
        "\"C4M_Flag\",\n",
        "\"C5M_Flag\",\n",
        "\"C6M_Flag\",\n",
        "\"C7M_Flag\",\n",
        "\"E1_Flag\",\n",
        "\"H1_Flag\",\n",
        "\"H6M_Flag\",\n",
        "\"H7_Flag\",\n",
        "\"H8M_Flag\"]"
      ],
      "metadata": {
        "id": "aqQjGWmB7ykZ"
      },
      "execution_count": 13,
      "outputs": []
    },
    {
      "cell_type": "markdown",
      "source": [
        "Run your function in the next cells to output required content."
      ],
      "metadata": {
        "id": "rEocWs4stsKs"
      }
    },
    {
      "cell_type": "code",
      "source": [
        "spark.stop()\n",
        "spark = SparkSession.builder.getOrCreate()\n",
        "\n",
        "OxCGRT_latest = spark.read.option(\"header\", True).csv(\"OxCGRT_USA_latest.csv\")\n"
      ],
      "metadata": {
        "id": "iQgFxcyQJkBT"
      },
      "execution_count": 14,
      "outputs": []
    },
    {
      "cell_type": "code",
      "source": [
        "OxCGRT_latest.sample(fraction=0.1).show()"
      ],
      "metadata": {
        "colab": {
          "base_uri": "https://localhost:8080/"
        },
        "id": "-GKeaY2TKSYl",
        "outputId": "6c7c92e1-5ef3-4e7b-8a10-4fec8d744a10"
      },
      "execution_count": 15,
      "outputs": [
        {
          "output_type": "stream",
          "name": "stdout",
          "text": [
            "+-------------+-----------+----------+----------+------------+--------+------------------+--------+---------------------+--------+------------------------+--------+------------------------------+--------+--------------------------+--------+-----------------------------+--------+-------------------------------------+--------+----------------------------------+-----------------+-------+-----------------------+------------------+------------------------+-------------------------------+-------+-----------------+------------------+-------------------------------------+-------------------------+--------------------+--------+---------------------+-------+--------------------------------+--------+-----------+-----------------------------------+----------------------------------+-------------------------------------------------------------------------------+--------------------------------------------------------------------+--------------------------------------------------+-------------+---------------------------------------+-----------------------------------+--------------------------------------+----------------------------------+--------------+---------------+------------------+--------------------+-----------------------+----------------------------------+-------------------------------+------------------------------------------+------------------------------+-----------------------------------------+--------------------+-------------------------------+\n",
            "|  CountryName|CountryCode|RegionName|RegionCode|Jurisdiction|    Date|C1M_School closing|C1M_Flag|C2M_Workplace closing|C2M_Flag|C3M_Cancel public events|C3M_Flag|C4M_Restrictions on gatherings|C4M_Flag|C5M_Close public transport|C5M_Flag|C6M_Stay at home requirements|C6M_Flag|C7M_Restrictions on internal movement|C7M_Flag|C8EV_International travel controls|E1_Income support|E1_Flag|E2_Debt/contract relief|E3_Fiscal measures|E4_International support|H1_Public information campaigns|H1_Flag|H2_Testing policy|H3_Contact tracing|H4_Emergency investment in healthcare|H5_Investment in vaccines|H6M_Facial Coverings|H6M_Flag|H7_Vaccination policy|H7_Flag|H8M_Protection of elderly people|H8M_Flag|M1_Wildcard|V1_Vaccine Prioritisation (summary)|V2A_Vaccine Availability (summary)|V2B_Vaccine age eligibility/availability age floor (general population summary)|V2C_Vaccine age eligibility/availability age floor (at risk summary)|V2D_Medically/ clinically vulnerable (Non-elderly)|V2E_Education|V2F_Frontline workers  (non healthcare)|V2G_Frontline workers  (healthcare)|V3_Vaccine Financial Support (summary)|V4_Mandatory Vaccination (summary)|ConfirmedCases|ConfirmedDeaths|MajorityVaccinated|PopulationVaccinated|StringencyIndex_Average|StringencyIndex_Average_ForDisplay|GovernmentResponseIndex_Average|GovernmentResponseIndex_Average_ForDisplay|ContainmentHealthIndex_Average|ContainmentHealthIndex_Average_ForDisplay|EconomicSupportIndex|EconomicSupportIndex_ForDisplay|\n",
            "+-------------+-----------+----------+----------+------------+--------+------------------+--------+---------------------+--------+------------------------+--------+------------------------------+--------+--------------------------+--------+-----------------------------+--------+-------------------------------------+--------+----------------------------------+-----------------+-------+-----------------------+------------------+------------------------+-------------------------------+-------+-----------------+------------------+-------------------------------------+-------------------------+--------------------+--------+---------------------+-------+--------------------------------+--------+-----------+-----------------------------------+----------------------------------+-------------------------------------------------------------------------------+--------------------------------------------------------------------+--------------------------------------------------+-------------+---------------------------------------+-----------------------------------+--------------------------------------+----------------------------------+--------------+---------------+------------------+--------------------+-----------------------+----------------------------------+-------------------------------+------------------------------------------+------------------------------+-----------------------------------------+--------------------+-------------------------------+\n",
            "|United States|        USA|      NULL|      NULL|   NAT_TOTAL|20200129|              0.00|    NULL|                 0.00|    NULL|                    0.00|    NULL|                          0.00|    NULL|                      0.00|    NULL|                         0.00|    NULL|                                 0.00|    NULL|                              0.00|             0.00|   NULL|                   0.00|              0.00|                    0.00|                           0.00|   NULL|             1.00|              1.00|                                 0.00|                     0.00|                0.00|    NULL|                 0.00|   NULL|                            0.00|    NULL|       NULL|                                  0|                                 0|                                                                           NULL|                                                                NULL|                                              NULL|         NULL|                                   NULL|                               NULL|                                     0|                                 0|             6|              0|                NV|                0.00|                   0.00|                              0.00|                           5.21|                                      5.21|                          5.95|                                     5.95|                0.00|                           0.00|\n",
            "|United States|        USA|      NULL|      NULL|   NAT_TOTAL|20200215|              0.00|    NULL|                 0.00|    NULL|                    0.00|    NULL|                          0.00|    NULL|                      0.00|    NULL|                         0.00|    NULL|                                 0.00|    NULL|                              3.00|             0.00|   NULL|                   0.00|              0.00|                    0.00|                           0.00|   NULL|             1.00|              1.00|                                 0.00|                     0.00|                0.00|    NULL|                 0.00|   NULL|                            3.00|       0|       NULL|                                  0|                                 0|                                                                           NULL|                                                                NULL|                                              NULL|         NULL|                                   NULL|                               NULL|                                     0|                                 0|            14|              0|                NV|                0.00|                   8.33|                              8.33|                          15.10|                                     15.10|                         17.26|                                    17.26|                0.00|                           0.00|\n",
            "|United States|        USA|      NULL|      NULL|   NAT_TOTAL|20200315|              3.00|       0|                 0.00|    NULL|                    2.00|       0|                          2.00|       0|                      0.00|    NULL|                         2.00|       0|                                 1.00|       1|                              3.00|             0.00|   NULL|                   0.00|              0.00|                    0.00|                           0.00|   NULL|             1.00|              1.00|                                 0.00|                     0.00|                1.00|       0|                 0.00|   NULL|                            3.00|       0|       NULL|                                  0|                                 0|                                                                           NULL|                                                                NULL|                                              NULL|         NULL|                                   NULL|                               NULL|                                     0|                                 0|          3212|             70|                NV|                0.00|                  41.20|                             41.20|                          34.38|                                     34.38|                         39.29|                                    39.29|                0.00|                           0.00|\n",
            "|United States|        USA|      NULL|      NULL|   NAT_TOTAL|20200317|              3.00|       0|                 0.00|    NULL|                    2.00|       0|                          2.00|       0|                      1.00|       0|                         2.00|       0|                                 1.00|       1|                              3.00|             0.00|   NULL|                   0.00|              0.00|                    0.00|                           2.00|      1|             1.00|              1.00|                                 0.00|                     0.00|                1.00|       0|                 0.00|   NULL|                            3.00|       0|       NULL|                                  0|                                 0|                                                                           NULL|                                                                NULL|                                              NULL|         NULL|                                   NULL|                               NULL|                                     0|                                 0|          6512|            134|                NV|                0.00|                  55.09|                             55.09|                          42.19|                                     42.19|                         48.21|                                    48.21|                0.00|                           0.00|\n",
            "|United States|        USA|      NULL|      NULL|   NAT_TOTAL|20200419|              3.00|       0|                 3.00|       0|                    2.00|       0|                          4.00|       0|                      1.00|       0|                         2.00|       0|                                 2.00|       0|                              3.00|             2.00|      0|                   1.00|              0.00|                    0.00|                           2.00|      1|             1.00|              1.00|                                 0.00|                     0.00|                4.00|       0|                 0.00|   NULL|                            3.00|       0|       NULL|                                  0|                                 0|                                                                           NULL|                                                                NULL|                                              NULL|         NULL|                                   NULL|                               NULL|                                     0|                                 0|        768888|          43510|                NV|                0.00|                  72.69|                             72.69|                          64.58|                                     64.58|                         64.88|                                    64.88|               62.50|                          62.50|\n",
            "|United States|        USA|      NULL|      NULL|   NAT_TOTAL|20200503|              3.00|       0|                 3.00|       0|                    2.00|       0|                          4.00|       0|                      1.00|       0|                         2.00|       0|                                 2.00|       0|                              3.00|             2.00|      0|                   1.00|              0.00|                    0.00|                           2.00|      1|             1.00|              1.00|                                 0.00|                     0.00|                4.00|       0|                 0.00|   NULL|                            3.00|       0|       NULL|                                  0|                                 0|                                                                           NULL|                                                                NULL|                                              NULL|         NULL|                                   NULL|                               NULL|                                     0|                                 0|       1166189|          71492|                NV|                0.00|                  72.69|                             72.69|                          64.58|                                     64.58|                         64.88|                                    64.88|               62.50|                          62.50|\n",
            "|United States|        USA|      NULL|      NULL|   NAT_TOTAL|20200507|              3.00|       0|                 3.00|       0|                    2.00|       0|                          4.00|       0|                      1.00|       0|                         2.00|       0|                                 2.00|       0|                              3.00|             2.00|      0|                   1.00|              0.00|                    0.00|                           2.00|      1|             1.00|              1.00|                                 0.00|                     0.00|                4.00|       0|                 0.00|   NULL|                            3.00|       0|       NULL|                                  0|                                 0|                                                                           NULL|                                                                NULL|                                              NULL|         NULL|                                   NULL|                               NULL|                                     0|                                 0|       1266904|          79262|                NV|                0.00|                  72.69|                             72.69|                          64.58|                                     64.58|                         64.88|                                    64.88|               62.50|                          62.50|\n",
            "|United States|        USA|      NULL|      NULL|   NAT_TOTAL|20200508|              3.00|       0|                 3.00|       0|                    2.00|       0|                          4.00|       0|                      1.00|       0|                         2.00|       0|                                 2.00|       0|                              3.00|             2.00|      0|                   1.00|              0.00|                    0.00|                           2.00|      1|             1.00|              1.00|                                 0.00|                     0.00|                4.00|       0|                 0.00|   NULL|                            3.00|       0|       NULL|                                  0|                                 0|                                                                           NULL|                                                                NULL|                                              NULL|         NULL|                                   NULL|                               NULL|                                     0|                                 0|       1294111|          81033|                NV|                0.00|                  72.69|                             72.69|                          64.58|                                     64.58|                         64.88|                                    64.88|               62.50|                          62.50|\n",
            "|United States|        USA|      NULL|      NULL|   NAT_TOTAL|20200515|              3.00|       0|                 3.00|       0|                    2.00|       0|                          4.00|       0|                      1.00|       0|                         2.00|       0|                                 2.00|       0|                              3.00|             2.00|      0|                   1.00|              0.00|                    0.00|                           2.00|      1|             1.00|              1.00|                                 0.00|                     0.00|                4.00|       0|                 0.00|   NULL|                            3.00|       0|       NULL|                                  0|                                 0|                                                                           NULL|                                                                NULL|                                              NULL|         NULL|                                   NULL|                               NULL|                                     0|                                 0|       1449938|          91205|                NV|                0.00|                  72.69|                             72.69|                          64.58|                                     64.58|                         64.88|                                    64.88|               62.50|                          62.50|\n",
            "|United States|        USA|      NULL|      NULL|   NAT_TOTAL|20200610|              3.00|       0|                 3.00|       0|                    2.00|       0|                          4.00|       0|                      1.00|       0|                         2.00|       0|                                 2.00|       0|                              3.00|             2.00|      0|                   1.00|              0.00|                    0.00|                           2.00|      1|             1.00|              1.00|                                 0.00|                     0.00|                4.00|       0|                 0.00|   NULL|                            3.00|       0|       NULL|                                  0|                                 0|                                                                           NULL|                                                                NULL|                                              NULL|         NULL|                                   NULL|                               NULL|                                     0|                                 0|       1999224|         115836|                NV|                0.00|                  72.69|                             72.69|                          64.58|                                     64.58|                         64.88|                                    64.88|               62.50|                          62.50|\n",
            "|United States|        USA|      NULL|      NULL|   NAT_TOTAL|20200629|              3.00|       0|                 2.00|       0|                    2.00|       0|                          4.00|       0|                      1.00|       0|                         2.00|       0|                                 2.00|       0|                              3.00|             2.00|      0|                   1.00|              0.00|                    0.00|                           2.00|      1|             2.00|              1.00|                                 0.00|                     0.00|                4.00|       0|                 0.00|   NULL|                            3.00|       0|       NULL|                                  0|                                 0|                                                                           NULL|                                                                NULL|                                              NULL|         NULL|                                   NULL|                               NULL|                                     0|                                 0|       2598741|         126881|                NV|                0.00|                  68.98|                             68.98|                          64.58|                                     64.58|                         64.88|                                    64.88|               62.50|                          62.50|\n",
            "|United States|        USA|      NULL|      NULL|   NAT_TOTAL|20200712|              3.00|       0|                 2.00|       0|                    2.00|       0|                          4.00|       0|                      1.00|       0|                         2.00|       0|                                 2.00|       0|                              3.00|             2.00|      0|                   1.00|              0.00|                    0.00|                           2.00|      1|             2.00|              1.00|                                 0.00|                     0.00|                4.00|       0|                 0.00|   NULL|                            3.00|       0|       NULL|                                  0|                                 0|                                                                           NULL|                                                                NULL|                                              NULL|         NULL|                                   NULL|                               NULL|                                     0|                                 0|       3315407|         135632|                NV|                0.00|                  68.98|                             68.98|                          64.58|                                     64.58|                         64.88|                                    64.88|               62.50|                          62.50|\n",
            "|United States|        USA|      NULL|      NULL|   NAT_TOTAL|20200721|              3.00|       0|                 2.00|       0|                    2.00|       0|                          4.00|       0|                      1.00|       0|                         2.00|       0|                                 2.00|       0|                              3.00|             2.00|      0|                   1.00|              0.00|                    0.00|                           2.00|      1|             2.00|              1.00|                                 0.00|                     0.00|                4.00|       0|                 0.00|   NULL|                            3.00|       0|       NULL|                                  0|                                 0|                                                                           NULL|                                                                NULL|                                              NULL|         NULL|                                   NULL|                               NULL|                                     0|                                 0|       3896753|         142823|                NV|                0.00|                  68.98|                             68.98|                          64.58|                                     64.58|                         64.88|                                    64.88|               62.50|                          62.50|\n",
            "|United States|        USA|      NULL|      NULL|   NAT_TOTAL|20200728|              3.00|       0|                 2.00|       0|                    2.00|       0|                          4.00|       0|                      1.00|       0|                         2.00|       0|                                 2.00|       0|                              3.00|             2.00|      0|                   1.00|              0.00|                    0.00|                           2.00|      1|             2.00|              1.00|                                 0.00|                     0.00|                4.00|       0|                 0.00|   NULL|                            3.00|       0|       NULL|                                  0|                                 0|                                                                           NULL|                                                                NULL|                                              NULL|         NULL|                                   NULL|                               NULL|                                     0|                                 0|       4350866|         150063|                NV|                0.00|                  68.98|                             68.98|                          64.58|                                     64.58|                         64.88|                                    64.88|               62.50|                          62.50|\n",
            "|United States|        USA|      NULL|      NULL|   NAT_TOTAL|20200815|              3.00|       0|                 2.00|       0|                    2.00|       0|                          4.00|       0|                      1.00|       0|                         2.00|       0|                                 2.00|       0|                              3.00|             2.00|      0|                   1.00|              0.00|                    0.00|                           2.00|      1|             2.00|              1.00|                                 0.00|                     0.00|                4.00|       0|                 0.00|   NULL|                            3.00|       0|       NULL|                                  0|                                 0|                                                                           NULL|                                                                NULL|                                              NULL|         NULL|                                   NULL|                               NULL|                                     0|                                 0|       5386449|         169423|                NV|                0.00|                  68.98|                             68.98|                          64.58|                                     64.58|                         64.88|                                    64.88|               62.50|                          62.50|\n",
            "|United States|        USA|      NULL|      NULL|   NAT_TOTAL|20200821|              3.00|       0|                 2.00|       0|                    2.00|       0|                          4.00|       0|                      1.00|       0|                         2.00|       0|                                 2.00|       0|                              3.00|             2.00|      0|                   1.00|              0.00|                    0.00|                           2.00|      1|             2.00|              1.00|                                 NULL|                     0.00|                4.00|       0|                 0.00|   NULL|                            3.00|       0|       NULL|                                  0|                                 0|                                                                           NULL|                                                                NULL|                                              NULL|         NULL|                                   NULL|                               NULL|                                     0|                                 0|       5642948|         174616|                NV|                0.00|                  68.98|                             68.98|                          64.58|                                     64.58|                         64.88|                                    64.88|               62.50|                          62.50|\n",
            "|United States|        USA|      NULL|      NULL|   NAT_TOTAL|20200822|              3.00|       0|                 2.00|       0|                    2.00|       0|                          4.00|       0|                      1.00|       0|                         2.00|       0|                                 2.00|       0|                              3.00|             2.00|      0|                   1.00|              0.00|                    0.00|                           2.00|      1|             2.00|              1.00|                                 NULL|                     0.00|                4.00|       0|                 0.00|   NULL|                            3.00|       0|       NULL|                                  0|                                 0|                                                                           NULL|                                                                NULL|                                              NULL|         NULL|                                   NULL|                               NULL|                                     0|                                 0|       5688219|         175578|                NV|                0.00|                  68.98|                             68.98|                          64.58|                                     64.58|                         64.88|                                    64.88|               62.50|                          62.50|\n",
            "|United States|        USA|      NULL|      NULL|   NAT_TOTAL|20200829|              3.00|       0|                 2.00|       0|                    2.00|       0|                          4.00|       0|                      1.00|       0|                         2.00|       0|                                 2.00|       0|                              3.00|             2.00|      0|                   1.00|              0.00|                    0.00|                           2.00|      1|             2.00|              1.00|                                 NULL|                     0.00|                4.00|       0|                 0.00|   NULL|                            3.00|       0|       NULL|                                  0|                                 0|                                                                           NULL|                                                                NULL|                                              NULL|         NULL|                                   NULL|                               NULL|                                     0|                                 0|       5978795|         181869|                NV|                0.00|                  68.98|                             68.98|                          64.58|                                     64.58|                         64.88|                                    64.88|               62.50|                          62.50|\n",
            "|United States|        USA|      NULL|      NULL|   NAT_TOTAL|20200910|              3.00|       0|                 2.00|       0|                    2.00|       0|                          4.00|       0|                      1.00|       0|                         2.00|       0|                                 2.00|       0|                              3.00|             2.00|      0|                   1.00|              0.00|                    0.00|                           2.00|      1|             2.00|              1.00|                                 NULL|                     0.00|                4.00|       0|                 0.00|   NULL|                            3.00|       0|       NULL|                                  0|                                 0|                                                                           NULL|                                                                NULL|                                              NULL|         NULL|                                   NULL|                               NULL|                                     0|                                 0|       6420040|         190930|                NV|                0.00|                  68.98|                             68.98|                          64.58|                                     64.58|                         64.88|                                    64.88|               62.50|                          62.50|\n",
            "|United States|        USA|      NULL|      NULL|   NAT_TOTAL|20200914|              3.00|       0|                 2.00|       0|                    2.00|       0|                          3.00|       0|                      1.00|       0|                         2.00|       0|                                 2.00|       0|                              3.00|             2.00|      0|                   1.00|              0.00|                    0.00|                           2.00|      1|             2.00|              1.00|                                 0.00|                     0.00|                4.00|       0|                 0.00|   NULL|                            3.00|       0|       NULL|                                  0|                                 0|                                                                           NULL|                                                                NULL|                                              NULL|         NULL|                                   NULL|                               NULL|                                     0|                                 0|       6583689|         193626|                NV|                0.00|                  66.20|                             66.20|                          63.02|                                     63.02|                         63.10|                                    63.10|               62.50|                          62.50|\n",
            "+-------------+-----------+----------+----------+------------+--------+------------------+--------+---------------------+--------+------------------------+--------+------------------------------+--------+--------------------------+--------+-----------------------------+--------+-------------------------------------+--------+----------------------------------+-----------------+-------+-----------------------+------------------+------------------------+-------------------------------+-------+-----------------+------------------+-------------------------------------+-------------------------+--------------------+--------+---------------------+-------+--------------------------------+--------+-----------+-----------------------------------+----------------------------------+-------------------------------------------------------------------------------+--------------------------------------------------------------------+--------------------------------------------------+-------------+---------------------------------------+-----------------------------------+--------------------------------------+----------------------------------+--------------+---------------+------------------+--------------------+-----------------------+----------------------------------+-------------------------------+------------------------------------------+------------------------------+-----------------------------------------+--------------------+-------------------------------+\n",
            "only showing top 20 rows\n",
            "\n"
          ]
        }
      ]
    },
    {
      "cell_type": "code",
      "source": [
        "OxCGRT_latest.select([\"RegionName\"]+[\"Date\"] + indicators + indicator_flags).where(col(\"RegionName\").isNull()).show()"
      ],
      "metadata": {
        "colab": {
          "base_uri": "https://localhost:8080/"
        },
        "id": "KoCIOM5oKXnR",
        "outputId": "667f7572-9aac-474e-902a-0585cf90c2ba"
      },
      "execution_count": 16,
      "outputs": [
        {
          "output_type": "stream",
          "name": "stdout",
          "text": [
            "+----------+--------+------------------+---------------------+------------------------+------------------------------+--------------------------+-----------------------------+-------------------------------------+----------------------------------+-----------------+-----------------------+-------------------------------+-----------------+------------------+--------------------+---------------------+--------------------------------+--------+--------+--------+--------+--------+--------+--------+-------+-------+--------+-------+--------+\n",
            "|RegionName|    Date|C1M_School closing|C2M_Workplace closing|C3M_Cancel public events|C4M_Restrictions on gatherings|C5M_Close public transport|C6M_Stay at home requirements|C7M_Restrictions on internal movement|C8EV_International travel controls|E1_Income support|E2_Debt/contract relief|H1_Public information campaigns|H2_Testing policy|H3_Contact tracing|H6M_Facial Coverings|H7_Vaccination policy|H8M_Protection of elderly people|C1M_Flag|C2M_Flag|C3M_Flag|C4M_Flag|C5M_Flag|C6M_Flag|C7M_Flag|E1_Flag|H1_Flag|H6M_Flag|H7_Flag|H8M_Flag|\n",
            "+----------+--------+------------------+---------------------+------------------------+------------------------------+--------------------------+-----------------------------+-------------------------------------+----------------------------------+-----------------+-----------------------+-------------------------------+-----------------+------------------+--------------------+---------------------+--------------------------------+--------+--------+--------+--------+--------+--------+--------+-------+-------+--------+-------+--------+\n",
            "|      NULL|20200101|              0.00|                 0.00|                    0.00|                          0.00|                      0.00|                         0.00|                                 0.00|                              0.00|             0.00|                   0.00|                           0.00|             0.00|              0.00|                0.00|                 0.00|                            0.00|    NULL|    NULL|    NULL|    NULL|    NULL|    NULL|    NULL|   NULL|   NULL|    NULL|   NULL|    NULL|\n",
            "|      NULL|20200102|              0.00|                 0.00|                    0.00|                          0.00|                      0.00|                         0.00|                                 0.00|                              0.00|             0.00|                   0.00|                           0.00|             0.00|              0.00|                0.00|                 0.00|                            0.00|    NULL|    NULL|    NULL|    NULL|    NULL|    NULL|    NULL|   NULL|   NULL|    NULL|   NULL|    NULL|\n",
            "|      NULL|20200103|              0.00|                 0.00|                    0.00|                          0.00|                      0.00|                         0.00|                                 0.00|                              0.00|             0.00|                   0.00|                           0.00|             0.00|              0.00|                0.00|                 0.00|                            0.00|    NULL|    NULL|    NULL|    NULL|    NULL|    NULL|    NULL|   NULL|   NULL|    NULL|   NULL|    NULL|\n",
            "|      NULL|20200104|              0.00|                 0.00|                    0.00|                          0.00|                      0.00|                         0.00|                                 0.00|                              0.00|             0.00|                   0.00|                           0.00|             0.00|              0.00|                0.00|                 0.00|                            0.00|    NULL|    NULL|    NULL|    NULL|    NULL|    NULL|    NULL|   NULL|   NULL|    NULL|   NULL|    NULL|\n",
            "|      NULL|20200105|              0.00|                 0.00|                    0.00|                          0.00|                      0.00|                         0.00|                                 0.00|                              0.00|             0.00|                   0.00|                           0.00|             0.00|              0.00|                0.00|                 0.00|                            0.00|    NULL|    NULL|    NULL|    NULL|    NULL|    NULL|    NULL|   NULL|   NULL|    NULL|   NULL|    NULL|\n",
            "|      NULL|20200106|              0.00|                 0.00|                    0.00|                          0.00|                      0.00|                         0.00|                                 0.00|                              0.00|             0.00|                   0.00|                           0.00|             0.00|              0.00|                0.00|                 0.00|                            0.00|    NULL|    NULL|    NULL|    NULL|    NULL|    NULL|    NULL|   NULL|   NULL|    NULL|   NULL|    NULL|\n",
            "|      NULL|20200107|              0.00|                 0.00|                    0.00|                          0.00|                      0.00|                         0.00|                                 0.00|                              0.00|             0.00|                   0.00|                           0.00|             0.00|              0.00|                0.00|                 0.00|                            0.00|    NULL|    NULL|    NULL|    NULL|    NULL|    NULL|    NULL|   NULL|   NULL|    NULL|   NULL|    NULL|\n",
            "|      NULL|20200108|              0.00|                 0.00|                    0.00|                          0.00|                      0.00|                         0.00|                                 0.00|                              0.00|             0.00|                   0.00|                           0.00|             0.00|              0.00|                0.00|                 0.00|                            0.00|    NULL|    NULL|    NULL|    NULL|    NULL|    NULL|    NULL|   NULL|   NULL|    NULL|   NULL|    NULL|\n",
            "|      NULL|20200109|              0.00|                 0.00|                    0.00|                          0.00|                      0.00|                         0.00|                                 0.00|                              0.00|             0.00|                   0.00|                           0.00|             0.00|              0.00|                0.00|                 0.00|                            0.00|    NULL|    NULL|    NULL|    NULL|    NULL|    NULL|    NULL|   NULL|   NULL|    NULL|   NULL|    NULL|\n",
            "|      NULL|20200110|              0.00|                 0.00|                    0.00|                          0.00|                      0.00|                         0.00|                                 0.00|                              0.00|             0.00|                   0.00|                           0.00|             0.00|              0.00|                0.00|                 0.00|                            0.00|    NULL|    NULL|    NULL|    NULL|    NULL|    NULL|    NULL|   NULL|   NULL|    NULL|   NULL|    NULL|\n",
            "|      NULL|20200111|              0.00|                 0.00|                    0.00|                          0.00|                      0.00|                         0.00|                                 0.00|                              0.00|             0.00|                   0.00|                           0.00|             0.00|              0.00|                0.00|                 0.00|                            0.00|    NULL|    NULL|    NULL|    NULL|    NULL|    NULL|    NULL|   NULL|   NULL|    NULL|   NULL|    NULL|\n",
            "|      NULL|20200112|              0.00|                 0.00|                    0.00|                          0.00|                      0.00|                         0.00|                                 0.00|                              0.00|             0.00|                   0.00|                           0.00|             0.00|              0.00|                0.00|                 0.00|                            0.00|    NULL|    NULL|    NULL|    NULL|    NULL|    NULL|    NULL|   NULL|   NULL|    NULL|   NULL|    NULL|\n",
            "|      NULL|20200113|              0.00|                 0.00|                    0.00|                          0.00|                      0.00|                         0.00|                                 0.00|                              0.00|             0.00|                   0.00|                           0.00|             0.00|              0.00|                0.00|                 0.00|                            0.00|    NULL|    NULL|    NULL|    NULL|    NULL|    NULL|    NULL|   NULL|   NULL|    NULL|   NULL|    NULL|\n",
            "|      NULL|20200114|              0.00|                 0.00|                    0.00|                          0.00|                      0.00|                         0.00|                                 0.00|                              0.00|             0.00|                   0.00|                           0.00|             0.00|              0.00|                0.00|                 0.00|                            0.00|    NULL|    NULL|    NULL|    NULL|    NULL|    NULL|    NULL|   NULL|   NULL|    NULL|   NULL|    NULL|\n",
            "|      NULL|20200115|              0.00|                 0.00|                    0.00|                          0.00|                      0.00|                         0.00|                                 0.00|                              0.00|             0.00|                   0.00|                           0.00|             0.00|              0.00|                0.00|                 0.00|                            0.00|    NULL|    NULL|    NULL|    NULL|    NULL|    NULL|    NULL|   NULL|   NULL|    NULL|   NULL|    NULL|\n",
            "|      NULL|20200116|              0.00|                 0.00|                    0.00|                          0.00|                      0.00|                         0.00|                                 0.00|                              0.00|             0.00|                   0.00|                           0.00|             0.00|              0.00|                0.00|                 0.00|                            0.00|    NULL|    NULL|    NULL|    NULL|    NULL|    NULL|    NULL|   NULL|   NULL|    NULL|   NULL|    NULL|\n",
            "|      NULL|20200117|              0.00|                 0.00|                    0.00|                          0.00|                      0.00|                         0.00|                                 0.00|                              0.00|             0.00|                   0.00|                           0.00|             0.00|              0.00|                0.00|                 0.00|                            0.00|    NULL|    NULL|    NULL|    NULL|    NULL|    NULL|    NULL|   NULL|   NULL|    NULL|   NULL|    NULL|\n",
            "|      NULL|20200118|              0.00|                 0.00|                    0.00|                          0.00|                      0.00|                         0.00|                                 0.00|                              0.00|             0.00|                   0.00|                           0.00|             0.00|              0.00|                0.00|                 0.00|                            0.00|    NULL|    NULL|    NULL|    NULL|    NULL|    NULL|    NULL|   NULL|   NULL|    NULL|   NULL|    NULL|\n",
            "|      NULL|20200119|              0.00|                 0.00|                    0.00|                          0.00|                      0.00|                         0.00|                                 0.00|                              0.00|             0.00|                   0.00|                           0.00|             0.00|              0.00|                0.00|                 0.00|                            0.00|    NULL|    NULL|    NULL|    NULL|    NULL|    NULL|    NULL|   NULL|   NULL|    NULL|   NULL|    NULL|\n",
            "|      NULL|20200120|              0.00|                 0.00|                    0.00|                          0.00|                      0.00|                         0.00|                                 0.00|                              0.00|             0.00|                   0.00|                           0.00|             0.00|              0.00|                0.00|                 0.00|                            0.00|    NULL|    NULL|    NULL|    NULL|    NULL|    NULL|    NULL|   NULL|   NULL|    NULL|   NULL|    NULL|\n",
            "+----------+--------+------------------+---------------------+------------------------+------------------------------+--------------------------+-----------------------------+-------------------------------------+----------------------------------+-----------------+-----------------------+-------------------------------+-----------------+------------------+--------------------+---------------------+--------------------------------+--------+--------+--------+--------+--------+--------+--------+-------+-------+--------+-------+--------+\n",
            "only showing top 20 rows\n",
            "\n"
          ]
        }
      ]
    },
    {
      "cell_type": "code",
      "source": [
        "OxCGRT_latest.select([\"RegionName\"]+[\"Date\"] + indicators + indicator_flags).where(col(\"Date\")>=\"202201\").show()"
      ],
      "metadata": {
        "colab": {
          "base_uri": "https://localhost:8080/"
        },
        "id": "Cu503omYR84R",
        "outputId": "23871dd9-cbc3-4fa0-ae38-3b7c96f6a8b8"
      },
      "execution_count": 17,
      "outputs": [
        {
          "output_type": "stream",
          "name": "stdout",
          "text": [
            "+----------+--------+------------------+---------------------+------------------------+------------------------------+--------------------------+-----------------------------+-------------------------------------+----------------------------------+-----------------+-----------------------+-------------------------------+-----------------+------------------+--------------------+---------------------+--------------------------------+--------+--------+--------+--------+--------+--------+--------+-------+-------+--------+-------+--------+\n",
            "|RegionName|    Date|C1M_School closing|C2M_Workplace closing|C3M_Cancel public events|C4M_Restrictions on gatherings|C5M_Close public transport|C6M_Stay at home requirements|C7M_Restrictions on internal movement|C8EV_International travel controls|E1_Income support|E2_Debt/contract relief|H1_Public information campaigns|H2_Testing policy|H3_Contact tracing|H6M_Facial Coverings|H7_Vaccination policy|H8M_Protection of elderly people|C1M_Flag|C2M_Flag|C3M_Flag|C4M_Flag|C5M_Flag|C6M_Flag|C7M_Flag|E1_Flag|H1_Flag|H6M_Flag|H7_Flag|H8M_Flag|\n",
            "+----------+--------+------------------+---------------------+------------------------+------------------------------+--------------------------+-----------------------------+-------------------------------------+----------------------------------+-----------------+-----------------------+-------------------------------+-----------------+------------------+--------------------+---------------------+--------------------------------+--------+--------+--------+--------+--------+--------+--------+-------+-------+--------+-------+--------+\n",
            "|      NULL|20220101|              2.00|                 1.00|                    1.00|                          4.00|                      1.00|                         1.00|                                 1.00|                              1.00|             0.00|                   0.00|                           2.00|             3.00|              1.00|                2.00|                 5.00|                            2.00|       0|       0|       0|       0|       0|       0|       0|   NULL|      1|       0|      1|       0|\n",
            "|      NULL|20220102|              2.00|                 1.00|                    1.00|                          4.00|                      1.00|                         1.00|                                 1.00|                              1.00|             0.00|                   0.00|                           2.00|             3.00|              1.00|                2.00|                 5.00|                            2.00|       0|       0|       0|       0|       0|       0|       0|   NULL|      1|       0|      1|       0|\n",
            "|      NULL|20220103|              2.00|                 1.00|                    1.00|                          4.00|                      1.00|                         1.00|                                 1.00|                              1.00|             0.00|                   0.00|                           2.00|             3.00|              1.00|                2.00|                 5.00|                            2.00|       0|       0|       0|       0|       0|       0|       0|   NULL|      1|       0|      1|       0|\n",
            "|      NULL|20220104|              2.00|                 1.00|                    1.00|                          4.00|                      1.00|                         1.00|                                 1.00|                              1.00|             0.00|                   0.00|                           2.00|             3.00|              1.00|                2.00|                 5.00|                            2.00|       0|       0|       0|       0|       0|       0|       0|   NULL|      1|       0|      1|       0|\n",
            "|      NULL|20220105|              2.00|                 1.00|                    1.00|                          4.00|                      1.00|                         1.00|                                 1.00|                              1.00|             0.00|                   0.00|                           2.00|             3.00|              1.00|                2.00|                 5.00|                            2.00|       0|       0|       0|       0|       0|       0|       0|   NULL|      1|       0|      1|       0|\n",
            "|      NULL|20220106|              2.00|                 1.00|                    1.00|                          4.00|                      1.00|                         1.00|                                 1.00|                              1.00|             0.00|                   0.00|                           2.00|             3.00|              1.00|                2.00|                 5.00|                            2.00|       0|       0|       0|       0|       0|       0|       0|   NULL|      1|       0|      1|       0|\n",
            "|      NULL|20220107|              2.00|                 1.00|                    1.00|                          4.00|                      1.00|                         1.00|                                 1.00|                              1.00|             0.00|                   0.00|                           2.00|             3.00|              1.00|                2.00|                 5.00|                            2.00|       0|       0|       0|       0|       0|       0|       0|   NULL|      1|       0|      1|       0|\n",
            "|      NULL|20220108|              2.00|                 1.00|                    1.00|                          4.00|                      1.00|                         1.00|                                 1.00|                              1.00|             0.00|                   0.00|                           2.00|             3.00|              1.00|                2.00|                 5.00|                            2.00|       0|       0|       0|       0|       0|       0|       0|   NULL|      1|       0|      1|       0|\n",
            "|      NULL|20220109|              2.00|                 1.00|                    1.00|                          4.00|                      1.00|                         1.00|                                 1.00|                              1.00|             0.00|                   0.00|                           2.00|             3.00|              1.00|                2.00|                 5.00|                            2.00|       0|       0|       0|       0|       0|       0|       0|   NULL|      1|       0|      1|       0|\n",
            "|      NULL|20220110|              2.00|                 1.00|                    1.00|                          4.00|                      1.00|                         1.00|                                 1.00|                              1.00|             0.00|                   0.00|                           2.00|             3.00|              1.00|                2.00|                 5.00|                            2.00|       0|       0|       0|       0|       0|       0|       0|   NULL|      1|       0|      1|       0|\n",
            "|      NULL|20220111|              2.00|                 1.00|                    1.00|                          4.00|                      1.00|                         1.00|                                 1.00|                              1.00|             0.00|                   0.00|                           2.00|             3.00|              1.00|                2.00|                 5.00|                            2.00|       0|       0|       0|       0|       0|       0|       0|   NULL|      1|       0|      1|       0|\n",
            "|      NULL|20220112|              2.00|                 1.00|                    1.00|                          4.00|                      1.00|                         1.00|                                 1.00|                              1.00|             0.00|                   0.00|                           2.00|             3.00|              1.00|                2.00|                 5.00|                            2.00|       0|       0|       0|       0|       0|       0|       0|   NULL|      1|       0|      1|       0|\n",
            "|      NULL|20220113|              2.00|                 1.00|                    1.00|                          4.00|                      1.00|                         1.00|                                 1.00|                              1.00|             0.00|                   0.00|                           2.00|             3.00|              1.00|                2.00|                 5.00|                            2.00|       0|       0|       0|       0|       0|       0|       0|   NULL|      1|       0|      1|       0|\n",
            "|      NULL|20220114|              2.00|                 1.00|                    1.00|                          4.00|                      1.00|                         1.00|                                 1.00|                              1.00|             0.00|                   0.00|                           2.00|             3.00|              1.00|                2.00|                 5.00|                            2.00|       0|       0|       0|       0|       0|       0|       0|   NULL|      1|       0|      1|       0|\n",
            "|      NULL|20220115|              2.00|                 1.00|                    1.00|                          4.00|                      1.00|                         1.00|                                 1.00|                              1.00|             0.00|                   0.00|                           2.00|             3.00|              1.00|                2.00|                 5.00|                            2.00|       0|       0|       0|       0|       0|       0|       0|   NULL|      1|       0|      1|       0|\n",
            "|      NULL|20220116|              2.00|                 1.00|                    1.00|                          4.00|                      1.00|                         1.00|                                 1.00|                              1.00|             0.00|                   0.00|                           2.00|             3.00|              1.00|                2.00|                 5.00|                            2.00|       0|       0|       0|       0|       0|       0|       0|   NULL|      1|       0|      1|       0|\n",
            "|      NULL|20220117|              2.00|                 1.00|                    1.00|                          4.00|                      1.00|                         1.00|                                 1.00|                              1.00|             0.00|                   0.00|                           2.00|             3.00|              1.00|                2.00|                 5.00|                            2.00|       0|       0|       0|       0|       0|       0|       0|   NULL|      1|       0|      1|       0|\n",
            "|      NULL|20220118|              2.00|                 1.00|                    1.00|                          4.00|                      1.00|                         1.00|                                 1.00|                              1.00|             0.00|                   0.00|                           2.00|             3.00|              1.00|                2.00|                 5.00|                            2.00|       0|       0|       0|       0|       0|       0|       0|   NULL|      1|       0|      1|       0|\n",
            "|      NULL|20220119|              2.00|                 1.00|                    1.00|                          4.00|                      1.00|                         1.00|                                 0.00|                              1.00|             0.00|                   0.00|                           2.00|             3.00|              1.00|                2.00|                 5.00|                            2.00|       0|       0|       0|       0|       0|       0|    NULL|   NULL|      1|       0|      1|       0|\n",
            "|      NULL|20220120|              2.00|                 1.00|                    1.00|                          4.00|                      1.00|                         1.00|                                 0.00|                              1.00|             0.00|                   0.00|                           2.00|             3.00|              1.00|                2.00|                 5.00|                            2.00|       0|       0|       0|       0|       0|       0|    NULL|   NULL|      1|       0|      1|       0|\n",
            "+----------+--------+------------------+---------------------+------------------------+------------------------------+--------------------------+-----------------------------+-------------------------------------+----------------------------------+-----------------+-----------------------+-------------------------------+-----------------+------------------+--------------------+---------------------+--------------------------------+--------+--------+--------+--------+--------+--------+--------+-------+-------+--------+-------+--------+\n",
            "only showing top 20 rows\n",
            "\n"
          ]
        }
      ]
    },
    {
      "cell_type": "code",
      "source": [
        "df = clean_data(OxCGRT_latest)\n",
        "df.show()"
      ],
      "metadata": {
        "id": "OReazs5stsbh",
        "colab": {
          "base_uri": "https://localhost:8080/"
        },
        "outputId": "fa4294ca-c165-47bb-b08b-2ea1a39b8ede"
      },
      "execution_count": 18,
      "outputs": [
        {
          "output_type": "stream",
          "name": "stdout",
          "text": [
            "+----------+------+------------------+---------------------+------------------------+------------------------------+--------------------------+-----------------------------+-------------------------------------+----------------------------------+-----------------+-----------------------+-------------------------------+-----------------+------------------+--------------------+---------------------+--------------------------------+--------+--------+--------+--------+--------+--------+--------+-------+-------+--------+-------+--------+\n",
            "|regionName|  Date|C1M_School closing|C2M_Workplace closing|C3M_Cancel public events|C4M_Restrictions on gatherings|C5M_Close public transport|C6M_Stay at home requirements|C7M_Restrictions on internal movement|C8EV_International travel controls|E1_Income support|E2_Debt/contract relief|H1_Public information campaigns|H2_Testing policy|H3_Contact tracing|H6M_Facial Coverings|H7_Vaccination policy|H8M_Protection of elderly people|C1M_Flag|C2M_Flag|C3M_Flag|C4M_Flag|C5M_Flag|C6M_Flag|C7M_Flag|E1_Flag|H1_Flag|H6M_Flag|H7_Flag|H8M_Flag|\n",
            "+----------+------+------------------+---------------------+------------------------+------------------------------+--------------------------+-----------------------------+-------------------------------------+----------------------------------+-----------------+-----------------------+-------------------------------+-----------------+------------------+--------------------+---------------------+--------------------------------+--------+--------+--------+--------+--------+--------+--------+-------+-------+--------+-------+--------+\n",
            "|    Alaska|202001|               0.0|                  0.0|                     0.0|                           0.0|                       0.0|                          0.0|                                  0.0|                               0.0|              0.0|                    0.0|                            0.0|              0.0|               0.0|                 0.0|                  0.0|                             0.0|    NULL|    NULL|    NULL|    NULL|    NULL|    NULL|    NULL|   NULL|   NULL|    NULL|   NULL|    NULL|\n",
            "|    Alaska|202001|               0.0|                  0.0|                     0.0|                           0.0|                       0.0|                          0.0|                                  0.0|                               0.0|              0.0|                    0.0|                            0.0|              0.0|               0.0|                 0.0|                  0.0|                             0.0|    NULL|    NULL|    NULL|    NULL|    NULL|    NULL|    NULL|   NULL|   NULL|    NULL|   NULL|    NULL|\n",
            "|    Alaska|202001|               0.0|                  0.0|                     0.0|                           0.0|                       0.0|                          0.0|                                  0.0|                               0.0|              0.0|                    0.0|                            0.0|              0.0|               0.0|                 0.0|                  0.0|                             0.0|    NULL|    NULL|    NULL|    NULL|    NULL|    NULL|    NULL|   NULL|   NULL|    NULL|   NULL|    NULL|\n",
            "|    Alaska|202001|               0.0|                  0.0|                     0.0|                           0.0|                       0.0|                          0.0|                                  0.0|                               0.0|              0.0|                    0.0|                            0.0|              0.0|               0.0|                 0.0|                  0.0|                             0.0|    NULL|    NULL|    NULL|    NULL|    NULL|    NULL|    NULL|   NULL|   NULL|    NULL|   NULL|    NULL|\n",
            "|    Alaska|202001|               0.0|                  0.0|                     0.0|                           0.0|                       0.0|                          0.0|                                  0.0|                               0.0|              0.0|                    0.0|                            0.0|              0.0|               0.0|                 0.0|                  0.0|                             0.0|    NULL|    NULL|    NULL|    NULL|    NULL|    NULL|    NULL|   NULL|   NULL|    NULL|   NULL|    NULL|\n",
            "|    Alaska|202001|               0.0|                  0.0|                     0.0|                           0.0|                       0.0|                          0.0|                                  0.0|                               0.0|              0.0|                    0.0|                            0.0|              0.0|               0.0|                 0.0|                  0.0|                             0.0|    NULL|    NULL|    NULL|    NULL|    NULL|    NULL|    NULL|   NULL|   NULL|    NULL|   NULL|    NULL|\n",
            "|    Alaska|202001|               0.0|                  0.0|                     0.0|                           0.0|                       0.0|                          0.0|                                  0.0|                               0.0|              0.0|                    0.0|                            0.0|              0.0|               0.0|                 0.0|                  0.0|                             0.0|    NULL|    NULL|    NULL|    NULL|    NULL|    NULL|    NULL|   NULL|   NULL|    NULL|   NULL|    NULL|\n",
            "|    Alaska|202001|               0.0|                  0.0|                     0.0|                           0.0|                       0.0|                          0.0|                                  0.0|                               0.0|              0.0|                    0.0|                            1.0|              0.0|               0.0|                 0.0|                  0.0|                             0.0|    NULL|    NULL|    NULL|    NULL|    NULL|    NULL|    NULL|   NULL|    1.0|    NULL|   NULL|    NULL|\n",
            "|    Alaska|202001|               0.0|                  0.0|                     0.0|                           0.0|                       0.0|                          0.0|                                  0.0|                               0.0|              0.0|                    0.0|                            1.0|              0.0|               0.0|                 0.0|                  0.0|                             0.0|    NULL|    NULL|    NULL|    NULL|    NULL|    NULL|    NULL|   NULL|    1.0|    NULL|   NULL|    NULL|\n",
            "|    Alaska|202001|               0.0|                  0.0|                     0.0|                           0.0|                       0.0|                          0.0|                                  0.0|                               0.0|              0.0|                    0.0|                            1.0|              0.0|               0.0|                 0.0|                  0.0|                             0.0|    NULL|    NULL|    NULL|    NULL|    NULL|    NULL|    NULL|   NULL|    1.0|    NULL|   NULL|    NULL|\n",
            "|    Alaska|202001|               0.0|                  0.0|                     0.0|                           0.0|                       0.0|                          0.0|                                  0.0|                               0.0|              0.0|                    0.0|                            1.0|              0.0|               0.0|                 0.0|                  0.0|                             0.0|    NULL|    NULL|    NULL|    NULL|    NULL|    NULL|    NULL|   NULL|    1.0|    NULL|   NULL|    NULL|\n",
            "|    Alaska|202001|               0.0|                  0.0|                     0.0|                           0.0|                       0.0|                          0.0|                                  0.0|                               0.0|              0.0|                    0.0|                            1.0|              0.0|               0.0|                 0.0|                  0.0|                             0.0|    NULL|    NULL|    NULL|    NULL|    NULL|    NULL|    NULL|   NULL|    1.0|    NULL|   NULL|    NULL|\n",
            "|    Alaska|202001|               0.0|                  0.0|                     0.0|                           0.0|                       0.0|                          0.0|                                  0.0|                               0.0|              0.0|                    0.0|                            1.0|              0.0|               0.0|                 0.0|                  0.0|                             0.0|    NULL|    NULL|    NULL|    NULL|    NULL|    NULL|    NULL|   NULL|    1.0|    NULL|   NULL|    NULL|\n",
            "|    Alaska|202001|               0.0|                  0.0|                     0.0|                           0.0|                       0.0|                          0.0|                                  0.0|                               0.0|              0.0|                    0.0|                            1.0|              0.0|               0.0|                 0.0|                  0.0|                             0.0|    NULL|    NULL|    NULL|    NULL|    NULL|    NULL|    NULL|   NULL|    1.0|    NULL|   NULL|    NULL|\n",
            "|    Alaska|202001|               0.0|                  0.0|                     0.0|                           0.0|                       0.0|                          0.0|                                  0.0|                               0.0|              0.0|                    0.0|                            1.0|              0.0|               0.0|                 0.0|                  0.0|                             0.0|    NULL|    NULL|    NULL|    NULL|    NULL|    NULL|    NULL|   NULL|    1.0|    NULL|   NULL|    NULL|\n",
            "|    Alaska|202001|               0.0|                  0.0|                     0.0|                           0.0|                       0.0|                          0.0|                                  0.0|                               0.0|              0.0|                    0.0|                            1.0|              0.0|               0.0|                 0.0|                  0.0|                             0.0|    NULL|    NULL|    NULL|    NULL|    NULL|    NULL|    NULL|   NULL|    1.0|    NULL|   NULL|    NULL|\n",
            "|    Alaska|202001|               0.0|                  0.0|                     0.0|                           0.0|                       0.0|                          0.0|                                  0.0|                               0.0|              0.0|                    0.0|                            1.0|              0.0|               0.0|                 0.0|                  0.0|                             0.0|    NULL|    NULL|    NULL|    NULL|    NULL|    NULL|    NULL|   NULL|    1.0|    NULL|   NULL|    NULL|\n",
            "|    Alaska|202001|               0.0|                  0.0|                     0.0|                           0.0|                       0.0|                          0.0|                                  0.0|                               0.0|              0.0|                    0.0|                            1.0|              0.0|               0.0|                 0.0|                  0.0|                             0.0|    NULL|    NULL|    NULL|    NULL|    NULL|    NULL|    NULL|   NULL|    1.0|    NULL|   NULL|    NULL|\n",
            "|    Alaska|202001|               0.0|                  0.0|                     0.0|                           0.0|                       0.0|                          0.0|                                  0.0|                               0.0|              0.0|                    0.0|                            1.0|              0.0|               0.0|                 0.0|                  0.0|                             0.0|    NULL|    NULL|    NULL|    NULL|    NULL|    NULL|    NULL|   NULL|    1.0|    NULL|   NULL|    NULL|\n",
            "|    Alaska|202001|               0.0|                  0.0|                     0.0|                           0.0|                       0.0|                          0.0|                                  0.0|                               0.0|              0.0|                    0.0|                            1.0|              0.0|               0.0|                 0.0|                  0.0|                             0.0|    NULL|    NULL|    NULL|    NULL|    NULL|    NULL|    NULL|   NULL|    1.0|    NULL|   NULL|    NULL|\n",
            "+----------+------+------------------+---------------------+------------------------+------------------------------+--------------------------+-----------------------------+-------------------------------------+----------------------------------+-----------------+-----------------------+-------------------------------+-----------------+------------------+--------------------+---------------------+--------------------------------+--------+--------+--------+--------+--------+--------+--------+-------+-------+--------+-------+--------+\n",
            "only showing top 20 rows\n",
            "\n"
          ]
        }
      ]
    },
    {
      "cell_type": "code",
      "source": [
        "df.select([\"RegionName\"]+[\"Date\"] + indicators + indicator_flags).where(col(\"Date\")>\"202112\").show()"
      ],
      "metadata": {
        "colab": {
          "base_uri": "https://localhost:8080/"
        },
        "id": "NlSR3ICkV8fT",
        "outputId": "5bebcb54-30d0-48b8-ee51-6d8dacc03238"
      },
      "execution_count": 19,
      "outputs": [
        {
          "output_type": "stream",
          "name": "stdout",
          "text": [
            "+----------+----+------------------+---------------------+------------------------+------------------------------+--------------------------+-----------------------------+-------------------------------------+----------------------------------+-----------------+-----------------------+-------------------------------+-----------------+------------------+--------------------+---------------------+--------------------------------+--------+--------+--------+--------+--------+--------+--------+-------+-------+--------+-------+--------+\n",
            "|RegionName|Date|C1M_School closing|C2M_Workplace closing|C3M_Cancel public events|C4M_Restrictions on gatherings|C5M_Close public transport|C6M_Stay at home requirements|C7M_Restrictions on internal movement|C8EV_International travel controls|E1_Income support|E2_Debt/contract relief|H1_Public information campaigns|H2_Testing policy|H3_Contact tracing|H6M_Facial Coverings|H7_Vaccination policy|H8M_Protection of elderly people|C1M_Flag|C2M_Flag|C3M_Flag|C4M_Flag|C5M_Flag|C6M_Flag|C7M_Flag|E1_Flag|H1_Flag|H6M_Flag|H7_Flag|H8M_Flag|\n",
            "+----------+----+------------------+---------------------+------------------------+------------------------------+--------------------------+-----------------------------+-------------------------------------+----------------------------------+-----------------+-----------------------+-------------------------------+-----------------+------------------+--------------------+---------------------+--------------------------------+--------+--------+--------+--------+--------+--------+--------+-------+-------+--------+-------+--------+\n",
            "+----------+----+------------------+---------------------+------------------------+------------------------------+--------------------------+-----------------------------+-------------------------------------+----------------------------------+-----------------+-----------------------+-------------------------------+-----------------+------------------+--------------------+---------------------+--------------------------------+--------+--------+--------+--------+--------+--------+--------+-------+-------+--------+-------+--------+\n",
            "\n"
          ]
        }
      ]
    },
    {
      "cell_type": "code",
      "source": [
        "df = group_and_aggregate_data(df)\n",
        "\n",
        "df.show()\n",
        "\n"
      ],
      "metadata": {
        "id": "N0C83rR2W7ea",
        "colab": {
          "base_uri": "https://localhost:8080/"
        },
        "outputId": "b67b1bbf-1d5e-46ab-95fd-eb8a06123ff0"
      },
      "execution_count": 20,
      "outputs": [
        {
          "output_type": "stream",
          "name": "stdout",
          "text": [
            "+----------+------+------------------+---------------------+------------------------+------------------------------+--------------------------+-----------------------------+-------------------------------------+----------------------------------+-----------------+-----------------------+-------------------------------+-----------------+------------------+--------------------+---------------------+--------------------------------+--------+--------+--------+--------+--------+--------+--------+-------+-------+--------+-------+--------+\n",
            "|regionName|  Date|C1M_School closing|C2M_Workplace closing|C3M_Cancel public events|C4M_Restrictions on gatherings|C5M_Close public transport|C6M_Stay at home requirements|C7M_Restrictions on internal movement|C8EV_International travel controls|E1_Income support|E2_Debt/contract relief|H1_Public information campaigns|H2_Testing policy|H3_Contact tracing|H6M_Facial Coverings|H7_Vaccination policy|H8M_Protection of elderly people|C1M_Flag|C2M_Flag|C3M_Flag|C4M_Flag|C5M_Flag|C6M_Flag|C7M_Flag|E1_Flag|H1_Flag|H6M_Flag|H7_Flag|H8M_Flag|\n",
            "+----------+------+------------------+---------------------+------------------------+------------------------------+--------------------------+-----------------------------+-------------------------------------+----------------------------------+-----------------+-----------------------+-------------------------------+-----------------+------------------+--------------------+---------------------+--------------------------------+--------+--------+--------+--------+--------+--------+--------+-------+-------+--------+-------+--------+\n",
            "|   Alabama|202001|               0.0|                  0.0|                     0.0|                           0.0|                       0.0|                          0.0|                                  0.0|                               0.0|              0.0|                    0.0|                            0.0|              0.0|               0.0|                 0.0|                  0.0|                             0.0|    NULL|    NULL|    NULL|    NULL|    NULL|    NULL|    NULL|   NULL|   NULL|    NULL|   NULL|    NULL|\n",
            "|   Alabama|202002|               0.0|                  0.0|                     0.0|                           0.0|                       0.0|                          0.0|                                  0.0|                               3.0|              0.0|                    0.0|                            0.0|              1.0|               1.0|                 0.0|                  0.0|                             0.0|    NULL|    NULL|    NULL|    NULL|    NULL|    NULL|    NULL|   NULL|    1.0|    NULL|   NULL|    NULL|\n",
            "|   Alabama|202003|               3.0|                  3.0|                     2.0|                           0.0|                       0.0|                          0.0|                                  1.0|                               3.0|              0.0|                    0.0|                            2.0|              1.0|               1.0|                 0.0|                  0.0|                             3.0|     1.0|     0.0|     0.0|     0.0|     0.0|     0.0|     1.0|    0.0|    0.0|    NULL|   NULL|     1.0|\n",
            "|   Alabama|202004|               3.0|                  3.0|                     2.0|                           4.0|                       1.0|                          2.0|                                  1.0|                               3.0|              2.0|                    1.0|                            2.0|              2.0|               1.0|                 1.0|                  0.0|                             3.0|     1.0|     1.0|     1.0|     1.0|     0.0|     1.0|     1.0|    0.0|    1.0|     1.0|   NULL|     1.0|\n",
            "|   Alabama|202005|               3.0|                  3.0|                     2.0|                           0.0|                       1.0|                          2.0|                                  1.0|                               3.0|              2.0|                    1.0|                            2.0|              2.0|               1.0|                 3.0|                  0.0|                             3.0|     0.0|     0.0|     1.0|     1.0|     0.0|     0.0|     1.0|    0.0|    1.0|     0.0|   NULL|     1.0|\n",
            "|   Alabama|202006|               3.0|                  3.0|                     1.0|                           0.0|                       1.0|                          2.0|                                  1.0|                               3.0|              2.0|                    1.0|                            2.0|              3.0|               1.0|                 3.0|                  0.0|                             3.0|     0.0|     0.0|     1.0|    NULL|     0.0|     0.0|     1.0|    0.0|    1.0|     0.0|   NULL|     1.0|\n",
            "|   Alabama|202007|               3.0|                  1.0|                     1.0|                           0.0|                       1.0|                          1.0|                                  1.0|                               3.0|              2.0|                    1.0|                            2.0|              3.0|               1.0|                 3.0|                  0.0|                             3.0|     0.0|     1.0|     1.0|    NULL|     0.0|     1.0|     1.0|    0.0|    1.0|     1.0|   NULL|     1.0|\n",
            "|   Alabama|202008|               2.0|                  1.0|                     1.0|                           0.0|                       0.0|                          1.0|                                  1.0|                               3.0|              1.0|                    0.0|                            2.0|              3.0|               1.0|                 3.0|                  0.0|                             3.0|     0.0|     1.0|     1.0|    NULL|     0.0|     1.0|     1.0|    0.0|    1.0|     1.0|   NULL|     1.0|\n",
            "|   Alabama|202009|               2.0|                  1.0|                     1.0|                           0.0|                       0.0|                          1.0|                                  1.0|                               3.0|              1.0|                    1.0|                            2.0|              3.0|               2.0|                 3.0|                  0.0|                             3.0|     0.0|     1.0|     1.0|    NULL|    NULL|     1.0|     1.0|    0.0|    1.0|     1.0|   NULL|     1.0|\n",
            "|   Alabama|202010|               2.0|                  1.0|                     1.0|                           0.0|                       0.0|                          1.0|                                  1.0|                               3.0|              1.0|                    1.0|                            2.0|              3.0|               1.0|                 3.0|                  0.0|                             2.0|     0.0|     1.0|     1.0|    NULL|    NULL|     1.0|     1.0|    0.0|    1.0|     1.0|   NULL|     1.0|\n",
            "|   Alabama|202011|               2.0|                  1.0|                     1.0|                           0.0|                       0.0|                          1.0|                                  1.0|                               3.0|              1.0|                    1.0|                            2.0|              3.0|               1.0|                 3.0|                  0.0|                             2.0|     0.0|     1.0|     1.0|    NULL|    NULL|     1.0|     1.0|    0.0|    1.0|     1.0|   NULL|     1.0|\n",
            "|   Alabama|202012|               2.0|                  1.0|                     1.0|                           0.0|                       0.0|                          1.0|                                  1.0|                               3.0|              1.0|                    1.0|                            2.0|              3.0|               1.0|                 3.0|                  0.0|                             2.0|     0.0|     1.0|     1.0|    NULL|    NULL|     1.0|     1.0|    0.0|    1.0|     1.0|    1.0|     1.0|\n",
            "|   Alabama|202101|               2.0|                  1.0|                     1.0|                           0.0|                       0.0|                          1.0|                                  1.0|                               3.0|              1.0|                    1.0|                            2.0|              3.0|               1.0|                 3.0|                  2.0|                             2.0|     0.0|     1.0|     1.0|    NULL|    NULL|     1.0|     1.0|    0.0|    1.0|     1.0|    1.0|     1.0|\n",
            "|   Alabama|202102|               2.0|                  1.0|                     1.0|                           0.0|                       0.0|                          1.0|                                  1.0|                               3.0|              1.0|                    1.0|                            2.0|              2.0|               1.0|                 3.0|                  2.0|                             2.0|     0.0|     1.0|     1.0|    NULL|    NULL|     1.0|     1.0|    0.0|    1.0|     1.0|    1.0|     1.0|\n",
            "|   Alabama|202103|               2.0|                  1.0|                     1.0|                           0.0|                       0.0|                          1.0|                                  1.0|                               3.0|              1.0|                    1.0|                            2.0|              2.0|               1.0|                 3.0|                  2.0|                             2.0|     0.0|     1.0|     1.0|    NULL|    NULL|     1.0|     1.0|    0.0|    1.0|     1.0|    1.0|     1.0|\n",
            "|   Alabama|202104|               1.0|                  1.0|                     1.0|                           0.0|                       0.0|                          1.0|                                  1.0|                               3.0|              1.0|                    1.0|                            2.0|              2.0|               1.0|                 2.0|                  5.0|                             2.0|     1.0|     1.0|     1.0|    NULL|    NULL|     1.0|     1.0|    0.0|    1.0|     0.0|    1.0|     1.0|\n",
            "|   Alabama|202105|               1.0|                  0.0|                     1.0|                           0.0|                       0.0|                          1.0|                                  1.0|                               3.0|              1.0|                    1.0|                            2.0|              2.0|               1.0|                 2.0|                  5.0|                             2.0|     1.0|    NULL|     1.0|    NULL|    NULL|     1.0|     1.0|    0.0|    1.0|     0.0|    1.0|     1.0|\n",
            "|   Alabama|202106|               0.0|                  0.0|                     1.0|                           0.0|                       0.0|                          1.0|                                  1.0|                               3.0|              1.0|                    1.0|                            2.0|              2.0|               1.0|                 2.0|                  5.0|                             1.0|    NULL|    NULL|     1.0|    NULL|    NULL|     1.0|     1.0|    0.0|    1.0|     1.0|    1.0|     1.0|\n",
            "|   Alabama|202107|               0.0|                  0.0|                     1.0|                           0.0|                       0.0|                          0.0|                                  1.0|                               3.0|              1.0|                    1.0|                            2.0|              2.0|               1.0|                 2.0|                  5.0|                             1.0|     1.0|    NULL|     1.0|    NULL|    NULL|     1.0|     1.0|    0.0|    1.0|     1.0|    1.0|     1.0|\n",
            "|   Alabama|202108|               1.0|                  0.0|                     0.0|                           0.0|                       0.0|                          0.0|                                  1.0|                               3.0|              1.0|                    1.0|                            2.0|              3.0|               1.0|                 2.0|                  5.0|                             1.0|     1.0|    NULL|     1.0|    NULL|    NULL|    NULL|     1.0|    0.0|    1.0|     0.0|    1.0|     1.0|\n",
            "+----------+------+------------------+---------------------+------------------------+------------------------------+--------------------------+-----------------------------+-------------------------------------+----------------------------------+-----------------+-----------------------+-------------------------------+-----------------+------------------+--------------------+---------------------+--------------------------------+--------+--------+--------+--------+--------+--------+--------+-------+-------+--------+-------+--------+\n",
            "only showing top 20 rows\n",
            "\n"
          ]
        }
      ]
    },
    {
      "cell_type": "code",
      "source": [
        "num_columns = len(df.columns)\n",
        "print(num_columns)"
      ],
      "metadata": {
        "colab": {
          "base_uri": "https://localhost:8080/"
        },
        "id": "_mfrA_lXgrgU",
        "outputId": "8f80c927-4241-4c4b-b9a9-d5247ae75052"
      },
      "execution_count": 21,
      "outputs": [
        {
          "output_type": "stream",
          "name": "stdout",
          "text": [
            "30\n"
          ]
        }
      ]
    },
    {
      "cell_type": "code",
      "source": [
        "#Rows with NULL values are Rows with no data for the entire period; because group_and_aggregate_data will always count NULL as 0; so if there exists data, NULL will not be the mode\n",
        "df = impute_data(df) #Set NULL to 0\n",
        "df.show()"
      ],
      "metadata": {
        "id": "dMo19GxD-KrX",
        "colab": {
          "base_uri": "https://localhost:8080/"
        },
        "outputId": "28d41359-830d-46b3-f70f-07043fbc3413"
      },
      "execution_count": 22,
      "outputs": [
        {
          "output_type": "stream",
          "name": "stdout",
          "text": [
            "+----------+------+------------------+---------------------+------------------------+------------------------------+--------------------------+-----------------------------+-------------------------------------+----------------------------------+-----------------+-----------------------+-------------------------------+-----------------+------------------+--------------------+---------------------+--------------------------------+--------+--------+--------+--------+--------+--------+--------+-------+-------+--------+-------+--------+\n",
            "|regionName|  Date|C1M_School closing|C2M_Workplace closing|C3M_Cancel public events|C4M_Restrictions on gatherings|C5M_Close public transport|C6M_Stay at home requirements|C7M_Restrictions on internal movement|C8EV_International travel controls|E1_Income support|E2_Debt/contract relief|H1_Public information campaigns|H2_Testing policy|H3_Contact tracing|H6M_Facial Coverings|H7_Vaccination policy|H8M_Protection of elderly people|C1M_Flag|C2M_Flag|C3M_Flag|C4M_Flag|C5M_Flag|C6M_Flag|C7M_Flag|E1_Flag|H1_Flag|H6M_Flag|H7_Flag|H8M_Flag|\n",
            "+----------+------+------------------+---------------------+------------------------+------------------------------+--------------------------+-----------------------------+-------------------------------------+----------------------------------+-----------------+-----------------------+-------------------------------+-----------------+------------------+--------------------+---------------------+--------------------------------+--------+--------+--------+--------+--------+--------+--------+-------+-------+--------+-------+--------+\n",
            "|   Alabama|202001|               0.0|                  0.0|                     0.0|                           0.0|                       0.0|                          0.0|                                  0.0|                               0.0|              0.0|                    0.0|                            0.0|              0.0|               0.0|                 0.0|                  0.0|                             0.0|     0.0|     0.0|     0.0|     0.0|     0.0|     0.0|     0.0|    0.0|    0.0|     0.0|    0.0|     0.0|\n",
            "|   Alabama|202002|               0.0|                  0.0|                     0.0|                           0.0|                       0.0|                          0.0|                                  0.0|                               3.0|              0.0|                    0.0|                            0.0|              1.0|               1.0|                 0.0|                  0.0|                             0.0|     0.0|     0.0|     0.0|     0.0|     0.0|     0.0|     0.0|    0.0|    1.0|     0.0|    0.0|     0.0|\n",
            "|   Alabama|202003|               3.0|                  3.0|                     2.0|                           0.0|                       0.0|                          0.0|                                  1.0|                               3.0|              0.0|                    0.0|                            2.0|              1.0|               1.0|                 0.0|                  0.0|                             3.0|     1.0|     0.0|     0.0|     0.0|     0.0|     0.0|     1.0|    0.0|    0.0|     0.0|    0.0|     1.0|\n",
            "|   Alabama|202004|               3.0|                  3.0|                     2.0|                           4.0|                       1.0|                          2.0|                                  1.0|                               3.0|              2.0|                    1.0|                            2.0|              2.0|               1.0|                 1.0|                  0.0|                             3.0|     1.0|     1.0|     1.0|     1.0|     0.0|     1.0|     1.0|    0.0|    1.0|     1.0|    0.0|     1.0|\n",
            "|   Alabama|202005|               3.0|                  3.0|                     2.0|                           0.0|                       1.0|                          2.0|                                  1.0|                               3.0|              2.0|                    1.0|                            2.0|              2.0|               1.0|                 3.0|                  0.0|                             3.0|     0.0|     0.0|     1.0|     1.0|     0.0|     0.0|     1.0|    0.0|    1.0|     0.0|    0.0|     1.0|\n",
            "|   Alabama|202006|               3.0|                  3.0|                     1.0|                           0.0|                       1.0|                          2.0|                                  1.0|                               3.0|              2.0|                    1.0|                            2.0|              3.0|               1.0|                 3.0|                  0.0|                             3.0|     0.0|     0.0|     1.0|     0.0|     0.0|     0.0|     1.0|    0.0|    1.0|     0.0|    0.0|     1.0|\n",
            "|   Alabama|202007|               3.0|                  1.0|                     1.0|                           0.0|                       1.0|                          1.0|                                  1.0|                               3.0|              2.0|                    1.0|                            2.0|              3.0|               1.0|                 3.0|                  0.0|                             3.0|     0.0|     1.0|     1.0|     0.0|     0.0|     1.0|     1.0|    0.0|    1.0|     1.0|    0.0|     1.0|\n",
            "|   Alabama|202008|               2.0|                  1.0|                     1.0|                           0.0|                       0.0|                          1.0|                                  1.0|                               3.0|              1.0|                    0.0|                            2.0|              3.0|               1.0|                 3.0|                  0.0|                             3.0|     0.0|     1.0|     1.0|     0.0|     0.0|     1.0|     1.0|    0.0|    1.0|     1.0|    0.0|     1.0|\n",
            "|   Alabama|202009|               2.0|                  1.0|                     1.0|                           0.0|                       0.0|                          1.0|                                  1.0|                               3.0|              1.0|                    1.0|                            2.0|              3.0|               2.0|                 3.0|                  0.0|                             3.0|     0.0|     1.0|     1.0|     0.0|     0.0|     1.0|     1.0|    0.0|    1.0|     1.0|    0.0|     1.0|\n",
            "|   Alabama|202010|               2.0|                  1.0|                     1.0|                           0.0|                       0.0|                          1.0|                                  1.0|                               3.0|              1.0|                    1.0|                            2.0|              3.0|               1.0|                 3.0|                  0.0|                             2.0|     0.0|     1.0|     1.0|     0.0|     0.0|     1.0|     1.0|    0.0|    1.0|     1.0|    0.0|     1.0|\n",
            "|   Alabama|202011|               2.0|                  1.0|                     1.0|                           0.0|                       0.0|                          1.0|                                  1.0|                               3.0|              1.0|                    1.0|                            2.0|              3.0|               1.0|                 3.0|                  0.0|                             2.0|     0.0|     1.0|     1.0|     0.0|     0.0|     1.0|     1.0|    0.0|    1.0|     1.0|    0.0|     1.0|\n",
            "|   Alabama|202012|               2.0|                  1.0|                     1.0|                           0.0|                       0.0|                          1.0|                                  1.0|                               3.0|              1.0|                    1.0|                            2.0|              3.0|               1.0|                 3.0|                  0.0|                             2.0|     0.0|     1.0|     1.0|     0.0|     0.0|     1.0|     1.0|    0.0|    1.0|     1.0|    1.0|     1.0|\n",
            "|   Alabama|202101|               2.0|                  1.0|                     1.0|                           0.0|                       0.0|                          1.0|                                  1.0|                               3.0|              1.0|                    1.0|                            2.0|              3.0|               1.0|                 3.0|                  2.0|                             2.0|     0.0|     1.0|     1.0|     0.0|     0.0|     1.0|     1.0|    0.0|    1.0|     1.0|    1.0|     1.0|\n",
            "|   Alabama|202102|               2.0|                  1.0|                     1.0|                           0.0|                       0.0|                          1.0|                                  1.0|                               3.0|              1.0|                    1.0|                            2.0|              2.0|               1.0|                 3.0|                  2.0|                             2.0|     0.0|     1.0|     1.0|     0.0|     0.0|     1.0|     1.0|    0.0|    1.0|     1.0|    1.0|     1.0|\n",
            "|   Alabama|202103|               2.0|                  1.0|                     1.0|                           0.0|                       0.0|                          1.0|                                  1.0|                               3.0|              1.0|                    1.0|                            2.0|              2.0|               1.0|                 3.0|                  2.0|                             2.0|     0.0|     1.0|     1.0|     0.0|     0.0|     1.0|     1.0|    0.0|    1.0|     1.0|    1.0|     1.0|\n",
            "|   Alabama|202104|               1.0|                  1.0|                     1.0|                           0.0|                       0.0|                          1.0|                                  1.0|                               3.0|              1.0|                    1.0|                            2.0|              2.0|               1.0|                 2.0|                  5.0|                             2.0|     1.0|     1.0|     1.0|     0.0|     0.0|     1.0|     1.0|    0.0|    1.0|     0.0|    1.0|     1.0|\n",
            "|   Alabama|202105|               1.0|                  0.0|                     1.0|                           0.0|                       0.0|                          1.0|                                  1.0|                               3.0|              1.0|                    1.0|                            2.0|              2.0|               1.0|                 2.0|                  5.0|                             2.0|     1.0|     0.0|     1.0|     0.0|     0.0|     1.0|     1.0|    0.0|    1.0|     0.0|    1.0|     1.0|\n",
            "|   Alabama|202106|               0.0|                  0.0|                     1.0|                           0.0|                       0.0|                          1.0|                                  1.0|                               3.0|              1.0|                    1.0|                            2.0|              2.0|               1.0|                 2.0|                  5.0|                             1.0|     0.0|     0.0|     1.0|     0.0|     0.0|     1.0|     1.0|    0.0|    1.0|     1.0|    1.0|     1.0|\n",
            "|   Alabama|202107|               0.0|                  0.0|                     1.0|                           0.0|                       0.0|                          0.0|                                  1.0|                               3.0|              1.0|                    1.0|                            2.0|              2.0|               1.0|                 2.0|                  5.0|                             1.0|     1.0|     0.0|     1.0|     0.0|     0.0|     1.0|     1.0|    0.0|    1.0|     1.0|    1.0|     1.0|\n",
            "|   Alabama|202108|               1.0|                  0.0|                     0.0|                           0.0|                       0.0|                          0.0|                                  1.0|                               3.0|              1.0|                    1.0|                            2.0|              3.0|               1.0|                 2.0|                  5.0|                             1.0|     1.0|     0.0|     1.0|     0.0|     0.0|     0.0|     1.0|    0.0|    1.0|     0.0|    1.0|     1.0|\n",
            "+----------+------+------------------+---------------------+------------------------+------------------------------+--------------------------+-----------------------------+-------------------------------------+----------------------------------+-----------------+-----------------------+-------------------------------+-----------------+------------------+--------------------+---------------------+--------------------------------+--------+--------+--------+--------+--------+--------+--------+-------+-------+--------+-------+--------+\n",
            "only showing top 20 rows\n",
            "\n"
          ]
        }
      ]
    },
    {
      "cell_type": "code",
      "source": [
        "df = compute_index_score(df)\n",
        "df.show()"
      ],
      "metadata": {
        "colab": {
          "base_uri": "https://localhost:8080/"
        },
        "id": "V7D7WgxBi65i",
        "outputId": "5244c644-e16c-4bbe-c492-2997adc75b3d"
      },
      "execution_count": 23,
      "outputs": [
        {
          "output_type": "stream",
          "name": "stdout",
          "text": [
            "+----------+------+------------------+---------------------+------------------------+------------------------------+--------------------------+-----------------------------+-------------------------------------+----------------------------------+-----------------+-----------------------+-------------------------------+-----------------+------------------+--------------------+---------------------+--------------------------------+--------+--------+--------+--------+--------+--------+--------+-------+-------+--------+-------+--------+-------------------+-------------------+-----+-----+-----+-------------------+-----+-----+-----+----+-----+------------------+-----+-----+-----+-------------------+\n",
            "|regionName|  Date|C1M_School closing|C2M_Workplace closing|C3M_Cancel public events|C4M_Restrictions on gatherings|C5M_Close public transport|C6M_Stay at home requirements|C7M_Restrictions on internal movement|C8EV_International travel controls|E1_Income support|E2_Debt/contract relief|H1_Public information campaigns|H2_Testing policy|H3_Contact tracing|H6M_Facial Coverings|H7_Vaccination policy|H8M_Protection of elderly people|C1M_Flag|C2M_Flag|C3M_Flag|C4M_Flag|C5M_Flag|C6M_Flag|C7M_Flag|E1_Flag|H1_Flag|H6M_Flag|H7_Flag|H8M_Flag|               IC1M|               IC2M| IC3M| IC4M| IC5M|               IC6M| IC7M|IC8EV|  IE1| IE2|  IH1|               IH2|  IH3| IH6M|  IH7|               IH8M|\n",
            "+----------+------+------------------+---------------------+------------------------+------------------------------+--------------------------+-----------------------------+-------------------------------------+----------------------------------+-----------------+-----------------------+-------------------------------+-----------------+------------------+--------------------+---------------------+--------------------------------+--------+--------+--------+--------+--------+--------+--------+-------+-------+--------+-------+--------+-------------------+-------------------+-----+-----+-----+-------------------+-----+-----+-----+----+-----+------------------+-----+-----+-----+-------------------+\n",
            "|   Alabama|202001|               0.0|                  0.0|                     0.0|                           0.0|                       0.0|                          0.0|                                  0.0|                               0.0|              0.0|                    0.0|                            0.0|              0.0|               0.0|                 0.0|                  0.0|                             0.0|     0.0|     0.0|     0.0|     0.0|     0.0|     0.0|     0.0|    0.0|    0.0|     0.0|    0.0|     0.0|-16.666666666666668|-16.666666666666668|-25.0|-12.5|-25.0|-16.666666666666668|-25.0|  0.0|-25.0| 0.0|-25.0|               0.0|  0.0|-12.5|-10.0|-16.666666666666668|\n",
            "|   Alabama|202002|               0.0|                  0.0|                     0.0|                           0.0|                       0.0|                          0.0|                                  0.0|                               3.0|              0.0|                    0.0|                            0.0|              1.0|               1.0|                 0.0|                  0.0|                             0.0|     0.0|     0.0|     0.0|     0.0|     0.0|     0.0|     0.0|    0.0|    1.0|     0.0|    0.0|     0.0|-16.666666666666668|-16.666666666666668|-25.0|-12.5|-25.0|-16.666666666666668|-25.0| 75.0|-25.0| 0.0|  0.0|33.333333333333336| 50.0|-12.5|-10.0|-16.666666666666668|\n",
            "|   Alabama|202003|               3.0|                  3.0|                     2.0|                           0.0|                       0.0|                          0.0|                                  1.0|                               3.0|              0.0|                    0.0|                            2.0|              1.0|               1.0|                 0.0|                  0.0|                             3.0|     1.0|     0.0|     0.0|     0.0|     0.0|     0.0|     1.0|    0.0|    0.0|     0.0|    0.0|     1.0|              100.0|  83.33333333333334| 75.0|-12.5|-25.0|-16.666666666666668| 50.0| 75.0|-25.0| 0.0| 75.0|33.333333333333336| 50.0|-12.5|-10.0|              100.0|\n",
            "|   Alabama|202004|               3.0|                  3.0|                     2.0|                           4.0|                       1.0|                          2.0|                                  1.0|                               3.0|              2.0|                    1.0|                            2.0|              2.0|               1.0|                 1.0|                  0.0|                             3.0|     1.0|     1.0|     1.0|     1.0|     0.0|     1.0|     1.0|    0.0|    1.0|     1.0|    0.0|     1.0|              100.0|              100.0|100.0|100.0| 25.0|  66.66666666666667| 50.0| 75.0| 75.0|50.0|100.0| 66.66666666666667| 50.0| 25.0|-10.0|              100.0|\n",
            "|   Alabama|202005|               3.0|                  3.0|                     2.0|                           0.0|                       1.0|                          2.0|                                  1.0|                               3.0|              2.0|                    1.0|                            2.0|              2.0|               1.0|                 3.0|                  0.0|                             3.0|     0.0|     0.0|     1.0|     1.0|     0.0|     0.0|     1.0|    0.0|    1.0|     0.0|    0.0|     1.0|  83.33333333333334|  83.33333333333334|100.0|  0.0| 25.0|               50.0| 50.0| 75.0| 75.0|50.0|100.0| 66.66666666666667| 50.0| 62.5|-10.0|              100.0|\n",
            "|   Alabama|202006|               3.0|                  3.0|                     1.0|                           0.0|                       1.0|                          2.0|                                  1.0|                               3.0|              2.0|                    1.0|                            2.0|              3.0|               1.0|                 3.0|                  0.0|                             3.0|     0.0|     0.0|     1.0|     0.0|     0.0|     0.0|     1.0|    0.0|    1.0|     0.0|    0.0|     1.0|  83.33333333333334|  83.33333333333334| 50.0|-12.5| 25.0|               50.0| 50.0| 75.0| 75.0|50.0|100.0|             100.0| 50.0| 62.5|-10.0|              100.0|\n",
            "|   Alabama|202007|               3.0|                  1.0|                     1.0|                           0.0|                       1.0|                          1.0|                                  1.0|                               3.0|              2.0|                    1.0|                            2.0|              3.0|               1.0|                 3.0|                  0.0|                             3.0|     0.0|     1.0|     1.0|     0.0|     0.0|     1.0|     1.0|    0.0|    1.0|     1.0|    0.0|     1.0|  83.33333333333334| 33.333333333333336| 50.0|-12.5| 25.0| 33.333333333333336| 50.0| 75.0| 75.0|50.0|100.0|             100.0| 50.0| 75.0|-10.0|              100.0|\n",
            "|   Alabama|202008|               2.0|                  1.0|                     1.0|                           0.0|                       0.0|                          1.0|                                  1.0|                               3.0|              1.0|                    0.0|                            2.0|              3.0|               1.0|                 3.0|                  0.0|                             3.0|     0.0|     1.0|     1.0|     0.0|     0.0|     1.0|     1.0|    0.0|    1.0|     1.0|    0.0|     1.0|               50.0| 33.333333333333336| 50.0|-12.5|-25.0| 33.333333333333336| 50.0| 75.0| 25.0| 0.0|100.0|             100.0| 50.0| 75.0|-10.0|              100.0|\n",
            "|   Alabama|202009|               2.0|                  1.0|                     1.0|                           0.0|                       0.0|                          1.0|                                  1.0|                               3.0|              1.0|                    1.0|                            2.0|              3.0|               2.0|                 3.0|                  0.0|                             3.0|     0.0|     1.0|     1.0|     0.0|     0.0|     1.0|     1.0|    0.0|    1.0|     1.0|    0.0|     1.0|               50.0| 33.333333333333336| 50.0|-12.5|-25.0| 33.333333333333336| 50.0| 75.0| 25.0|50.0|100.0|             100.0|100.0| 75.0|-10.0|              100.0|\n",
            "|   Alabama|202010|               2.0|                  1.0|                     1.0|                           0.0|                       0.0|                          1.0|                                  1.0|                               3.0|              1.0|                    1.0|                            2.0|              3.0|               1.0|                 3.0|                  0.0|                             2.0|     0.0|     1.0|     1.0|     0.0|     0.0|     1.0|     1.0|    0.0|    1.0|     1.0|    0.0|     1.0|               50.0| 33.333333333333336| 50.0|-12.5|-25.0| 33.333333333333336| 50.0| 75.0| 25.0|50.0|100.0|             100.0| 50.0| 75.0|-10.0|  66.66666666666667|\n",
            "|   Alabama|202011|               2.0|                  1.0|                     1.0|                           0.0|                       0.0|                          1.0|                                  1.0|                               3.0|              1.0|                    1.0|                            2.0|              3.0|               1.0|                 3.0|                  0.0|                             2.0|     0.0|     1.0|     1.0|     0.0|     0.0|     1.0|     1.0|    0.0|    1.0|     1.0|    0.0|     1.0|               50.0| 33.333333333333336| 50.0|-12.5|-25.0| 33.333333333333336| 50.0| 75.0| 25.0|50.0|100.0|             100.0| 50.0| 75.0|-10.0|  66.66666666666667|\n",
            "|   Alabama|202012|               2.0|                  1.0|                     1.0|                           0.0|                       0.0|                          1.0|                                  1.0|                               3.0|              1.0|                    1.0|                            2.0|              3.0|               1.0|                 3.0|                  0.0|                             2.0|     0.0|     1.0|     1.0|     0.0|     0.0|     1.0|     1.0|    0.0|    1.0|     1.0|    1.0|     1.0|               50.0| 33.333333333333336| 50.0|-12.5|-25.0| 33.333333333333336| 50.0| 75.0| 25.0|50.0|100.0|             100.0| 50.0| 75.0|  0.0|  66.66666666666667|\n",
            "|   Alabama|202101|               2.0|                  1.0|                     1.0|                           0.0|                       0.0|                          1.0|                                  1.0|                               3.0|              1.0|                    1.0|                            2.0|              3.0|               1.0|                 3.0|                  2.0|                             2.0|     0.0|     1.0|     1.0|     0.0|     0.0|     1.0|     1.0|    0.0|    1.0|     1.0|    1.0|     1.0|               50.0| 33.333333333333336| 50.0|-12.5|-25.0| 33.333333333333336| 50.0| 75.0| 25.0|50.0|100.0|             100.0| 50.0| 75.0| 40.0|  66.66666666666667|\n",
            "|   Alabama|202102|               2.0|                  1.0|                     1.0|                           0.0|                       0.0|                          1.0|                                  1.0|                               3.0|              1.0|                    1.0|                            2.0|              2.0|               1.0|                 3.0|                  2.0|                             2.0|     0.0|     1.0|     1.0|     0.0|     0.0|     1.0|     1.0|    0.0|    1.0|     1.0|    1.0|     1.0|               50.0| 33.333333333333336| 50.0|-12.5|-25.0| 33.333333333333336| 50.0| 75.0| 25.0|50.0|100.0| 66.66666666666667| 50.0| 75.0| 40.0|  66.66666666666667|\n",
            "|   Alabama|202103|               2.0|                  1.0|                     1.0|                           0.0|                       0.0|                          1.0|                                  1.0|                               3.0|              1.0|                    1.0|                            2.0|              2.0|               1.0|                 3.0|                  2.0|                             2.0|     0.0|     1.0|     1.0|     0.0|     0.0|     1.0|     1.0|    0.0|    1.0|     1.0|    1.0|     1.0|               50.0| 33.333333333333336| 50.0|-12.5|-25.0| 33.333333333333336| 50.0| 75.0| 25.0|50.0|100.0| 66.66666666666667| 50.0| 75.0| 40.0|  66.66666666666667|\n",
            "|   Alabama|202104|               1.0|                  1.0|                     1.0|                           0.0|                       0.0|                          1.0|                                  1.0|                               3.0|              1.0|                    1.0|                            2.0|              2.0|               1.0|                 2.0|                  5.0|                             2.0|     1.0|     1.0|     1.0|     0.0|     0.0|     1.0|     1.0|    0.0|    1.0|     0.0|    1.0|     1.0| 33.333333333333336| 33.333333333333336| 50.0|-12.5|-25.0| 33.333333333333336| 50.0| 75.0| 25.0|50.0|100.0| 66.66666666666667| 50.0| 37.5|100.0|  66.66666666666667|\n",
            "|   Alabama|202105|               1.0|                  0.0|                     1.0|                           0.0|                       0.0|                          1.0|                                  1.0|                               3.0|              1.0|                    1.0|                            2.0|              2.0|               1.0|                 2.0|                  5.0|                             2.0|     1.0|     0.0|     1.0|     0.0|     0.0|     1.0|     1.0|    0.0|    1.0|     0.0|    1.0|     1.0| 33.333333333333336|-16.666666666666668| 50.0|-12.5|-25.0| 33.333333333333336| 50.0| 75.0| 25.0|50.0|100.0| 66.66666666666667| 50.0| 37.5|100.0|  66.66666666666667|\n",
            "|   Alabama|202106|               0.0|                  0.0|                     1.0|                           0.0|                       0.0|                          1.0|                                  1.0|                               3.0|              1.0|                    1.0|                            2.0|              2.0|               1.0|                 2.0|                  5.0|                             1.0|     0.0|     0.0|     1.0|     0.0|     0.0|     1.0|     1.0|    0.0|    1.0|     1.0|    1.0|     1.0|-16.666666666666668|-16.666666666666668| 50.0|-12.5|-25.0| 33.333333333333336| 50.0| 75.0| 25.0|50.0|100.0| 66.66666666666667| 50.0| 50.0|100.0| 33.333333333333336|\n",
            "|   Alabama|202107|               0.0|                  0.0|                     1.0|                           0.0|                       0.0|                          0.0|                                  1.0|                               3.0|              1.0|                    1.0|                            2.0|              2.0|               1.0|                 2.0|                  5.0|                             1.0|     1.0|     0.0|     1.0|     0.0|     0.0|     1.0|     1.0|    0.0|    1.0|     1.0|    1.0|     1.0|                0.0|-16.666666666666668| 50.0|-12.5|-25.0|                0.0| 50.0| 75.0| 25.0|50.0|100.0| 66.66666666666667| 50.0| 50.0|100.0| 33.333333333333336|\n",
            "|   Alabama|202108|               1.0|                  0.0|                     0.0|                           0.0|                       0.0|                          0.0|                                  1.0|                               3.0|              1.0|                    1.0|                            2.0|              3.0|               1.0|                 2.0|                  5.0|                             1.0|     1.0|     0.0|     1.0|     0.0|     0.0|     0.0|     1.0|    0.0|    1.0|     0.0|    1.0|     1.0| 33.333333333333336|-16.666666666666668|  0.0|-12.5|-25.0|-16.666666666666668| 50.0| 75.0| 25.0|50.0|100.0|             100.0| 50.0| 37.5|100.0| 33.333333333333336|\n",
            "+----------+------+------------------+---------------------+------------------------+------------------------------+--------------------------+-----------------------------+-------------------------------------+----------------------------------+-----------------+-----------------------+-------------------------------+-----------------+------------------+--------------------+---------------------+--------------------------------+--------+--------+--------+--------+--------+--------+--------+-------+-------+--------+-------+--------+-------------------+-------------------+-----+-----+-----+-------------------+-----+-----+-----+----+-----+------------------+-----+-----+-----+-------------------+\n",
            "only showing top 20 rows\n",
            "\n"
          ]
        }
      ]
    },
    {
      "cell_type": "code",
      "source": [
        "for i in indicators:\n",
        "  temp = i.split(\"_\")\n",
        "  Ind = f\"I{temp[0]}\"\n",
        "  df = df.withColumn(Ind, when(col(i) == 0, 0).otherwise(col(Ind))) #when the policy value is 0, index should be 0\n",
        "df.show()\n"
      ],
      "metadata": {
        "colab": {
          "base_uri": "https://localhost:8080/"
        },
        "id": "g2BemFSexe1Q",
        "outputId": "1b8a8862-ad75-4277-9909-9ded1a523fbd"
      },
      "execution_count": 24,
      "outputs": [
        {
          "output_type": "stream",
          "name": "stdout",
          "text": [
            "+----------+------+------------------+---------------------+------------------------+------------------------------+--------------------------+-----------------------------+-------------------------------------+----------------------------------+-----------------+-----------------------+-------------------------------+-----------------+------------------+--------------------+---------------------+--------------------------------+--------+--------+--------+--------+--------+--------+--------+-------+-------+--------+-------+--------+------------------+------------------+-----+-----+----+------------------+----+-----+----+----+-----+------------------+-----+----+-----+------------------+\n",
            "|regionName|  Date|C1M_School closing|C2M_Workplace closing|C3M_Cancel public events|C4M_Restrictions on gatherings|C5M_Close public transport|C6M_Stay at home requirements|C7M_Restrictions on internal movement|C8EV_International travel controls|E1_Income support|E2_Debt/contract relief|H1_Public information campaigns|H2_Testing policy|H3_Contact tracing|H6M_Facial Coverings|H7_Vaccination policy|H8M_Protection of elderly people|C1M_Flag|C2M_Flag|C3M_Flag|C4M_Flag|C5M_Flag|C6M_Flag|C7M_Flag|E1_Flag|H1_Flag|H6M_Flag|H7_Flag|H8M_Flag|              IC1M|              IC2M| IC3M| IC4M|IC5M|              IC6M|IC7M|IC8EV| IE1| IE2|  IH1|               IH2|  IH3|IH6M|  IH7|              IH8M|\n",
            "+----------+------+------------------+---------------------+------------------------+------------------------------+--------------------------+-----------------------------+-------------------------------------+----------------------------------+-----------------+-----------------------+-------------------------------+-----------------+------------------+--------------------+---------------------+--------------------------------+--------+--------+--------+--------+--------+--------+--------+-------+-------+--------+-------+--------+------------------+------------------+-----+-----+----+------------------+----+-----+----+----+-----+------------------+-----+----+-----+------------------+\n",
            "|   Alabama|202001|               0.0|                  0.0|                     0.0|                           0.0|                       0.0|                          0.0|                                  0.0|                               0.0|              0.0|                    0.0|                            0.0|              0.0|               0.0|                 0.0|                  0.0|                             0.0|     0.0|     0.0|     0.0|     0.0|     0.0|     0.0|     0.0|    0.0|    0.0|     0.0|    0.0|     0.0|               0.0|               0.0|  0.0|  0.0| 0.0|               0.0| 0.0|  0.0| 0.0| 0.0|  0.0|               0.0|  0.0| 0.0|  0.0|               0.0|\n",
            "|   Alabama|202002|               0.0|                  0.0|                     0.0|                           0.0|                       0.0|                          0.0|                                  0.0|                               3.0|              0.0|                    0.0|                            0.0|              1.0|               1.0|                 0.0|                  0.0|                             0.0|     0.0|     0.0|     0.0|     0.0|     0.0|     0.0|     0.0|    0.0|    1.0|     0.0|    0.0|     0.0|               0.0|               0.0|  0.0|  0.0| 0.0|               0.0| 0.0| 75.0| 0.0| 0.0|  0.0|33.333333333333336| 50.0| 0.0|  0.0|               0.0|\n",
            "|   Alabama|202003|               3.0|                  3.0|                     2.0|                           0.0|                       0.0|                          0.0|                                  1.0|                               3.0|              0.0|                    0.0|                            2.0|              1.0|               1.0|                 0.0|                  0.0|                             3.0|     1.0|     0.0|     0.0|     0.0|     0.0|     0.0|     1.0|    0.0|    0.0|     0.0|    0.0|     1.0|             100.0| 83.33333333333334| 75.0|  0.0| 0.0|               0.0|50.0| 75.0| 0.0| 0.0| 75.0|33.333333333333336| 50.0| 0.0|  0.0|             100.0|\n",
            "|   Alabama|202004|               3.0|                  3.0|                     2.0|                           4.0|                       1.0|                          2.0|                                  1.0|                               3.0|              2.0|                    1.0|                            2.0|              2.0|               1.0|                 1.0|                  0.0|                             3.0|     1.0|     1.0|     1.0|     1.0|     0.0|     1.0|     1.0|    0.0|    1.0|     1.0|    0.0|     1.0|             100.0|             100.0|100.0|100.0|25.0| 66.66666666666667|50.0| 75.0|75.0|50.0|100.0| 66.66666666666667| 50.0|25.0|  0.0|             100.0|\n",
            "|   Alabama|202005|               3.0|                  3.0|                     2.0|                           0.0|                       1.0|                          2.0|                                  1.0|                               3.0|              2.0|                    1.0|                            2.0|              2.0|               1.0|                 3.0|                  0.0|                             3.0|     0.0|     0.0|     1.0|     1.0|     0.0|     0.0|     1.0|    0.0|    1.0|     0.0|    0.0|     1.0| 83.33333333333334| 83.33333333333334|100.0|  0.0|25.0|              50.0|50.0| 75.0|75.0|50.0|100.0| 66.66666666666667| 50.0|62.5|  0.0|             100.0|\n",
            "|   Alabama|202006|               3.0|                  3.0|                     1.0|                           0.0|                       1.0|                          2.0|                                  1.0|                               3.0|              2.0|                    1.0|                            2.0|              3.0|               1.0|                 3.0|                  0.0|                             3.0|     0.0|     0.0|     1.0|     0.0|     0.0|     0.0|     1.0|    0.0|    1.0|     0.0|    0.0|     1.0| 83.33333333333334| 83.33333333333334| 50.0|  0.0|25.0|              50.0|50.0| 75.0|75.0|50.0|100.0|             100.0| 50.0|62.5|  0.0|             100.0|\n",
            "|   Alabama|202007|               3.0|                  1.0|                     1.0|                           0.0|                       1.0|                          1.0|                                  1.0|                               3.0|              2.0|                    1.0|                            2.0|              3.0|               1.0|                 3.0|                  0.0|                             3.0|     0.0|     1.0|     1.0|     0.0|     0.0|     1.0|     1.0|    0.0|    1.0|     1.0|    0.0|     1.0| 83.33333333333334|33.333333333333336| 50.0|  0.0|25.0|33.333333333333336|50.0| 75.0|75.0|50.0|100.0|             100.0| 50.0|75.0|  0.0|             100.0|\n",
            "|   Alabama|202008|               2.0|                  1.0|                     1.0|                           0.0|                       0.0|                          1.0|                                  1.0|                               3.0|              1.0|                    0.0|                            2.0|              3.0|               1.0|                 3.0|                  0.0|                             3.0|     0.0|     1.0|     1.0|     0.0|     0.0|     1.0|     1.0|    0.0|    1.0|     1.0|    0.0|     1.0|              50.0|33.333333333333336| 50.0|  0.0| 0.0|33.333333333333336|50.0| 75.0|25.0| 0.0|100.0|             100.0| 50.0|75.0|  0.0|             100.0|\n",
            "|   Alabama|202009|               2.0|                  1.0|                     1.0|                           0.0|                       0.0|                          1.0|                                  1.0|                               3.0|              1.0|                    1.0|                            2.0|              3.0|               2.0|                 3.0|                  0.0|                             3.0|     0.0|     1.0|     1.0|     0.0|     0.0|     1.0|     1.0|    0.0|    1.0|     1.0|    0.0|     1.0|              50.0|33.333333333333336| 50.0|  0.0| 0.0|33.333333333333336|50.0| 75.0|25.0|50.0|100.0|             100.0|100.0|75.0|  0.0|             100.0|\n",
            "|   Alabama|202010|               2.0|                  1.0|                     1.0|                           0.0|                       0.0|                          1.0|                                  1.0|                               3.0|              1.0|                    1.0|                            2.0|              3.0|               1.0|                 3.0|                  0.0|                             2.0|     0.0|     1.0|     1.0|     0.0|     0.0|     1.0|     1.0|    0.0|    1.0|     1.0|    0.0|     1.0|              50.0|33.333333333333336| 50.0|  0.0| 0.0|33.333333333333336|50.0| 75.0|25.0|50.0|100.0|             100.0| 50.0|75.0|  0.0| 66.66666666666667|\n",
            "|   Alabama|202011|               2.0|                  1.0|                     1.0|                           0.0|                       0.0|                          1.0|                                  1.0|                               3.0|              1.0|                    1.0|                            2.0|              3.0|               1.0|                 3.0|                  0.0|                             2.0|     0.0|     1.0|     1.0|     0.0|     0.0|     1.0|     1.0|    0.0|    1.0|     1.0|    0.0|     1.0|              50.0|33.333333333333336| 50.0|  0.0| 0.0|33.333333333333336|50.0| 75.0|25.0|50.0|100.0|             100.0| 50.0|75.0|  0.0| 66.66666666666667|\n",
            "|   Alabama|202012|               2.0|                  1.0|                     1.0|                           0.0|                       0.0|                          1.0|                                  1.0|                               3.0|              1.0|                    1.0|                            2.0|              3.0|               1.0|                 3.0|                  0.0|                             2.0|     0.0|     1.0|     1.0|     0.0|     0.0|     1.0|     1.0|    0.0|    1.0|     1.0|    1.0|     1.0|              50.0|33.333333333333336| 50.0|  0.0| 0.0|33.333333333333336|50.0| 75.0|25.0|50.0|100.0|             100.0| 50.0|75.0|  0.0| 66.66666666666667|\n",
            "|   Alabama|202101|               2.0|                  1.0|                     1.0|                           0.0|                       0.0|                          1.0|                                  1.0|                               3.0|              1.0|                    1.0|                            2.0|              3.0|               1.0|                 3.0|                  2.0|                             2.0|     0.0|     1.0|     1.0|     0.0|     0.0|     1.0|     1.0|    0.0|    1.0|     1.0|    1.0|     1.0|              50.0|33.333333333333336| 50.0|  0.0| 0.0|33.333333333333336|50.0| 75.0|25.0|50.0|100.0|             100.0| 50.0|75.0| 40.0| 66.66666666666667|\n",
            "|   Alabama|202102|               2.0|                  1.0|                     1.0|                           0.0|                       0.0|                          1.0|                                  1.0|                               3.0|              1.0|                    1.0|                            2.0|              2.0|               1.0|                 3.0|                  2.0|                             2.0|     0.0|     1.0|     1.0|     0.0|     0.0|     1.0|     1.0|    0.0|    1.0|     1.0|    1.0|     1.0|              50.0|33.333333333333336| 50.0|  0.0| 0.0|33.333333333333336|50.0| 75.0|25.0|50.0|100.0| 66.66666666666667| 50.0|75.0| 40.0| 66.66666666666667|\n",
            "|   Alabama|202103|               2.0|                  1.0|                     1.0|                           0.0|                       0.0|                          1.0|                                  1.0|                               3.0|              1.0|                    1.0|                            2.0|              2.0|               1.0|                 3.0|                  2.0|                             2.0|     0.0|     1.0|     1.0|     0.0|     0.0|     1.0|     1.0|    0.0|    1.0|     1.0|    1.0|     1.0|              50.0|33.333333333333336| 50.0|  0.0| 0.0|33.333333333333336|50.0| 75.0|25.0|50.0|100.0| 66.66666666666667| 50.0|75.0| 40.0| 66.66666666666667|\n",
            "|   Alabama|202104|               1.0|                  1.0|                     1.0|                           0.0|                       0.0|                          1.0|                                  1.0|                               3.0|              1.0|                    1.0|                            2.0|              2.0|               1.0|                 2.0|                  5.0|                             2.0|     1.0|     1.0|     1.0|     0.0|     0.0|     1.0|     1.0|    0.0|    1.0|     0.0|    1.0|     1.0|33.333333333333336|33.333333333333336| 50.0|  0.0| 0.0|33.333333333333336|50.0| 75.0|25.0|50.0|100.0| 66.66666666666667| 50.0|37.5|100.0| 66.66666666666667|\n",
            "|   Alabama|202105|               1.0|                  0.0|                     1.0|                           0.0|                       0.0|                          1.0|                                  1.0|                               3.0|              1.0|                    1.0|                            2.0|              2.0|               1.0|                 2.0|                  5.0|                             2.0|     1.0|     0.0|     1.0|     0.0|     0.0|     1.0|     1.0|    0.0|    1.0|     0.0|    1.0|     1.0|33.333333333333336|               0.0| 50.0|  0.0| 0.0|33.333333333333336|50.0| 75.0|25.0|50.0|100.0| 66.66666666666667| 50.0|37.5|100.0| 66.66666666666667|\n",
            "|   Alabama|202106|               0.0|                  0.0|                     1.0|                           0.0|                       0.0|                          1.0|                                  1.0|                               3.0|              1.0|                    1.0|                            2.0|              2.0|               1.0|                 2.0|                  5.0|                             1.0|     0.0|     0.0|     1.0|     0.0|     0.0|     1.0|     1.0|    0.0|    1.0|     1.0|    1.0|     1.0|               0.0|               0.0| 50.0|  0.0| 0.0|33.333333333333336|50.0| 75.0|25.0|50.0|100.0| 66.66666666666667| 50.0|50.0|100.0|33.333333333333336|\n",
            "|   Alabama|202107|               0.0|                  0.0|                     1.0|                           0.0|                       0.0|                          0.0|                                  1.0|                               3.0|              1.0|                    1.0|                            2.0|              2.0|               1.0|                 2.0|                  5.0|                             1.0|     1.0|     0.0|     1.0|     0.0|     0.0|     1.0|     1.0|    0.0|    1.0|     1.0|    1.0|     1.0|               0.0|               0.0| 50.0|  0.0| 0.0|               0.0|50.0| 75.0|25.0|50.0|100.0| 66.66666666666667| 50.0|50.0|100.0|33.333333333333336|\n",
            "|   Alabama|202108|               1.0|                  0.0|                     0.0|                           0.0|                       0.0|                          0.0|                                  1.0|                               3.0|              1.0|                    1.0|                            2.0|              3.0|               1.0|                 2.0|                  5.0|                             1.0|     1.0|     0.0|     1.0|     0.0|     0.0|     0.0|     1.0|    0.0|    1.0|     0.0|    1.0|     1.0|33.333333333333336|               0.0|  0.0|  0.0| 0.0|               0.0|50.0| 75.0|25.0|50.0|100.0|             100.0| 50.0|37.5|100.0|33.333333333333336|\n",
            "+----------+------+------------------+---------------------+------------------------+------------------------------+--------------------------+-----------------------------+-------------------------------------+----------------------------------+-----------------+-----------------------+-------------------------------+-----------------+------------------+--------------------+---------------------+--------------------------------+--------+--------+--------+--------+--------+--------+--------+-------+-------+--------+-------+--------+------------------+------------------+-----+-----+----+------------------+----+-----+----+----+-----+------------------+-----+----+-----+------------------+\n",
            "only showing top 20 rows\n",
            "\n"
          ]
        }
      ]
    },
    {
      "cell_type": "code",
      "source": [
        "I_columns = []\n",
        "for i in indicators:\n",
        "  temp = i.split(\"_\")\n",
        "  Ind = f\"I{temp[0]}\"\n",
        "  I_columns.append(Ind)\n",
        "\n",
        "df_with_average = df.withColumn(\"GovernmentResponseIndex\", expr('+'.join(I_columns)) / len(I_columns))\n",
        "df_with_average.show()\n"
      ],
      "metadata": {
        "colab": {
          "base_uri": "https://localhost:8080/"
        },
        "id": "AWlIgNckp5NZ",
        "outputId": "4e6b5530-94d3-4a1e-8a44-54e900bfcb2c"
      },
      "execution_count": 25,
      "outputs": [
        {
          "output_type": "stream",
          "name": "stdout",
          "text": [
            "+----------+------+------------------+---------------------+------------------------+------------------------------+--------------------------+-----------------------------+-------------------------------------+----------------------------------+-----------------+-----------------------+-------------------------------+-----------------+------------------+--------------------+---------------------+--------------------------------+--------+--------+--------+--------+--------+--------+--------+-------+-------+--------+-------+--------+------------------+------------------+-----+-----+----+------------------+----+-----+----+----+-----+------------------+-----+----+-----+------------------+-----------------------+\n",
            "|regionName|  Date|C1M_School closing|C2M_Workplace closing|C3M_Cancel public events|C4M_Restrictions on gatherings|C5M_Close public transport|C6M_Stay at home requirements|C7M_Restrictions on internal movement|C8EV_International travel controls|E1_Income support|E2_Debt/contract relief|H1_Public information campaigns|H2_Testing policy|H3_Contact tracing|H6M_Facial Coverings|H7_Vaccination policy|H8M_Protection of elderly people|C1M_Flag|C2M_Flag|C3M_Flag|C4M_Flag|C5M_Flag|C6M_Flag|C7M_Flag|E1_Flag|H1_Flag|H6M_Flag|H7_Flag|H8M_Flag|              IC1M|              IC2M| IC3M| IC4M|IC5M|              IC6M|IC7M|IC8EV| IE1| IE2|  IH1|               IH2|  IH3|IH6M|  IH7|              IH8M|GovernmentResponseIndex|\n",
            "+----------+------+------------------+---------------------+------------------------+------------------------------+--------------------------+-----------------------------+-------------------------------------+----------------------------------+-----------------+-----------------------+-------------------------------+-----------------+------------------+--------------------+---------------------+--------------------------------+--------+--------+--------+--------+--------+--------+--------+-------+-------+--------+-------+--------+------------------+------------------+-----+-----+----+------------------+----+-----+----+----+-----+------------------+-----+----+-----+------------------+-----------------------+\n",
            "|   Alabama|202001|               0.0|                  0.0|                     0.0|                           0.0|                       0.0|                          0.0|                                  0.0|                               0.0|              0.0|                    0.0|                            0.0|              0.0|               0.0|                 0.0|                  0.0|                             0.0|     0.0|     0.0|     0.0|     0.0|     0.0|     0.0|     0.0|    0.0|    0.0|     0.0|    0.0|     0.0|               0.0|               0.0|  0.0|  0.0| 0.0|               0.0| 0.0|  0.0| 0.0| 0.0|  0.0|               0.0|  0.0| 0.0|  0.0|               0.0|                    0.0|\n",
            "|   Alabama|202002|               0.0|                  0.0|                     0.0|                           0.0|                       0.0|                          0.0|                                  0.0|                               3.0|              0.0|                    0.0|                            0.0|              1.0|               1.0|                 0.0|                  0.0|                             0.0|     0.0|     0.0|     0.0|     0.0|     0.0|     0.0|     0.0|    0.0|    1.0|     0.0|    0.0|     0.0|               0.0|               0.0|  0.0|  0.0| 0.0|               0.0| 0.0| 75.0| 0.0| 0.0|  0.0|33.333333333333336| 50.0| 0.0|  0.0|               0.0|      9.895833333333334|\n",
            "|   Alabama|202003|               3.0|                  3.0|                     2.0|                           0.0|                       0.0|                          0.0|                                  1.0|                               3.0|              0.0|                    0.0|                            2.0|              1.0|               1.0|                 0.0|                  0.0|                             3.0|     1.0|     0.0|     0.0|     0.0|     0.0|     0.0|     1.0|    0.0|    0.0|     0.0|    0.0|     1.0|             100.0| 83.33333333333334| 75.0|  0.0| 0.0|               0.0|50.0| 75.0| 0.0| 0.0| 75.0|33.333333333333336| 50.0| 0.0|  0.0|             100.0|      40.10416666666667|\n",
            "|   Alabama|202004|               3.0|                  3.0|                     2.0|                           4.0|                       1.0|                          2.0|                                  1.0|                               3.0|              2.0|                    1.0|                            2.0|              2.0|               1.0|                 1.0|                  0.0|                             3.0|     1.0|     1.0|     1.0|     1.0|     0.0|     1.0|     1.0|    0.0|    1.0|     1.0|    0.0|     1.0|             100.0|             100.0|100.0|100.0|25.0| 66.66666666666667|50.0| 75.0|75.0|50.0|100.0| 66.66666666666667| 50.0|25.0|  0.0|             100.0|      67.70833333333334|\n",
            "|   Alabama|202005|               3.0|                  3.0|                     2.0|                           0.0|                       1.0|                          2.0|                                  1.0|                               3.0|              2.0|                    1.0|                            2.0|              2.0|               1.0|                 3.0|                  0.0|                             3.0|     0.0|     0.0|     1.0|     1.0|     0.0|     0.0|     1.0|    0.0|    1.0|     0.0|    0.0|     1.0| 83.33333333333334| 83.33333333333334|100.0|  0.0|25.0|              50.0|50.0| 75.0|75.0|50.0|100.0| 66.66666666666667| 50.0|62.5|  0.0|             100.0|     60.677083333333336|\n",
            "|   Alabama|202006|               3.0|                  3.0|                     1.0|                           0.0|                       1.0|                          2.0|                                  1.0|                               3.0|              2.0|                    1.0|                            2.0|              3.0|               1.0|                 3.0|                  0.0|                             3.0|     0.0|     0.0|     1.0|     0.0|     0.0|     0.0|     1.0|    0.0|    1.0|     0.0|    0.0|     1.0| 83.33333333333334| 83.33333333333334| 50.0|  0.0|25.0|              50.0|50.0| 75.0|75.0|50.0|100.0|             100.0| 50.0|62.5|  0.0|             100.0|      59.63541666666667|\n",
            "|   Alabama|202007|               3.0|                  1.0|                     1.0|                           0.0|                       1.0|                          1.0|                                  1.0|                               3.0|              2.0|                    1.0|                            2.0|              3.0|               1.0|                 3.0|                  0.0|                             3.0|     0.0|     1.0|     1.0|     0.0|     0.0|     1.0|     1.0|    0.0|    1.0|     1.0|    0.0|     1.0| 83.33333333333334|33.333333333333336| 50.0|  0.0|25.0|33.333333333333336|50.0| 75.0|75.0|50.0|100.0|             100.0| 50.0|75.0|  0.0|             100.0|                  56.25|\n",
            "|   Alabama|202008|               2.0|                  1.0|                     1.0|                           0.0|                       0.0|                          1.0|                                  1.0|                               3.0|              1.0|                    0.0|                            2.0|              3.0|               1.0|                 3.0|                  0.0|                             3.0|     0.0|     1.0|     1.0|     0.0|     0.0|     1.0|     1.0|    0.0|    1.0|     1.0|    0.0|     1.0|              50.0|33.333333333333336| 50.0|  0.0| 0.0|33.333333333333336|50.0| 75.0|25.0| 0.0|100.0|             100.0| 50.0|75.0|  0.0|             100.0|      46.35416666666667|\n",
            "|   Alabama|202009|               2.0|                  1.0|                     1.0|                           0.0|                       0.0|                          1.0|                                  1.0|                               3.0|              1.0|                    1.0|                            2.0|              3.0|               2.0|                 3.0|                  0.0|                             3.0|     0.0|     1.0|     1.0|     0.0|     0.0|     1.0|     1.0|    0.0|    1.0|     1.0|    0.0|     1.0|              50.0|33.333333333333336| 50.0|  0.0| 0.0|33.333333333333336|50.0| 75.0|25.0|50.0|100.0|             100.0|100.0|75.0|  0.0|             100.0|      52.60416666666667|\n",
            "|   Alabama|202010|               2.0|                  1.0|                     1.0|                           0.0|                       0.0|                          1.0|                                  1.0|                               3.0|              1.0|                    1.0|                            2.0|              3.0|               1.0|                 3.0|                  0.0|                             2.0|     0.0|     1.0|     1.0|     0.0|     0.0|     1.0|     1.0|    0.0|    1.0|     1.0|    0.0|     1.0|              50.0|33.333333333333336| 50.0|  0.0| 0.0|33.333333333333336|50.0| 75.0|25.0|50.0|100.0|             100.0| 50.0|75.0|  0.0| 66.66666666666667|     47.395833333333336|\n",
            "|   Alabama|202011|               2.0|                  1.0|                     1.0|                           0.0|                       0.0|                          1.0|                                  1.0|                               3.0|              1.0|                    1.0|                            2.0|              3.0|               1.0|                 3.0|                  0.0|                             2.0|     0.0|     1.0|     1.0|     0.0|     0.0|     1.0|     1.0|    0.0|    1.0|     1.0|    0.0|     1.0|              50.0|33.333333333333336| 50.0|  0.0| 0.0|33.333333333333336|50.0| 75.0|25.0|50.0|100.0|             100.0| 50.0|75.0|  0.0| 66.66666666666667|     47.395833333333336|\n",
            "|   Alabama|202012|               2.0|                  1.0|                     1.0|                           0.0|                       0.0|                          1.0|                                  1.0|                               3.0|              1.0|                    1.0|                            2.0|              3.0|               1.0|                 3.0|                  0.0|                             2.0|     0.0|     1.0|     1.0|     0.0|     0.0|     1.0|     1.0|    0.0|    1.0|     1.0|    1.0|     1.0|              50.0|33.333333333333336| 50.0|  0.0| 0.0|33.333333333333336|50.0| 75.0|25.0|50.0|100.0|             100.0| 50.0|75.0|  0.0| 66.66666666666667|     47.395833333333336|\n",
            "|   Alabama|202101|               2.0|                  1.0|                     1.0|                           0.0|                       0.0|                          1.0|                                  1.0|                               3.0|              1.0|                    1.0|                            2.0|              3.0|               1.0|                 3.0|                  2.0|                             2.0|     0.0|     1.0|     1.0|     0.0|     0.0|     1.0|     1.0|    0.0|    1.0|     1.0|    1.0|     1.0|              50.0|33.333333333333336| 50.0|  0.0| 0.0|33.333333333333336|50.0| 75.0|25.0|50.0|100.0|             100.0| 50.0|75.0| 40.0| 66.66666666666667|     49.895833333333336|\n",
            "|   Alabama|202102|               2.0|                  1.0|                     1.0|                           0.0|                       0.0|                          1.0|                                  1.0|                               3.0|              1.0|                    1.0|                            2.0|              2.0|               1.0|                 3.0|                  2.0|                             2.0|     0.0|     1.0|     1.0|     0.0|     0.0|     1.0|     1.0|    0.0|    1.0|     1.0|    1.0|     1.0|              50.0|33.333333333333336| 50.0|  0.0| 0.0|33.333333333333336|50.0| 75.0|25.0|50.0|100.0| 66.66666666666667| 50.0|75.0| 40.0| 66.66666666666667|                47.8125|\n",
            "|   Alabama|202103|               2.0|                  1.0|                     1.0|                           0.0|                       0.0|                          1.0|                                  1.0|                               3.0|              1.0|                    1.0|                            2.0|              2.0|               1.0|                 3.0|                  2.0|                             2.0|     0.0|     1.0|     1.0|     0.0|     0.0|     1.0|     1.0|    0.0|    1.0|     1.0|    1.0|     1.0|              50.0|33.333333333333336| 50.0|  0.0| 0.0|33.333333333333336|50.0| 75.0|25.0|50.0|100.0| 66.66666666666667| 50.0|75.0| 40.0| 66.66666666666667|                47.8125|\n",
            "|   Alabama|202104|               1.0|                  1.0|                     1.0|                           0.0|                       0.0|                          1.0|                                  1.0|                               3.0|              1.0|                    1.0|                            2.0|              2.0|               1.0|                 2.0|                  5.0|                             2.0|     1.0|     1.0|     1.0|     0.0|     0.0|     1.0|     1.0|    0.0|    1.0|     0.0|    1.0|     1.0|33.333333333333336|33.333333333333336| 50.0|  0.0| 0.0|33.333333333333336|50.0| 75.0|25.0|50.0|100.0| 66.66666666666667| 50.0|37.5|100.0| 66.66666666666667|      48.17708333333333|\n",
            "|   Alabama|202105|               1.0|                  0.0|                     1.0|                           0.0|                       0.0|                          1.0|                                  1.0|                               3.0|              1.0|                    1.0|                            2.0|              2.0|               1.0|                 2.0|                  5.0|                             2.0|     1.0|     0.0|     1.0|     0.0|     0.0|     1.0|     1.0|    0.0|    1.0|     0.0|    1.0|     1.0|33.333333333333336|               0.0| 50.0|  0.0| 0.0|33.333333333333336|50.0| 75.0|25.0|50.0|100.0| 66.66666666666667| 50.0|37.5|100.0| 66.66666666666667|               46.09375|\n",
            "|   Alabama|202106|               0.0|                  0.0|                     1.0|                           0.0|                       0.0|                          1.0|                                  1.0|                               3.0|              1.0|                    1.0|                            2.0|              2.0|               1.0|                 2.0|                  5.0|                             1.0|     0.0|     0.0|     1.0|     0.0|     0.0|     1.0|     1.0|    0.0|    1.0|     1.0|    1.0|     1.0|               0.0|               0.0| 50.0|  0.0| 0.0|33.333333333333336|50.0| 75.0|25.0|50.0|100.0| 66.66666666666667| 50.0|50.0|100.0|33.333333333333336|     42.708333333333336|\n",
            "|   Alabama|202107|               0.0|                  0.0|                     1.0|                           0.0|                       0.0|                          0.0|                                  1.0|                               3.0|              1.0|                    1.0|                            2.0|              2.0|               1.0|                 2.0|                  5.0|                             1.0|     1.0|     0.0|     1.0|     0.0|     0.0|     1.0|     1.0|    0.0|    1.0|     1.0|    1.0|     1.0|               0.0|               0.0| 50.0|  0.0| 0.0|               0.0|50.0| 75.0|25.0|50.0|100.0| 66.66666666666667| 50.0|50.0|100.0|33.333333333333336|      40.62500000000001|\n",
            "|   Alabama|202108|               1.0|                  0.0|                     0.0|                           0.0|                       0.0|                          0.0|                                  1.0|                               3.0|              1.0|                    1.0|                            2.0|              3.0|               1.0|                 2.0|                  5.0|                             1.0|     1.0|     0.0|     1.0|     0.0|     0.0|     0.0|     1.0|    0.0|    1.0|     0.0|    1.0|     1.0|33.333333333333336|               0.0|  0.0|  0.0| 0.0|               0.0|50.0| 75.0|25.0|50.0|100.0|             100.0| 50.0|37.5|100.0|33.333333333333336|      40.88541666666667|\n",
            "+----------+------+------------------+---------------------+------------------------+------------------------------+--------------------------+-----------------------------+-------------------------------------+----------------------------------+-----------------+-----------------------+-------------------------------+-----------------+------------------+--------------------+---------------------+--------------------------------+--------+--------+--------+--------+--------+--------+--------+-------+-------+--------+-------+--------+------------------+------------------+-----+-----+----+------------------+----+-----+----+----+-----+------------------+-----+----+-----+------------------+-----------------------+\n",
            "only showing top 20 rows\n",
            "\n"
          ]
        }
      ]
    },
    {
      "cell_type": "code",
      "source": [
        "df_to_show = df_with_average.select(\"regionName\",\"Date\",\"GovernmentResponseIndex\")\n",
        "df_to_show = df_to_show.withColumn(\"Date\", to_date(df_to_show[\"Date\"], \"yyyyMM\"))\n",
        "\n",
        "df_to_show = df_to_show.orderBy(col(\"regionName\").asc(), col(\"Date\").asc())\n",
        "\n",
        "df_to_show = df_to_show.withColumn(\"Date\", date_format(df_to_show[\"Date\"], \"MM-yyyy\"))\n",
        "df_to_show.show()"
      ],
      "metadata": {
        "colab": {
          "base_uri": "https://localhost:8080/"
        },
        "id": "W3MwWEBvFQBX",
        "outputId": "a00e3c75-10ed-4ae9-c121-6f20ab27161a"
      },
      "execution_count": 26,
      "outputs": [
        {
          "output_type": "stream",
          "name": "stdout",
          "text": [
            "+----------+-------+-----------------------+\n",
            "|regionName|   Date|GovernmentResponseIndex|\n",
            "+----------+-------+-----------------------+\n",
            "|   Alabama|01-2020|                    0.0|\n",
            "|   Alabama|02-2020|      9.895833333333334|\n",
            "|   Alabama|03-2020|      40.10416666666667|\n",
            "|   Alabama|04-2020|      67.70833333333334|\n",
            "|   Alabama|05-2020|     60.677083333333336|\n",
            "|   Alabama|06-2020|      59.63541666666667|\n",
            "|   Alabama|07-2020|                  56.25|\n",
            "|   Alabama|08-2020|      46.35416666666667|\n",
            "|   Alabama|09-2020|      52.60416666666667|\n",
            "|   Alabama|10-2020|     47.395833333333336|\n",
            "|   Alabama|11-2020|     47.395833333333336|\n",
            "|   Alabama|12-2020|     47.395833333333336|\n",
            "|   Alabama|01-2021|     49.895833333333336|\n",
            "|   Alabama|02-2021|                47.8125|\n",
            "|   Alabama|03-2021|                47.8125|\n",
            "|   Alabama|04-2021|      48.17708333333333|\n",
            "|   Alabama|05-2021|               46.09375|\n",
            "|   Alabama|06-2021|     42.708333333333336|\n",
            "|   Alabama|07-2021|      40.62500000000001|\n",
            "|   Alabama|08-2021|      40.88541666666667|\n",
            "+----------+-------+-----------------------+\n",
            "only showing top 20 rows\n",
            "\n"
          ]
        }
      ]
    },
    {
      "cell_type": "code",
      "source": [
        "df_pandas = df_to_show.toPandas()\n",
        "df_pandas.to_csv(\"/content/Q2.txt\", sep='\\t', index=False)"
      ],
      "metadata": {
        "id": "VeU55-jyKNVg"
      },
      "execution_count": 27,
      "outputs": []
    },
    {
      "cell_type": "markdown",
      "source": [
        "### Q3 - Association Rules"
      ],
      "metadata": {
        "id": "7d6NcDhRtuTK"
      }
    },
    {
      "cell_type": "code",
      "source": [
        "policies =  list(indicators)"
      ],
      "metadata": {
        "id": "Fl0Mr7obu23F"
      },
      "execution_count": 28,
      "outputs": []
    },
    {
      "cell_type": "code",
      "source": [
        "def getpolicies(row):\n",
        "  result = []\n",
        "  for p in policies:\n",
        "    if row[p] == None:\n",
        "      continue\n",
        "    if row[p] > 0: #access value of policy p, and check if it is implemented\n",
        "      result.append(p)\n",
        "  return result\n",
        "def transform_to_items(df):\n",
        "    \"\"\"\n",
        "      INPUT:\n",
        "          df: spark dataframe\n",
        "      OUTPUT:\n",
        "          list itemsets: list\n",
        "\n",
        "      NOTE: output a list itemsets from given dataframe.\n",
        "      \"\"\"\n",
        "      # YOUR CODE HERE\n",
        "    df = df.filter(substring(col(\"Date\"),7,2) == \"01\") #First day of each month\n",
        "    for p in policies:\n",
        "      df = df.withColumn(p, col(p).cast(\"float\")) #Change the policies value to float to be able to compare in getpolicies\n",
        "    df = df.rdd\n",
        "    df = df.map(getpolicies)#policies in each region in the first day of each month\n",
        "    return df"
      ],
      "metadata": {
        "id": "m4okMWMT8ApT"
      },
      "execution_count": 29,
      "outputs": []
    },
    {
      "cell_type": "code",
      "source": [
        "def apriori(items, min_sup, itemset_size):\n",
        "    \"\"\"\n",
        "    INPUT:\n",
        "        items: list\n",
        "        min_sup: the min support\n",
        "    OUTPUT:\n",
        "        list of frequent itemsets: list\n",
        "\n",
        "    NOTE: output a list of frequent itemsets.\n",
        "    \"\"\"\n",
        "    # YOUR CODE HERE\n",
        "    c = {frozenset((subset,)) for subset in policies}\n",
        "    for k in range(1,itemset_size+1):\n",
        "      rdd = items.flatMap(lambda basket: count_occurences(basket,c))\n",
        "      count = rdd.reduceByKey(lambda x,y:(x+y))\n",
        "      L = count.filter(lambda x: x[1]>= min_sup)\n",
        "      if k==itemset_size:\n",
        "        return L\n",
        "      c = create_combinations(L,k+1)\n",
        "\n",
        "# You may have additional functions\n",
        "def count_occurences(basket, c):\n",
        "  #c is the candidate set\n",
        "  result = []\n",
        "  for candidate in c:\n",
        "    if (candidate).issubset(set(basket)):\n",
        "      result.append((candidate,1)) #Setting available candidates in each basket to (candidate,1) in order to reduceByKey\n",
        "  return result\n",
        "def create_combinations(items,size):\n",
        "  temp = items.collect()\n",
        "  result = []\n",
        "  for i in range(len(temp)):\n",
        "    for j in range(i+1,len(temp)):\n",
        "      new = temp[i][0] | temp[j][0]\n",
        "      if len(new) == size:\n",
        "        result.append(new)\n",
        "  combinations = {frozenset(subset) for subset in result}\n",
        "  return set(combinations)"
      ],
      "metadata": {
        "id": "jYTwc9Cgtw87"
      },
      "execution_count": 30,
      "outputs": []
    },
    {
      "cell_type": "markdown",
      "source": [
        "Run your function in the next cells to output required content."
      ],
      "metadata": {
        "id": "YCZOK6SIxfXg"
      }
    },
    {
      "cell_type": "code",
      "source": [
        "spark.stop()\n",
        "spark = SparkSession.builder.getOrCreate()\n",
        "\n",
        "OxCGRT_latest = spark.read.option(\"header\", True).csv(\"OxCGRT_USA_latest.csv\")"
      ],
      "metadata": {
        "id": "ccexb2wsxgxn"
      },
      "execution_count": 31,
      "outputs": []
    },
    {
      "cell_type": "code",
      "source": [
        "OxCGRT_latest.show()"
      ],
      "metadata": {
        "colab": {
          "base_uri": "https://localhost:8080/"
        },
        "id": "B7uGSzj9aE-k",
        "outputId": "26cf3244-1f98-4c86-9792-a2e1c68dd353"
      },
      "execution_count": 32,
      "outputs": [
        {
          "output_type": "stream",
          "name": "stdout",
          "text": [
            "+-------------+-----------+----------+----------+------------+--------+------------------+--------+---------------------+--------+------------------------+--------+------------------------------+--------+--------------------------+--------+-----------------------------+--------+-------------------------------------+--------+----------------------------------+-----------------+-------+-----------------------+------------------+------------------------+-------------------------------+-------+-----------------+------------------+-------------------------------------+-------------------------+--------------------+--------+---------------------+-------+--------------------------------+--------+-----------+-----------------------------------+----------------------------------+-------------------------------------------------------------------------------+--------------------------------------------------------------------+--------------------------------------------------+-------------+---------------------------------------+-----------------------------------+--------------------------------------+----------------------------------+--------------+---------------+------------------+--------------------+-----------------------+----------------------------------+-------------------------------+------------------------------------------+------------------------------+-----------------------------------------+--------------------+-------------------------------+\n",
            "|  CountryName|CountryCode|RegionName|RegionCode|Jurisdiction|    Date|C1M_School closing|C1M_Flag|C2M_Workplace closing|C2M_Flag|C3M_Cancel public events|C3M_Flag|C4M_Restrictions on gatherings|C4M_Flag|C5M_Close public transport|C5M_Flag|C6M_Stay at home requirements|C6M_Flag|C7M_Restrictions on internal movement|C7M_Flag|C8EV_International travel controls|E1_Income support|E1_Flag|E2_Debt/contract relief|E3_Fiscal measures|E4_International support|H1_Public information campaigns|H1_Flag|H2_Testing policy|H3_Contact tracing|H4_Emergency investment in healthcare|H5_Investment in vaccines|H6M_Facial Coverings|H6M_Flag|H7_Vaccination policy|H7_Flag|H8M_Protection of elderly people|H8M_Flag|M1_Wildcard|V1_Vaccine Prioritisation (summary)|V2A_Vaccine Availability (summary)|V2B_Vaccine age eligibility/availability age floor (general population summary)|V2C_Vaccine age eligibility/availability age floor (at risk summary)|V2D_Medically/ clinically vulnerable (Non-elderly)|V2E_Education|V2F_Frontline workers  (non healthcare)|V2G_Frontline workers  (healthcare)|V3_Vaccine Financial Support (summary)|V4_Mandatory Vaccination (summary)|ConfirmedCases|ConfirmedDeaths|MajorityVaccinated|PopulationVaccinated|StringencyIndex_Average|StringencyIndex_Average_ForDisplay|GovernmentResponseIndex_Average|GovernmentResponseIndex_Average_ForDisplay|ContainmentHealthIndex_Average|ContainmentHealthIndex_Average_ForDisplay|EconomicSupportIndex|EconomicSupportIndex_ForDisplay|\n",
            "+-------------+-----------+----------+----------+------------+--------+------------------+--------+---------------------+--------+------------------------+--------+------------------------------+--------+--------------------------+--------+-----------------------------+--------+-------------------------------------+--------+----------------------------------+-----------------+-------+-----------------------+------------------+------------------------+-------------------------------+-------+-----------------+------------------+-------------------------------------+-------------------------+--------------------+--------+---------------------+-------+--------------------------------+--------+-----------+-----------------------------------+----------------------------------+-------------------------------------------------------------------------------+--------------------------------------------------------------------+--------------------------------------------------+-------------+---------------------------------------+-----------------------------------+--------------------------------------+----------------------------------+--------------+---------------+------------------+--------------------+-----------------------+----------------------------------+-------------------------------+------------------------------------------+------------------------------+-----------------------------------------+--------------------+-------------------------------+\n",
            "|United States|        USA|      NULL|      NULL|   NAT_TOTAL|20200101|              0.00|    NULL|                 0.00|    NULL|                    0.00|    NULL|                          0.00|    NULL|                      0.00|    NULL|                         0.00|    NULL|                                 0.00|    NULL|                              0.00|             0.00|   NULL|                   0.00|              0.00|                    0.00|                           0.00|   NULL|             0.00|              0.00|                                 0.00|                     0.00|                0.00|    NULL|                 0.00|   NULL|                            0.00|    NULL|       NULL|                                  0|                                 0|                                                                           NULL|                                                                NULL|                                              NULL|         NULL|                                   NULL|                               NULL|                                     0|                                 0|          NULL|           NULL|              NULL|                NULL|                   NULL|                              NULL|                           NULL|                                      NULL|                          NULL|                                     NULL|                NULL|                           NULL|\n",
            "|United States|        USA|      NULL|      NULL|   NAT_TOTAL|20200102|              0.00|    NULL|                 0.00|    NULL|                    0.00|    NULL|                          0.00|    NULL|                      0.00|    NULL|                         0.00|    NULL|                                 0.00|    NULL|                              0.00|             0.00|   NULL|                   0.00|              0.00|                    0.00|                           0.00|   NULL|             0.00|              0.00|                                 0.00|                     0.00|                0.00|    NULL|                 0.00|   NULL|                            0.00|    NULL|       NULL|                                  0|                                 0|                                                                           NULL|                                                                NULL|                                              NULL|         NULL|                                   NULL|                               NULL|                                     0|                                 0|          NULL|           NULL|              NULL|                NULL|                   NULL|                              NULL|                           NULL|                                      NULL|                          NULL|                                     NULL|                NULL|                           NULL|\n",
            "|United States|        USA|      NULL|      NULL|   NAT_TOTAL|20200103|              0.00|    NULL|                 0.00|    NULL|                    0.00|    NULL|                          0.00|    NULL|                      0.00|    NULL|                         0.00|    NULL|                                 0.00|    NULL|                              0.00|             0.00|   NULL|                   0.00|              0.00|                    0.00|                           0.00|   NULL|             0.00|              0.00|                                 0.00|                     0.00|                0.00|    NULL|                 0.00|   NULL|                            0.00|    NULL|       NULL|                                  0|                                 0|                                                                           NULL|                                                                NULL|                                              NULL|         NULL|                                   NULL|                               NULL|                                     0|                                 0|          NULL|           NULL|              NULL|                NULL|                   NULL|                              NULL|                           NULL|                                      NULL|                          NULL|                                     NULL|                NULL|                           NULL|\n",
            "|United States|        USA|      NULL|      NULL|   NAT_TOTAL|20200104|              0.00|    NULL|                 0.00|    NULL|                    0.00|    NULL|                          0.00|    NULL|                      0.00|    NULL|                         0.00|    NULL|                                 0.00|    NULL|                              0.00|             0.00|   NULL|                   0.00|              0.00|                    0.00|                           0.00|   NULL|             0.00|              0.00|                                 0.00|                     0.00|                0.00|    NULL|                 0.00|   NULL|                            0.00|    NULL|       NULL|                                  0|                                 0|                                                                           NULL|                                                                NULL|                                              NULL|         NULL|                                   NULL|                               NULL|                                     0|                                 0|          NULL|           NULL|              NULL|                NULL|                   NULL|                              NULL|                           NULL|                                      NULL|                          NULL|                                     NULL|                NULL|                           NULL|\n",
            "|United States|        USA|      NULL|      NULL|   NAT_TOTAL|20200105|              0.00|    NULL|                 0.00|    NULL|                    0.00|    NULL|                          0.00|    NULL|                      0.00|    NULL|                         0.00|    NULL|                                 0.00|    NULL|                              0.00|             0.00|   NULL|                   0.00|              0.00|                    0.00|                           0.00|   NULL|             0.00|              0.00|                                 0.00|                     0.00|                0.00|    NULL|                 0.00|   NULL|                            0.00|    NULL|       NULL|                                  0|                                 0|                                                                           NULL|                                                                NULL|                                              NULL|         NULL|                                   NULL|                               NULL|                                     0|                                 0|          NULL|           NULL|              NULL|                NULL|                   NULL|                              NULL|                           NULL|                                      NULL|                          NULL|                                     NULL|                NULL|                           NULL|\n",
            "|United States|        USA|      NULL|      NULL|   NAT_TOTAL|20200106|              0.00|    NULL|                 0.00|    NULL|                    0.00|    NULL|                          0.00|    NULL|                      0.00|    NULL|                         0.00|    NULL|                                 0.00|    NULL|                              0.00|             0.00|   NULL|                   0.00|              0.00|                    0.00|                           0.00|   NULL|             0.00|              0.00|                                 0.00|                     0.00|                0.00|    NULL|                 0.00|   NULL|                            0.00|    NULL|       NULL|                                  0|                                 0|                                                                           NULL|                                                                NULL|                                              NULL|         NULL|                                   NULL|                               NULL|                                     0|                                 0|          NULL|           NULL|              NULL|                NULL|                   NULL|                              NULL|                           NULL|                                      NULL|                          NULL|                                     NULL|                NULL|                           NULL|\n",
            "|United States|        USA|      NULL|      NULL|   NAT_TOTAL|20200107|              0.00|    NULL|                 0.00|    NULL|                    0.00|    NULL|                          0.00|    NULL|                      0.00|    NULL|                         0.00|    NULL|                                 0.00|    NULL|                              0.00|             0.00|   NULL|                   0.00|              0.00|                    0.00|                           0.00|   NULL|             0.00|              0.00|                                 0.00|                     0.00|                0.00|    NULL|                 0.00|   NULL|                            0.00|    NULL|       NULL|                                  0|                                 0|                                                                           NULL|                                                                NULL|                                              NULL|         NULL|                                   NULL|                               NULL|                                     0|                                 0|          NULL|           NULL|              NULL|                NULL|                   NULL|                              NULL|                           NULL|                                      NULL|                          NULL|                                     NULL|                NULL|                           NULL|\n",
            "|United States|        USA|      NULL|      NULL|   NAT_TOTAL|20200108|              0.00|    NULL|                 0.00|    NULL|                    0.00|    NULL|                          0.00|    NULL|                      0.00|    NULL|                         0.00|    NULL|                                 0.00|    NULL|                              0.00|             0.00|   NULL|                   0.00|              0.00|                    0.00|                           0.00|   NULL|             0.00|              0.00|                                 0.00|                     0.00|                0.00|    NULL|                 0.00|   NULL|                            0.00|    NULL|       NULL|                                  0|                                 0|                                                                           NULL|                                                                NULL|                                              NULL|         NULL|                                   NULL|                               NULL|                                     0|                                 0|          NULL|           NULL|              NULL|                NULL|                   NULL|                              NULL|                           NULL|                                      NULL|                          NULL|                                     NULL|                NULL|                           NULL|\n",
            "|United States|        USA|      NULL|      NULL|   NAT_TOTAL|20200109|              0.00|    NULL|                 0.00|    NULL|                    0.00|    NULL|                          0.00|    NULL|                      0.00|    NULL|                         0.00|    NULL|                                 0.00|    NULL|                              0.00|             0.00|   NULL|                   0.00|              0.00|                    0.00|                           0.00|   NULL|             0.00|              0.00|                                 0.00|                     0.00|                0.00|    NULL|                 0.00|   NULL|                            0.00|    NULL|       NULL|                                  0|                                 0|                                                                           NULL|                                                                NULL|                                              NULL|         NULL|                                   NULL|                               NULL|                                     0|                                 0|          NULL|           NULL|              NULL|                NULL|                   NULL|                              NULL|                           NULL|                                      NULL|                          NULL|                                     NULL|                NULL|                           NULL|\n",
            "|United States|        USA|      NULL|      NULL|   NAT_TOTAL|20200110|              0.00|    NULL|                 0.00|    NULL|                    0.00|    NULL|                          0.00|    NULL|                      0.00|    NULL|                         0.00|    NULL|                                 0.00|    NULL|                              0.00|             0.00|   NULL|                   0.00|              0.00|                    0.00|                           0.00|   NULL|             0.00|              0.00|                                 0.00|                     0.00|                0.00|    NULL|                 0.00|   NULL|                            0.00|    NULL|       NULL|                                  0|                                 0|                                                                           NULL|                                                                NULL|                                              NULL|         NULL|                                   NULL|                               NULL|                                     0|                                 0|          NULL|           NULL|              NULL|                NULL|                   NULL|                              NULL|                           NULL|                                      NULL|                          NULL|                                     NULL|                NULL|                           NULL|\n",
            "|United States|        USA|      NULL|      NULL|   NAT_TOTAL|20200111|              0.00|    NULL|                 0.00|    NULL|                    0.00|    NULL|                          0.00|    NULL|                      0.00|    NULL|                         0.00|    NULL|                                 0.00|    NULL|                              0.00|             0.00|   NULL|                   0.00|              0.00|                    0.00|                           0.00|   NULL|             0.00|              0.00|                                 0.00|                     0.00|                0.00|    NULL|                 0.00|   NULL|                            0.00|    NULL|       NULL|                                  0|                                 0|                                                                           NULL|                                                                NULL|                                              NULL|         NULL|                                   NULL|                               NULL|                                     0|                                 0|          NULL|           NULL|              NULL|                NULL|                   NULL|                              NULL|                           NULL|                                      NULL|                          NULL|                                     NULL|                NULL|                           NULL|\n",
            "|United States|        USA|      NULL|      NULL|   NAT_TOTAL|20200112|              0.00|    NULL|                 0.00|    NULL|                    0.00|    NULL|                          0.00|    NULL|                      0.00|    NULL|                         0.00|    NULL|                                 0.00|    NULL|                              0.00|             0.00|   NULL|                   0.00|              0.00|                    0.00|                           0.00|   NULL|             0.00|              0.00|                                 0.00|                     0.00|                0.00|    NULL|                 0.00|   NULL|                            0.00|    NULL|       NULL|                                  0|                                 0|                                                                           NULL|                                                                NULL|                                              NULL|         NULL|                                   NULL|                               NULL|                                     0|                                 0|          NULL|           NULL|              NULL|                NULL|                   NULL|                              NULL|                           NULL|                                      NULL|                          NULL|                                     NULL|                NULL|                           NULL|\n",
            "|United States|        USA|      NULL|      NULL|   NAT_TOTAL|20200113|              0.00|    NULL|                 0.00|    NULL|                    0.00|    NULL|                          0.00|    NULL|                      0.00|    NULL|                         0.00|    NULL|                                 0.00|    NULL|                              0.00|             0.00|   NULL|                   0.00|              0.00|                    0.00|                           0.00|   NULL|             0.00|              0.00|                                 0.00|                     0.00|                0.00|    NULL|                 0.00|   NULL|                            0.00|    NULL|       NULL|                                  0|                                 0|                                                                           NULL|                                                                NULL|                                              NULL|         NULL|                                   NULL|                               NULL|                                     0|                                 0|          NULL|           NULL|              NULL|                NULL|                   NULL|                              NULL|                           NULL|                                      NULL|                          NULL|                                     NULL|                NULL|                           NULL|\n",
            "|United States|        USA|      NULL|      NULL|   NAT_TOTAL|20200114|              0.00|    NULL|                 0.00|    NULL|                    0.00|    NULL|                          0.00|    NULL|                      0.00|    NULL|                         0.00|    NULL|                                 0.00|    NULL|                              0.00|             0.00|   NULL|                   0.00|              0.00|                    0.00|                           0.00|   NULL|             0.00|              0.00|                                 0.00|                     0.00|                0.00|    NULL|                 0.00|   NULL|                            0.00|    NULL|       NULL|                                  0|                                 0|                                                                           NULL|                                                                NULL|                                              NULL|         NULL|                                   NULL|                               NULL|                                     0|                                 0|          NULL|           NULL|              NULL|                NULL|                   NULL|                              NULL|                           NULL|                                      NULL|                          NULL|                                     NULL|                NULL|                           NULL|\n",
            "|United States|        USA|      NULL|      NULL|   NAT_TOTAL|20200115|              0.00|    NULL|                 0.00|    NULL|                    0.00|    NULL|                          0.00|    NULL|                      0.00|    NULL|                         0.00|    NULL|                                 0.00|    NULL|                              0.00|             0.00|   NULL|                   0.00|              0.00|                    0.00|                           0.00|   NULL|             0.00|              0.00|                                 0.00|                     0.00|                0.00|    NULL|                 0.00|   NULL|                            0.00|    NULL|       NULL|                                  0|                                 0|                                                                           NULL|                                                                NULL|                                              NULL|         NULL|                                   NULL|                               NULL|                                     0|                                 0|          NULL|           NULL|              NULL|                NULL|                   NULL|                              NULL|                           NULL|                                      NULL|                          NULL|                                     NULL|                NULL|                           NULL|\n",
            "|United States|        USA|      NULL|      NULL|   NAT_TOTAL|20200116|              0.00|    NULL|                 0.00|    NULL|                    0.00|    NULL|                          0.00|    NULL|                      0.00|    NULL|                         0.00|    NULL|                                 0.00|    NULL|                              0.00|             0.00|   NULL|                   0.00|              0.00|                    0.00|                           0.00|   NULL|             0.00|              0.00|                                 0.00|                     0.00|                0.00|    NULL|                 0.00|   NULL|                            0.00|    NULL|       NULL|                                  0|                                 0|                                                                           NULL|                                                                NULL|                                              NULL|         NULL|                                   NULL|                               NULL|                                     0|                                 0|          NULL|           NULL|              NULL|                NULL|                   NULL|                              NULL|                           NULL|                                      NULL|                          NULL|                                     NULL|                NULL|                           NULL|\n",
            "|United States|        USA|      NULL|      NULL|   NAT_TOTAL|20200117|              0.00|    NULL|                 0.00|    NULL|                    0.00|    NULL|                          0.00|    NULL|                      0.00|    NULL|                         0.00|    NULL|                                 0.00|    NULL|                              0.00|             0.00|   NULL|                   0.00|              0.00|                    0.00|                           0.00|   NULL|             0.00|              0.00|                                 0.00|                     0.00|                0.00|    NULL|                 0.00|   NULL|                            0.00|    NULL|       NULL|                                  0|                                 0|                                                                           NULL|                                                                NULL|                                              NULL|         NULL|                                   NULL|                               NULL|                                     0|                                 0|          NULL|           NULL|              NULL|                NULL|                   NULL|                              NULL|                           NULL|                                      NULL|                          NULL|                                     NULL|                NULL|                           NULL|\n",
            "|United States|        USA|      NULL|      NULL|   NAT_TOTAL|20200118|              0.00|    NULL|                 0.00|    NULL|                    0.00|    NULL|                          0.00|    NULL|                      0.00|    NULL|                         0.00|    NULL|                                 0.00|    NULL|                              0.00|             0.00|   NULL|                   0.00|              0.00|                    0.00|                           0.00|   NULL|             0.00|              0.00|                                 0.00|                     0.00|                0.00|    NULL|                 0.00|   NULL|                            0.00|    NULL|       NULL|                                  0|                                 0|                                                                           NULL|                                                                NULL|                                              NULL|         NULL|                                   NULL|                               NULL|                                     0|                                 0|          NULL|           NULL|              NULL|                NULL|                   NULL|                              NULL|                           NULL|                                      NULL|                          NULL|                                     NULL|                NULL|                           NULL|\n",
            "|United States|        USA|      NULL|      NULL|   NAT_TOTAL|20200119|              0.00|    NULL|                 0.00|    NULL|                    0.00|    NULL|                          0.00|    NULL|                      0.00|    NULL|                         0.00|    NULL|                                 0.00|    NULL|                              0.00|             0.00|   NULL|                   0.00|              0.00|                    0.00|                           0.00|   NULL|             0.00|              0.00|                                 0.00|                     0.00|                0.00|    NULL|                 0.00|   NULL|                            0.00|    NULL|       NULL|                                  0|                                 0|                                                                           NULL|                                                                NULL|                                              NULL|         NULL|                                   NULL|                               NULL|                                     0|                                 0|          NULL|           NULL|              NULL|                NULL|                   NULL|                              NULL|                           NULL|                                      NULL|                          NULL|                                     NULL|                NULL|                           NULL|\n",
            "|United States|        USA|      NULL|      NULL|   NAT_TOTAL|20200120|              0.00|    NULL|                 0.00|    NULL|                    0.00|    NULL|                          0.00|    NULL|                      0.00|    NULL|                         0.00|    NULL|                                 0.00|    NULL|                              0.00|             0.00|   NULL|                   0.00|              0.00|                    0.00|                           0.00|   NULL|             0.00|              0.00|                                 0.00|                     0.00|                0.00|    NULL|                 0.00|   NULL|                            0.00|    NULL|       NULL|                                  0|                                 0|                                                                           NULL|                                                                NULL|                                              NULL|         NULL|                                   NULL|                               NULL|                                     0|                                 0|          NULL|           NULL|              NULL|                NULL|                   NULL|                              NULL|                           NULL|                                      NULL|                          NULL|                                     NULL|                NULL|                           NULL|\n",
            "+-------------+-----------+----------+----------+------------+--------+------------------+--------+---------------------+--------+------------------------+--------+------------------------------+--------+--------------------------+--------+-----------------------------+--------+-------------------------------------+--------+----------------------------------+-----------------+-------+-----------------------+------------------+------------------------+-------------------------------+-------+-----------------+------------------+-------------------------------------+-------------------------+--------------------+--------+---------------------+-------+--------------------------------+--------+-----------+-----------------------------------+----------------------------------+-------------------------------------------------------------------------------+--------------------------------------------------------------------+--------------------------------------------------+-------------+---------------------------------------+-----------------------------------+--------------------------------------+----------------------------------+--------------+---------------+------------------+--------------------+-----------------------+----------------------------------+-------------------------------+------------------------------------------+------------------------------+-----------------------------------------+--------------------+-------------------------------+\n",
            "only showing top 20 rows\n",
            "\n"
          ]
        }
      ]
    },
    {
      "cell_type": "code",
      "source": [
        "OxCGRT_latest = OxCGRT_latest.filter(col(\"RegionName\").isNotNull()) #Remove NULL Region\n",
        "\n",
        "#Use only data in year 2020,2021\n",
        "OxCGRT_latest = OxCGRT_latest.withColumn(\"Date\", to_date(OxCGRT_latest[\"Date\"], \"yyyyMMdd\"))\n",
        "OxCGRT_latest = OxCGRT_latest.filter(year(OxCGRT_latest[\"Date\"]).isin(2020, 2021)) #Filter only year 2020,2021\n",
        "OxCGRT_latest = OxCGRT_latest.withColumn(\"Date\", date_format(OxCGRT_latest[\"Date\"], \"yyyyMMdd\"))\n",
        "OxCGRT_latest.show()"
      ],
      "metadata": {
        "colab": {
          "base_uri": "https://localhost:8080/"
        },
        "id": "WvSoKZlfb-FG",
        "outputId": "4766c854-0294-4faa-a9bf-5a9c587c174e"
      },
      "execution_count": 33,
      "outputs": [
        {
          "output_type": "stream",
          "name": "stdout",
          "text": [
            "+-------------+-----------+----------+----------+------------+--------+------------------+--------+---------------------+--------+------------------------+--------+------------------------------+--------+--------------------------+--------+-----------------------------+--------+-------------------------------------+--------+----------------------------------+-----------------+-------+-----------------------+------------------+------------------------+-------------------------------+-------+-----------------+------------------+-------------------------------------+-------------------------+--------------------+--------+---------------------+-------+--------------------------------+--------+-----------+-----------------------------------+----------------------------------+-------------------------------------------------------------------------------+--------------------------------------------------------------------+--------------------------------------------------+-------------+---------------------------------------+-----------------------------------+--------------------------------------+----------------------------------+--------------+---------------+------------------+--------------------+-----------------------+----------------------------------+-------------------------------+------------------------------------------+------------------------------+-----------------------------------------+--------------------+-------------------------------+\n",
            "|  CountryName|CountryCode|RegionName|RegionCode|Jurisdiction|    Date|C1M_School closing|C1M_Flag|C2M_Workplace closing|C2M_Flag|C3M_Cancel public events|C3M_Flag|C4M_Restrictions on gatherings|C4M_Flag|C5M_Close public transport|C5M_Flag|C6M_Stay at home requirements|C6M_Flag|C7M_Restrictions on internal movement|C7M_Flag|C8EV_International travel controls|E1_Income support|E1_Flag|E2_Debt/contract relief|E3_Fiscal measures|E4_International support|H1_Public information campaigns|H1_Flag|H2_Testing policy|H3_Contact tracing|H4_Emergency investment in healthcare|H5_Investment in vaccines|H6M_Facial Coverings|H6M_Flag|H7_Vaccination policy|H7_Flag|H8M_Protection of elderly people|H8M_Flag|M1_Wildcard|V1_Vaccine Prioritisation (summary)|V2A_Vaccine Availability (summary)|V2B_Vaccine age eligibility/availability age floor (general population summary)|V2C_Vaccine age eligibility/availability age floor (at risk summary)|V2D_Medically/ clinically vulnerable (Non-elderly)|V2E_Education|V2F_Frontline workers  (non healthcare)|V2G_Frontline workers  (healthcare)|V3_Vaccine Financial Support (summary)|V4_Mandatory Vaccination (summary)|ConfirmedCases|ConfirmedDeaths|MajorityVaccinated|PopulationVaccinated|StringencyIndex_Average|StringencyIndex_Average_ForDisplay|GovernmentResponseIndex_Average|GovernmentResponseIndex_Average_ForDisplay|ContainmentHealthIndex_Average|ContainmentHealthIndex_Average_ForDisplay|EconomicSupportIndex|EconomicSupportIndex_ForDisplay|\n",
            "+-------------+-----------+----------+----------+------------+--------+------------------+--------+---------------------+--------+------------------------+--------+------------------------------+--------+--------------------------+--------+-----------------------------+--------+-------------------------------------+--------+----------------------------------+-----------------+-------+-----------------------+------------------+------------------------+-------------------------------+-------+-----------------+------------------+-------------------------------------+-------------------------+--------------------+--------+---------------------+-------+--------------------------------+--------+-----------+-----------------------------------+----------------------------------+-------------------------------------------------------------------------------+--------------------------------------------------------------------+--------------------------------------------------+-------------+---------------------------------------+-----------------------------------+--------------------------------------+----------------------------------+--------------+---------------+------------------+--------------------+-----------------------+----------------------------------+-------------------------------+------------------------------------------+------------------------------+-----------------------------------------+--------------------+-------------------------------+\n",
            "|United States|        USA|    Alaska|     US_AK| STATE_TOTAL|20200101|              0.00|    NULL|                 0.00|    NULL|                    0.00|    NULL|                          0.00|    NULL|                      0.00|    NULL|                         0.00|    NULL|                                 0.00|    NULL|                              0.00|             0.00|   NULL|                   0.00|              0.00|                    0.00|                           0.00|   NULL|             0.00|              0.00|                                 0.00|                     0.00|                0.00|    NULL|                 0.00|   NULL|                            0.00|    NULL|       NULL|                                  0|                                 0|                                                                           NULL|                                                                NULL|                                              NULL|         NULL|                                   NULL|                               NULL|                                     1|                                 0|          NULL|           NULL|              NULL|                NULL|                   NULL|                              NULL|                           NULL|                                      NULL|                          NULL|                                     NULL|                NULL|                           NULL|\n",
            "|United States|        USA|    Alaska|     US_AK| STATE_TOTAL|20200102|              0.00|    NULL|                 0.00|    NULL|                    0.00|    NULL|                          0.00|    NULL|                      0.00|    NULL|                         0.00|    NULL|                                 0.00|    NULL|                              0.00|             0.00|   NULL|                   0.00|              0.00|                    0.00|                           0.00|   NULL|             0.00|              0.00|                                 0.00|                     0.00|                0.00|    NULL|                 0.00|   NULL|                            0.00|    NULL|       NULL|                                  0|                                 0|                                                                           NULL|                                                                NULL|                                              NULL|         NULL|                                   NULL|                               NULL|                                     0|                                 0|          NULL|           NULL|              NULL|                NULL|                   NULL|                              NULL|                           NULL|                                      NULL|                          NULL|                                     NULL|                NULL|                           NULL|\n",
            "|United States|        USA|    Alaska|     US_AK| STATE_TOTAL|20200103|              0.00|    NULL|                 0.00|    NULL|                    0.00|    NULL|                          0.00|    NULL|                      0.00|    NULL|                         0.00|    NULL|                                 0.00|    NULL|                              0.00|             0.00|   NULL|                   0.00|              0.00|                    0.00|                           0.00|   NULL|             0.00|              0.00|                                 0.00|                     0.00|                0.00|    NULL|                 0.00|   NULL|                            0.00|    NULL|       NULL|                                  0|                                 0|                                                                           NULL|                                                                NULL|                                              NULL|         NULL|                                   NULL|                               NULL|                                     0|                                 0|          NULL|           NULL|              NULL|                NULL|                   NULL|                              NULL|                           NULL|                                      NULL|                          NULL|                                     NULL|                NULL|                           NULL|\n",
            "|United States|        USA|    Alaska|     US_AK| STATE_TOTAL|20200104|              0.00|    NULL|                 0.00|    NULL|                    0.00|    NULL|                          0.00|    NULL|                      0.00|    NULL|                         0.00|    NULL|                                 0.00|    NULL|                              0.00|             0.00|   NULL|                   0.00|              0.00|                    0.00|                           0.00|   NULL|             0.00|              0.00|                                 0.00|                     0.00|                0.00|    NULL|                 0.00|   NULL|                            0.00|    NULL|       NULL|                                  0|                                 0|                                                                           NULL|                                                                NULL|                                              NULL|         NULL|                                   NULL|                               NULL|                                     0|                                 0|          NULL|           NULL|              NULL|                NULL|                   NULL|                              NULL|                           NULL|                                      NULL|                          NULL|                                     NULL|                NULL|                           NULL|\n",
            "|United States|        USA|    Alaska|     US_AK| STATE_TOTAL|20200105|              0.00|    NULL|                 0.00|    NULL|                    0.00|    NULL|                          0.00|    NULL|                      0.00|    NULL|                         0.00|    NULL|                                 0.00|    NULL|                              0.00|             0.00|   NULL|                   0.00|              0.00|                    0.00|                           0.00|   NULL|             0.00|              0.00|                                 0.00|                     0.00|                0.00|    NULL|                 0.00|   NULL|                            0.00|    NULL|       NULL|                                  0|                                 0|                                                                           NULL|                                                                NULL|                                              NULL|         NULL|                                   NULL|                               NULL|                                     0|                                 0|          NULL|           NULL|              NULL|                NULL|                   NULL|                              NULL|                           NULL|                                      NULL|                          NULL|                                     NULL|                NULL|                           NULL|\n",
            "|United States|        USA|    Alaska|     US_AK| STATE_TOTAL|20200106|              0.00|    NULL|                 0.00|    NULL|                    0.00|    NULL|                          0.00|    NULL|                      0.00|    NULL|                         0.00|    NULL|                                 0.00|    NULL|                              0.00|             0.00|   NULL|                   0.00|              0.00|                    0.00|                           0.00|   NULL|             0.00|              0.00|                                 0.00|                     0.00|                0.00|    NULL|                 0.00|   NULL|                            0.00|    NULL|       NULL|                                  0|                                 0|                                                                           NULL|                                                                NULL|                                              NULL|         NULL|                                   NULL|                               NULL|                                     0|                                 0|          NULL|           NULL|              NULL|                NULL|                   NULL|                              NULL|                           NULL|                                      NULL|                          NULL|                                     NULL|                NULL|                           NULL|\n",
            "|United States|        USA|    Alaska|     US_AK| STATE_TOTAL|20200107|              0.00|    NULL|                 0.00|    NULL|                    0.00|    NULL|                          0.00|    NULL|                      0.00|    NULL|                         0.00|    NULL|                                 0.00|    NULL|                              0.00|             0.00|   NULL|                   0.00|              0.00|                    0.00|                           0.00|   NULL|             0.00|              0.00|                                 0.00|                     0.00|                0.00|    NULL|                 0.00|   NULL|                            0.00|    NULL|       NULL|                                  0|                                 0|                                                                           NULL|                                                                NULL|                                              NULL|         NULL|                                   NULL|                               NULL|                                     0|                                 0|          NULL|           NULL|              NULL|                NULL|                   NULL|                              NULL|                           NULL|                                      NULL|                          NULL|                                     NULL|                NULL|                           NULL|\n",
            "|United States|        USA|    Alaska|     US_AK| STATE_TOTAL|20200108|              0.00|    NULL|                 0.00|    NULL|                    0.00|    NULL|                          0.00|    NULL|                      0.00|    NULL|                         0.00|    NULL|                                 0.00|    NULL|                              0.00|             0.00|   NULL|                   0.00|              0.00|                    0.00|                           1.00|      1|             0.00|              0.00|                                 0.00|                     0.00|                0.00|    NULL|                 0.00|   NULL|                            0.00|    NULL|       NULL|                                  0|                                 0|                                                                           NULL|                                                                NULL|                                              NULL|         NULL|                                   NULL|                               NULL|                                     0|                                 0|          NULL|           NULL|              NULL|                NULL|                   NULL|                              NULL|                           NULL|                                      NULL|                          NULL|                                     NULL|                NULL|                           NULL|\n",
            "|United States|        USA|    Alaska|     US_AK| STATE_TOTAL|20200109|              0.00|    NULL|                 0.00|    NULL|                    0.00|    NULL|                          0.00|    NULL|                      0.00|    NULL|                         0.00|    NULL|                                 0.00|    NULL|                              0.00|             0.00|   NULL|                   0.00|              0.00|                    0.00|                           1.00|      1|             0.00|              0.00|                                 0.00|                     0.00|                0.00|    NULL|                 0.00|   NULL|                            0.00|    NULL|       NULL|                                  0|                                 0|                                                                           NULL|                                                                NULL|                                              NULL|         NULL|                                   NULL|                               NULL|                                     0|                                 0|          NULL|           NULL|              NULL|                NULL|                   NULL|                              NULL|                           NULL|                                      NULL|                          NULL|                                     NULL|                NULL|                           NULL|\n",
            "|United States|        USA|    Alaska|     US_AK| STATE_TOTAL|20200110|              0.00|    NULL|                 0.00|    NULL|                    0.00|    NULL|                          0.00|    NULL|                      0.00|    NULL|                         0.00|    NULL|                                 0.00|    NULL|                              0.00|             0.00|   NULL|                   0.00|              0.00|                    0.00|                           1.00|      1|             0.00|              0.00|                                 0.00|                     0.00|                0.00|    NULL|                 0.00|   NULL|                            0.00|    NULL|       NULL|                                  0|                                 0|                                                                           NULL|                                                                NULL|                                              NULL|         NULL|                                   NULL|                               NULL|                                     0|                                 0|          NULL|           NULL|              NULL|                NULL|                   NULL|                              NULL|                           NULL|                                      NULL|                          NULL|                                     NULL|                NULL|                           NULL|\n",
            "|United States|        USA|    Alaska|     US_AK| STATE_TOTAL|20200111|              0.00|    NULL|                 0.00|    NULL|                    0.00|    NULL|                          0.00|    NULL|                      0.00|    NULL|                         0.00|    NULL|                                 0.00|    NULL|                              0.00|             0.00|   NULL|                   0.00|              0.00|                    0.00|                           1.00|      1|             0.00|              0.00|                                 0.00|                     0.00|                0.00|    NULL|                 0.00|   NULL|                            0.00|    NULL|       NULL|                                  0|                                 0|                                                                           NULL|                                                                NULL|                                              NULL|         NULL|                                   NULL|                               NULL|                                     0|                                 0|          NULL|           NULL|              NULL|                NULL|                   NULL|                              NULL|                           NULL|                                      NULL|                          NULL|                                     NULL|                NULL|                           NULL|\n",
            "|United States|        USA|    Alaska|     US_AK| STATE_TOTAL|20200112|              0.00|    NULL|                 0.00|    NULL|                    0.00|    NULL|                          0.00|    NULL|                      0.00|    NULL|                         0.00|    NULL|                                 0.00|    NULL|                              0.00|             0.00|   NULL|                   0.00|              0.00|                    0.00|                           1.00|      1|             0.00|              0.00|                                 0.00|                     0.00|                0.00|    NULL|                 0.00|   NULL|                            0.00|    NULL|       NULL|                                  0|                                 0|                                                                           NULL|                                                                NULL|                                              NULL|         NULL|                                   NULL|                               NULL|                                     0|                                 0|          NULL|           NULL|              NULL|                NULL|                   NULL|                              NULL|                           NULL|                                      NULL|                          NULL|                                     NULL|                NULL|                           NULL|\n",
            "|United States|        USA|    Alaska|     US_AK| STATE_TOTAL|20200113|              0.00|    NULL|                 0.00|    NULL|                    0.00|    NULL|                          0.00|    NULL|                      0.00|    NULL|                         0.00|    NULL|                                 0.00|    NULL|                              0.00|             0.00|   NULL|                   0.00|              0.00|                    0.00|                           1.00|      1|             0.00|              0.00|                                 0.00|                     0.00|                0.00|    NULL|                 0.00|   NULL|                            0.00|    NULL|       NULL|                                  0|                                 0|                                                                           NULL|                                                                NULL|                                              NULL|         NULL|                                   NULL|                               NULL|                                     0|                                 0|          NULL|           NULL|              NULL|                NULL|                   NULL|                              NULL|                           NULL|                                      NULL|                          NULL|                                     NULL|                NULL|                           NULL|\n",
            "|United States|        USA|    Alaska|     US_AK| STATE_TOTAL|20200114|              0.00|    NULL|                 0.00|    NULL|                    0.00|    NULL|                          0.00|    NULL|                      0.00|    NULL|                         0.00|    NULL|                                 0.00|    NULL|                              0.00|             0.00|   NULL|                   0.00|              0.00|                    0.00|                           1.00|      1|             0.00|              0.00|                                 0.00|                     0.00|                0.00|    NULL|                 0.00|   NULL|                            0.00|    NULL|       NULL|                                  0|                                 0|                                                                           NULL|                                                                NULL|                                              NULL|         NULL|                                   NULL|                               NULL|                                     0|                                 0|          NULL|           NULL|              NULL|                NULL|                   NULL|                              NULL|                           NULL|                                      NULL|                          NULL|                                     NULL|                NULL|                           NULL|\n",
            "|United States|        USA|    Alaska|     US_AK| STATE_TOTAL|20200115|              0.00|    NULL|                 0.00|    NULL|                    0.00|    NULL|                          0.00|    NULL|                      0.00|    NULL|                         0.00|    NULL|                                 0.00|    NULL|                              0.00|             0.00|   NULL|                   0.00|              0.00|                    0.00|                           1.00|      1|             0.00|              0.00|                                 0.00|                     0.00|                0.00|    NULL|                 0.00|   NULL|                            0.00|    NULL|       NULL|                                  0|                                 0|                                                                           NULL|                                                                NULL|                                              NULL|         NULL|                                   NULL|                               NULL|                                     0|                                 0|          NULL|           NULL|              NULL|                NULL|                   NULL|                              NULL|                           NULL|                                      NULL|                          NULL|                                     NULL|                NULL|                           NULL|\n",
            "|United States|        USA|    Alaska|     US_AK| STATE_TOTAL|20200116|              0.00|    NULL|                 0.00|    NULL|                    0.00|    NULL|                          0.00|    NULL|                      0.00|    NULL|                         0.00|    NULL|                                 0.00|    NULL|                              0.00|             0.00|   NULL|                   0.00|              0.00|                    0.00|                           1.00|      1|             0.00|              0.00|                                 0.00|                     0.00|                0.00|    NULL|                 0.00|   NULL|                            0.00|    NULL|       NULL|                                  0|                                 0|                                                                           NULL|                                                                NULL|                                              NULL|         NULL|                                   NULL|                               NULL|                                     0|                                 0|          NULL|           NULL|              NULL|                NULL|                   NULL|                              NULL|                           NULL|                                      NULL|                          NULL|                                     NULL|                NULL|                           NULL|\n",
            "|United States|        USA|    Alaska|     US_AK| STATE_TOTAL|20200117|              0.00|    NULL|                 0.00|    NULL|                    0.00|    NULL|                          0.00|    NULL|                      0.00|    NULL|                         0.00|    NULL|                                 0.00|    NULL|                              0.00|             0.00|   NULL|                   0.00|              0.00|                    0.00|                           1.00|      1|             0.00|              0.00|                                 0.00|                     0.00|                0.00|    NULL|                 0.00|   NULL|                            0.00|    NULL|       NULL|                                  0|                                 0|                                                                           NULL|                                                                NULL|                                              NULL|         NULL|                                   NULL|                               NULL|                                     0|                                 0|          NULL|           NULL|              NULL|                NULL|                   NULL|                              NULL|                           NULL|                                      NULL|                          NULL|                                     NULL|                NULL|                           NULL|\n",
            "|United States|        USA|    Alaska|     US_AK| STATE_TOTAL|20200118|              0.00|    NULL|                 0.00|    NULL|                    0.00|    NULL|                          0.00|    NULL|                      0.00|    NULL|                         0.00|    NULL|                                 0.00|    NULL|                              0.00|             0.00|   NULL|                   0.00|              0.00|                    0.00|                           1.00|      1|             0.00|              0.00|                                 0.00|                     0.00|                0.00|    NULL|                 0.00|   NULL|                            0.00|    NULL|       NULL|                                  0|                                 0|                                                                           NULL|                                                                NULL|                                              NULL|         NULL|                                   NULL|                               NULL|                                     0|                                 0|          NULL|           NULL|              NULL|                NULL|                   NULL|                              NULL|                           NULL|                                      NULL|                          NULL|                                     NULL|                NULL|                           NULL|\n",
            "|United States|        USA|    Alaska|     US_AK| STATE_TOTAL|20200119|              0.00|    NULL|                 0.00|    NULL|                    0.00|    NULL|                          0.00|    NULL|                      0.00|    NULL|                         0.00|    NULL|                                 0.00|    NULL|                              0.00|             0.00|   NULL|                   0.00|              0.00|                    0.00|                           1.00|      1|             0.00|              0.00|                                 0.00|                     0.00|                0.00|    NULL|                 0.00|   NULL|                            0.00|    NULL|       NULL|                                  0|                                 0|                                                                           NULL|                                                                NULL|                                              NULL|         NULL|                                   NULL|                               NULL|                                     0|                                 0|          NULL|           NULL|              NULL|                NULL|                   NULL|                              NULL|                           NULL|                                      NULL|                          NULL|                                     NULL|                NULL|                           NULL|\n",
            "|United States|        USA|    Alaska|     US_AK| STATE_TOTAL|20200120|              0.00|    NULL|                 0.00|    NULL|                    0.00|    NULL|                          0.00|    NULL|                      0.00|    NULL|                         0.00|    NULL|                                 0.00|    NULL|                              0.00|             0.00|   NULL|                   0.00|              0.00|                    0.00|                           1.00|      1|             0.00|              0.00|                                 0.00|                     0.00|                0.00|    NULL|                 0.00|   NULL|                            0.00|    NULL|       NULL|                                  0|                                 0|                                                                           NULL|                                                                NULL|                                              NULL|         NULL|                                   NULL|                               NULL|                                     0|                                 0|          NULL|           NULL|              NULL|                NULL|                   NULL|                              NULL|                           NULL|                                      NULL|                          NULL|                                     NULL|                NULL|                           NULL|\n",
            "+-------------+-----------+----------+----------+------------+--------+------------------+--------+---------------------+--------+------------------------+--------+------------------------------+--------+--------------------------+--------+-----------------------------+--------+-------------------------------------+--------+----------------------------------+-----------------+-------+-----------------------+------------------+------------------------+-------------------------------+-------+-----------------+------------------+-------------------------------------+-------------------------+--------------------+--------+---------------------+-------+--------------------------------+--------+-----------+-----------------------------------+----------------------------------+-------------------------------------------------------------------------------+--------------------------------------------------------------------+--------------------------------------------------+-------------+---------------------------------------+-----------------------------------+--------------------------------------+----------------------------------+--------------+---------------+------------------+--------------------+-----------------------+----------------------------------+-------------------------------+------------------------------------------+------------------------------+-----------------------------------------+--------------------+-------------------------------+\n",
            "only showing top 20 rows\n",
            "\n"
          ]
        }
      ]
    },
    {
      "cell_type": "markdown",
      "source": [
        "Checking if all the unique month in the data starts at day 01"
      ],
      "metadata": {
        "id": "sNrsXLt1av2s"
      }
    },
    {
      "cell_type": "code",
      "source": [
        "unique_month_year = OxCGRT_latest.select(\"Date\",\"RegionCode\")\n",
        "unique_month_year = unique_month_year.withColumn(\n",
        "    \"DateRegionCode\",\n",
        "    concat(substring(OxCGRT_latest[\"Date\"], 1, 6),lit('01'), lit(\"-\"), OxCGRT_latest[\"RegionCode\"])\n",
        ")\n",
        "unique_month_year = unique_month_year.select(\"DateRegionCode\").distinct()\n",
        "\n",
        "\n",
        "all_date = OxCGRT_latest.select(\"Date\",\"RegionCode\")\n",
        "all_date = all_date.withColumn(\n",
        "    \"DateRegionCode\",\n",
        "    concat(OxCGRT_latest[\"Date\"], lit(\"-\"), OxCGRT_latest[\"RegionCode\"])\n",
        ")\n",
        "\n"
      ],
      "metadata": {
        "id": "Agp1XoDXoSHe"
      },
      "execution_count": 34,
      "outputs": []
    },
    {
      "cell_type": "code",
      "source": [
        "unique_month_year.take(20)\n"
      ],
      "metadata": {
        "colab": {
          "base_uri": "https://localhost:8080/"
        },
        "id": "8kACEU0jYuuL",
        "outputId": "99efe129-40b8-4c3b-891d-7d005cf07d1f"
      },
      "execution_count": 35,
      "outputs": [
        {
          "output_type": "execute_result",
          "data": {
            "text/plain": [
              "[Row(DateRegionCode='20200201-US_CA'),\n",
              " Row(DateRegionCode='20201201-US_IA'),\n",
              " Row(DateRegionCode='20200601-US_LA'),\n",
              " Row(DateRegionCode='20200401-US_MI'),\n",
              " Row(DateRegionCode='20210301-US_NC'),\n",
              " Row(DateRegionCode='20210501-US_ND'),\n",
              " Row(DateRegionCode='20210701-US_NE'),\n",
              " Row(DateRegionCode='20210601-US_NH'),\n",
              " Row(DateRegionCode='20201101-US_IL'),\n",
              " Row(DateRegionCode='20200301-US_MD'),\n",
              " Row(DateRegionCode='20211101-US_AK'),\n",
              " Row(DateRegionCode='20210501-US_MD'),\n",
              " Row(DateRegionCode='20200201-US_CO'),\n",
              " Row(DateRegionCode='20210601-US_CO'),\n",
              " Row(DateRegionCode='20201101-US_NC'),\n",
              " Row(DateRegionCode='20201001-US_NE'),\n",
              " Row(DateRegionCode='20210501-US_FL'),\n",
              " Row(DateRegionCode='20200901-US_IN'),\n",
              " Row(DateRegionCode='20200501-US_CO'),\n",
              " Row(DateRegionCode='20200201-US_HI')]"
            ]
          },
          "metadata": {},
          "execution_count": 35
        }
      ]
    },
    {
      "cell_type": "code",
      "source": [
        "all_date.take(20)"
      ],
      "metadata": {
        "colab": {
          "base_uri": "https://localhost:8080/"
        },
        "id": "MwJxXGHDYyIR",
        "outputId": "730b7394-a4a3-4689-91e0-c47312e0f503"
      },
      "execution_count": 36,
      "outputs": [
        {
          "output_type": "execute_result",
          "data": {
            "text/plain": [
              "[Row(Date='20200101', RegionCode='US_AK', DateRegionCode='20200101-US_AK'),\n",
              " Row(Date='20200102', RegionCode='US_AK', DateRegionCode='20200102-US_AK'),\n",
              " Row(Date='20200103', RegionCode='US_AK', DateRegionCode='20200103-US_AK'),\n",
              " Row(Date='20200104', RegionCode='US_AK', DateRegionCode='20200104-US_AK'),\n",
              " Row(Date='20200105', RegionCode='US_AK', DateRegionCode='20200105-US_AK'),\n",
              " Row(Date='20200106', RegionCode='US_AK', DateRegionCode='20200106-US_AK'),\n",
              " Row(Date='20200107', RegionCode='US_AK', DateRegionCode='20200107-US_AK'),\n",
              " Row(Date='20200108', RegionCode='US_AK', DateRegionCode='20200108-US_AK'),\n",
              " Row(Date='20200109', RegionCode='US_AK', DateRegionCode='20200109-US_AK'),\n",
              " Row(Date='20200110', RegionCode='US_AK', DateRegionCode='20200110-US_AK'),\n",
              " Row(Date='20200111', RegionCode='US_AK', DateRegionCode='20200111-US_AK'),\n",
              " Row(Date='20200112', RegionCode='US_AK', DateRegionCode='20200112-US_AK'),\n",
              " Row(Date='20200113', RegionCode='US_AK', DateRegionCode='20200113-US_AK'),\n",
              " Row(Date='20200114', RegionCode='US_AK', DateRegionCode='20200114-US_AK'),\n",
              " Row(Date='20200115', RegionCode='US_AK', DateRegionCode='20200115-US_AK'),\n",
              " Row(Date='20200116', RegionCode='US_AK', DateRegionCode='20200116-US_AK'),\n",
              " Row(Date='20200117', RegionCode='US_AK', DateRegionCode='20200117-US_AK'),\n",
              " Row(Date='20200118', RegionCode='US_AK', DateRegionCode='20200118-US_AK'),\n",
              " Row(Date='20200119', RegionCode='US_AK', DateRegionCode='20200119-US_AK'),\n",
              " Row(Date='20200120', RegionCode='US_AK', DateRegionCode='20200120-US_AK')]"
            ]
          },
          "metadata": {},
          "execution_count": 36
        }
      ]
    },
    {
      "cell_type": "code",
      "source": [
        "missing_values = unique_month_year.join(all_date, on=\"DateRegionCode\", how=\"left_anti\")\n",
        "if missing_values.count() == 0:\n",
        "  print(\"All unique month start at day 01\")\n",
        "else:\n",
        "  print(\"Error\")\n",
        "missing_values.show()\n"
      ],
      "metadata": {
        "colab": {
          "base_uri": "https://localhost:8080/"
        },
        "id": "Txgoh4IBY5dR",
        "outputId": "1656e807-35e1-486f-f490-b359c744ac05"
      },
      "execution_count": 37,
      "outputs": [
        {
          "output_type": "stream",
          "name": "stdout",
          "text": [
            "All unique month start at day 01\n",
            "+--------------+\n",
            "|DateRegionCode|\n",
            "+--------------+\n",
            "+--------------+\n",
            "\n"
          ]
        }
      ]
    },
    {
      "cell_type": "markdown",
      "source": [
        "Basket = stores policies in each region on the first day of each month"
      ],
      "metadata": {
        "id": "3cL1IjAobn4s"
      }
    },
    {
      "cell_type": "code",
      "source": [
        "print(type(OxCGRT_latest))\n",
        "df = transform_to_items(OxCGRT_latest)\n",
        "print(type(df))\n",
        "df.take(10)\n"
      ],
      "metadata": {
        "colab": {
          "base_uri": "https://localhost:8080/"
        },
        "id": "6XL3kZ1ea1sh",
        "outputId": "de9751bd-cabb-4d17-c1df-564446d53c50"
      },
      "execution_count": 38,
      "outputs": [
        {
          "output_type": "stream",
          "name": "stdout",
          "text": [
            "<class 'pyspark.sql.dataframe.DataFrame'>\n",
            "<class 'pyspark.rdd.PipelinedRDD'>\n"
          ]
        },
        {
          "output_type": "execute_result",
          "data": {
            "text/plain": [
              "[[],\n",
              " ['C8EV_International travel controls',\n",
              "  'H1_Public information campaigns',\n",
              "  'H2_Testing policy',\n",
              "  'H3_Contact tracing'],\n",
              " ['C8EV_International travel controls',\n",
              "  'H1_Public information campaigns',\n",
              "  'H2_Testing policy',\n",
              "  'H3_Contact tracing'],\n",
              " ['C1M_School closing',\n",
              "  'C2M_Workplace closing',\n",
              "  'C3M_Cancel public events',\n",
              "  'C4M_Restrictions on gatherings',\n",
              "  'C5M_Close public transport',\n",
              "  'C6M_Stay at home requirements',\n",
              "  'C7M_Restrictions on internal movement',\n",
              "  'C8EV_International travel controls',\n",
              "  'E1_Income support',\n",
              "  'E2_Debt/contract relief',\n",
              "  'H1_Public information campaigns',\n",
              "  'H2_Testing policy',\n",
              "  'H3_Contact tracing',\n",
              "  'H8M_Protection of elderly people'],\n",
              " ['C1M_School closing',\n",
              "  'C2M_Workplace closing',\n",
              "  'C3M_Cancel public events',\n",
              "  'C4M_Restrictions on gatherings',\n",
              "  'C5M_Close public transport',\n",
              "  'C6M_Stay at home requirements',\n",
              "  'C7M_Restrictions on internal movement',\n",
              "  'C8EV_International travel controls',\n",
              "  'E1_Income support',\n",
              "  'E2_Debt/contract relief',\n",
              "  'H1_Public information campaigns',\n",
              "  'H2_Testing policy',\n",
              "  'H3_Contact tracing',\n",
              "  'H6M_Facial Coverings',\n",
              "  'H8M_Protection of elderly people'],\n",
              " ['C1M_School closing',\n",
              "  'C2M_Workplace closing',\n",
              "  'C3M_Cancel public events',\n",
              "  'C4M_Restrictions on gatherings',\n",
              "  'C6M_Stay at home requirements',\n",
              "  'C7M_Restrictions on internal movement',\n",
              "  'C8EV_International travel controls',\n",
              "  'E1_Income support',\n",
              "  'E2_Debt/contract relief',\n",
              "  'H1_Public information campaigns',\n",
              "  'H2_Testing policy',\n",
              "  'H3_Contact tracing',\n",
              "  'H6M_Facial Coverings',\n",
              "  'H8M_Protection of elderly people'],\n",
              " ['C1M_School closing',\n",
              "  'C2M_Workplace closing',\n",
              "  'C3M_Cancel public events',\n",
              "  'C4M_Restrictions on gatherings',\n",
              "  'C6M_Stay at home requirements',\n",
              "  'C7M_Restrictions on internal movement',\n",
              "  'C8EV_International travel controls',\n",
              "  'E1_Income support',\n",
              "  'E2_Debt/contract relief',\n",
              "  'H1_Public information campaigns',\n",
              "  'H2_Testing policy',\n",
              "  'H3_Contact tracing',\n",
              "  'H6M_Facial Coverings',\n",
              "  'H8M_Protection of elderly people'],\n",
              " ['C1M_School closing',\n",
              "  'C2M_Workplace closing',\n",
              "  'C3M_Cancel public events',\n",
              "  'C4M_Restrictions on gatherings',\n",
              "  'C6M_Stay at home requirements',\n",
              "  'C7M_Restrictions on internal movement',\n",
              "  'C8EV_International travel controls',\n",
              "  'E1_Income support',\n",
              "  'E2_Debt/contract relief',\n",
              "  'H1_Public information campaigns',\n",
              "  'H2_Testing policy',\n",
              "  'H3_Contact tracing',\n",
              "  'H6M_Facial Coverings',\n",
              "  'H8M_Protection of elderly people'],\n",
              " ['C1M_School closing',\n",
              "  'C2M_Workplace closing',\n",
              "  'C3M_Cancel public events',\n",
              "  'C4M_Restrictions on gatherings',\n",
              "  'C6M_Stay at home requirements',\n",
              "  'C7M_Restrictions on internal movement',\n",
              "  'C8EV_International travel controls',\n",
              "  'E1_Income support',\n",
              "  'E2_Debt/contract relief',\n",
              "  'H1_Public information campaigns',\n",
              "  'H2_Testing policy',\n",
              "  'H3_Contact tracing',\n",
              "  'H6M_Facial Coverings',\n",
              "  'H8M_Protection of elderly people'],\n",
              " ['C1M_School closing',\n",
              "  'C2M_Workplace closing',\n",
              "  'C3M_Cancel public events',\n",
              "  'C4M_Restrictions on gatherings',\n",
              "  'C6M_Stay at home requirements',\n",
              "  'C7M_Restrictions on internal movement',\n",
              "  'C8EV_International travel controls',\n",
              "  'E1_Income support',\n",
              "  'E2_Debt/contract relief',\n",
              "  'H1_Public information campaigns',\n",
              "  'H2_Testing policy',\n",
              "  'H3_Contact tracing',\n",
              "  'H6M_Facial Coverings',\n",
              "  'H8M_Protection of elderly people']]"
            ]
          },
          "metadata": {},
          "execution_count": 38
        }
      ]
    },
    {
      "cell_type": "markdown",
      "source": [
        "Pairs"
      ],
      "metadata": {
        "id": "RlZR7QbAwCzr"
      }
    },
    {
      "cell_type": "code",
      "source": [
        "pairs = apriori(df, 100, 2) #Number in each pair, represents the count of that pair\n",
        "pairs.take(20)"
      ],
      "metadata": {
        "colab": {
          "base_uri": "https://localhost:8080/"
        },
        "id": "IhL5UVPSHAY4",
        "outputId": "2b946e1d-dbab-449e-a5ad-80b2a276efce"
      },
      "execution_count": 39,
      "outputs": [
        {
          "output_type": "execute_result",
          "data": {
            "text/plain": [
              "[(frozenset({'C8EV_International travel controls',\n",
              "             'H1_Public information campaigns'}),\n",
              "  1128),\n",
              " (frozenset({'C8EV_International travel controls', 'H2_Testing policy'}),\n",
              "  1173),\n",
              " (frozenset({'H1_Public information campaigns', 'H3_Contact tracing'}), 1128),\n",
              " (frozenset({'H2_Testing policy', 'H3_Contact tracing'}), 1173),\n",
              " (frozenset({'H2_Testing policy', 'H8M_Protection of elderly people'}), 1075),\n",
              " (frozenset({'C2M_Workplace closing', 'H1_Public information campaigns'}),\n",
              "  817),\n",
              " (frozenset({'E2_Debt/contract relief', 'H1_Public information campaigns'}),\n",
              "  990),\n",
              " (frozenset({'C7M_Restrictions on internal movement',\n",
              "             'H1_Public information campaigns'}),\n",
              "  914),\n",
              " (frozenset({'C1M_School closing', 'H1_Public information campaigns'}), 1017),\n",
              " (frozenset({'E1_Income support', 'H2_Testing policy'}), 900),\n",
              " (frozenset({'C4M_Restrictions on gatherings',\n",
              "             'H1_Public information campaigns'}),\n",
              "  657),\n",
              " (frozenset({'C3M_Cancel public events', 'H1_Public information campaigns'}),\n",
              "  900),\n",
              " (frozenset({'C3M_Cancel public events', 'H2_Testing policy'}), 900),\n",
              " (frozenset({'C7M_Restrictions on internal movement', 'H2_Testing policy'}),\n",
              "  914),\n",
              " (frozenset({'C2M_Workplace closing', 'H2_Testing policy'}), 817),\n",
              " (frozenset({'H1_Public information campaigns',\n",
              "             'H8M_Protection of elderly people'}),\n",
              "  1074),\n",
              " (frozenset({'C4M_Restrictions on gatherings', 'H2_Testing policy'}), 657),\n",
              " (frozenset({'C5M_Close public transport', 'H1_Public information campaigns'}),\n",
              "  380),\n",
              " (frozenset({'E1_Income support', 'H1_Public information campaigns'}), 900),\n",
              " (frozenset({'C1M_School closing', 'H2_Testing policy'}), 1017)]"
            ]
          },
          "metadata": {},
          "execution_count": 39
        }
      ]
    },
    {
      "cell_type": "code",
      "source": [
        "test = pairs.collect()\n",
        "tuple(test[0][0])[0] #Accessing the frequent item"
      ],
      "metadata": {
        "colab": {
          "base_uri": "https://localhost:8080/",
          "height": 36
        },
        "id": "W0tIHdmZB9u1",
        "outputId": "d27af9ec-c0a8-4097-ee31-e4395ed50373"
      },
      "execution_count": 40,
      "outputs": [
        {
          "output_type": "execute_result",
          "data": {
            "text/plain": [
              "'C8EV_International travel controls'"
            ],
            "application/vnd.google.colaboratory.intrinsic+json": {
              "type": "string"
            }
          },
          "metadata": {},
          "execution_count": 40
        }
      ]
    },
    {
      "cell_type": "code",
      "source": [
        "single = apriori(df,100,1)\n",
        "single = single.flatMap(lambda s: [(tuple(s[0])[0],s[1])])\n",
        "single.take(10)"
      ],
      "metadata": {
        "colab": {
          "base_uri": "https://localhost:8080/"
        },
        "id": "1iuFKMW3S2Qe",
        "outputId": "2add1cbd-a3d3-42cf-9ccc-227ee31e9edc"
      },
      "execution_count": 41,
      "outputs": [
        {
          "output_type": "execute_result",
          "data": {
            "text/plain": [
              "[('C8EV_International travel controls', 1173),\n",
              " ('H3_Contact tracing', 1173),\n",
              " ('E1_Income support', 900),\n",
              " ('C3M_Cancel public events', 900),\n",
              " ('C4M_Restrictions on gatherings', 657),\n",
              " ('C7M_Restrictions on internal movement', 914),\n",
              " ('E2_Debt/contract relief', 990),\n",
              " ('C6M_Stay at home requirements', 724),\n",
              " ('C1M_School closing', 1017),\n",
              " ('H8M_Protection of elderly people', 1075)]"
            ]
          },
          "metadata": {},
          "execution_count": 41
        }
      ]
    },
    {
      "cell_type": "markdown",
      "source": [
        "X=>Y"
      ],
      "metadata": {
        "id": "vCmoGh5h-PIF"
      }
    },
    {
      "cell_type": "code",
      "source": [
        "pairs_with_conf = pairs.flatMap(lambda pair: [(tuple(pair[0])[0],(tuple(pair[0])[1],pair[1]))])\n",
        "pairs_with_conf.take(5)"
      ],
      "metadata": {
        "colab": {
          "base_uri": "https://localhost:8080/"
        },
        "id": "LxPpkSu9wHj5",
        "outputId": "68d4a632-fbd3-4878-8824-9bdbe13675fe"
      },
      "execution_count": 42,
      "outputs": [
        {
          "output_type": "execute_result",
          "data": {
            "text/plain": [
              "[('H1_Public information campaigns',\n",
              "  ('C8EV_International travel controls', 1128)),\n",
              " ('H2_Testing policy', ('C8EV_International travel controls', 1173)),\n",
              " ('H3_Contact tracing', ('H1_Public information campaigns', 1128)),\n",
              " ('H3_Contact tracing', ('H2_Testing policy', 1173)),\n",
              " ('H2_Testing policy', ('H8M_Protection of elderly people', 1075))]"
            ]
          },
          "metadata": {},
          "execution_count": 42
        }
      ]
    },
    {
      "cell_type": "code",
      "source": [
        "pairs_with_confidence = pairs_with_conf.join(single) #Join with X to get the count of X from single\n",
        "pairs_with_confidence.take(5)"
      ],
      "metadata": {
        "colab": {
          "base_uri": "https://localhost:8080/"
        },
        "id": "LwclMxyJVI5R",
        "outputId": "0e32faad-7125-41bd-aeec-2a60dde23210"
      },
      "execution_count": 43,
      "outputs": [
        {
          "output_type": "execute_result",
          "data": {
            "text/plain": [
              "[('C6M_Stay at home requirements',\n",
              "  (('C4M_Restrictions on gatherings', 614), 724)),\n",
              " ('C6M_Stay at home requirements',\n",
              "  (('C7M_Restrictions on internal movement', 715), 724)),\n",
              " ('C6M_Stay at home requirements',\n",
              "  (('C8EV_International travel controls', 724), 724)),\n",
              " ('C6M_Stay at home requirements', (('E1_Income support', 659), 724)),\n",
              " ('C6M_Stay at home requirements', (('C2M_Workplace closing', 701), 724))]"
            ]
          },
          "metadata": {},
          "execution_count": 43
        }
      ]
    },
    {
      "cell_type": "code",
      "source": [
        "pairs_with_confidence = pairs_with_confidence.flatMap(lambda pair: [(pair[0],pair[1][0][0],pair[1][0][1]/pair[1][1])])\n",
        "pairs_with_confidence.take(10)"
      ],
      "metadata": {
        "colab": {
          "base_uri": "https://localhost:8080/"
        },
        "id": "K6UCKmlxVqYp",
        "outputId": "e12d1fa8-4227-47a0-a57d-75d7446acbe8"
      },
      "execution_count": 44,
      "outputs": [
        {
          "output_type": "execute_result",
          "data": {
            "text/plain": [
              "[('C6M_Stay at home requirements',\n",
              "  'C4M_Restrictions on gatherings',\n",
              "  0.8480662983425414),\n",
              " ('C6M_Stay at home requirements',\n",
              "  'C7M_Restrictions on internal movement',\n",
              "  0.9875690607734806),\n",
              " ('C6M_Stay at home requirements', 'C8EV_International travel controls', 1.0),\n",
              " ('C6M_Stay at home requirements', 'E1_Income support', 0.9102209944751382),\n",
              " ('C6M_Stay at home requirements',\n",
              "  'C2M_Workplace closing',\n",
              "  0.9682320441988951),\n",
              " ('C6M_Stay at home requirements', 'C1M_School closing', 0.9875690607734806),\n",
              " ('C6M_Stay at home requirements', 'H8M_Protection of elderly people', 1.0),\n",
              " ('C6M_Stay at home requirements',\n",
              "  'H7_Vaccination policy',\n",
              "  0.3729281767955801),\n",
              " ('H7_Vaccination policy', 'E1_Income support', 0.8169934640522876),\n",
              " ('H7_Vaccination policy',\n",
              "  'C4M_Restrictions on gatherings',\n",
              "  0.3954248366013072)]"
            ]
          },
          "metadata": {},
          "execution_count": 44
        }
      ]
    },
    {
      "cell_type": "code",
      "source": [
        "pairs_to_show = pairs_with_confidence.collect()\n",
        "columns = [\"X\", \"Y\",\"Confidence\"]\n",
        "sorted_pairs = spark.createDataFrame(pairs_to_show, columns)\n",
        "sorted_pairs = sorted_pairs.orderBy(col(\"Confidence\").desc(), col(\"X\").asc(), col(\"Y\").asc())\n",
        "sorted_pairs.show(100)"
      ],
      "metadata": {
        "colab": {
          "base_uri": "https://localhost:8080/"
        },
        "id": "bvupZOpN464J",
        "outputId": "84b690f6-1d9b-469e-d289-1df1928003c0"
      },
      "execution_count": 45,
      "outputs": [
        {
          "output_type": "stream",
          "name": "stdout",
          "text": [
            "+--------------------+--------------------+------------------+\n",
            "|                   X|                   Y|        Confidence|\n",
            "+--------------------+--------------------+------------------+\n",
            "|C3M_Cancel public...|C8EV_Internationa...|               1.0|\n",
            "|C3M_Cancel public...|H1_Public informa...|               1.0|\n",
            "|C3M_Cancel public...|   H2_Testing policy|               1.0|\n",
            "|C3M_Cancel public...|H8M_Protection of...|               1.0|\n",
            "|C5M_Close public ...|C8EV_Internationa...|               1.0|\n",
            "|C5M_Close public ...|H1_Public informa...|               1.0|\n",
            "|C5M_Close public ...|   H2_Testing policy|               1.0|\n",
            "|C6M_Stay at home ...|C8EV_Internationa...|               1.0|\n",
            "|C6M_Stay at home ...|H8M_Protection of...|               1.0|\n",
            "|   E1_Income support|C8EV_Internationa...|               1.0|\n",
            "|   E1_Income support|H8M_Protection of...|               1.0|\n",
            "|E2_Debt/contract ...|C8EV_Internationa...|               1.0|\n",
            "|E2_Debt/contract ...|H1_Public informa...|               1.0|\n",
            "|E2_Debt/contract ...|H8M_Protection of...|               1.0|\n",
            "|H1_Public informa...|C8EV_Internationa...|               1.0|\n",
            "|   H2_Testing policy|C8EV_Internationa...|               1.0|\n",
            "|  H3_Contact tracing|C8EV_Internationa...|               1.0|\n",
            "|  H3_Contact tracing|   H2_Testing policy|               1.0|\n",
            "|H6M_Facial Coverings|C8EV_Internationa...|               1.0|\n",
            "|H6M_Facial Coverings|H1_Public informa...|               1.0|\n",
            "|H6M_Facial Coverings|   H2_Testing policy|               1.0|\n",
            "|H6M_Facial Coverings|H8M_Protection of...|               1.0|\n",
            "|H7_Vaccination po...|C8EV_Internationa...|               1.0|\n",
            "|H7_Vaccination po...|H8M_Protection of...|               1.0|\n",
            "|H8M_Protection of...|C8EV_Internationa...|               1.0|\n",
            "|C5M_Close public ...|H8M_Protection of...|0.9973684210526316|\n",
            "|C4M_Restrictions ...|C2M_Workplace clo...|0.9878234398782344|\n",
            "|C6M_Stay at home ...|  C1M_School closing|0.9875690607734806|\n",
            "|C6M_Stay at home ...|C7M_Restrictions ...|0.9875690607734806|\n",
            "|C5M_Close public ...|  C1M_School closing|0.9815789473684211|\n",
            "|C6M_Stay at home ...|C2M_Workplace clo...|0.9682320441988951|\n",
            "|C3M_Cancel public...|  C1M_School closing|0.9633333333333334|\n",
            "|   H2_Testing policy|H1_Public informa...|0.9616368286445013|\n",
            "|  H3_Contact tracing|H1_Public informa...|0.9616368286445013|\n",
            "|C7M_Restrictions ...|  C1M_School closing|0.9606126914660832|\n",
            "|   E1_Income support|  C1M_School closing|0.9588888888888889|\n",
            "|E2_Debt/contract ...|  C1M_School closing|0.9575757575757575|\n",
            "|C3M_Cancel public...|E2_Debt/contract ...|0.9566666666666667|\n",
            "|C5M_Close public ...|C3M_Cancel public...|0.9552631578947368|\n",
            "|H1_Public informa...|H8M_Protection of...|0.9521276595744681|\n",
            "|C3M_Cancel public...|C7M_Restrictions ...|              0.95|\n",
            "|H6M_Facial Coverings|  C1M_School closing|0.9469548133595285|\n",
            "|H8M_Protection of...|  C1M_School closing| 0.946046511627907|\n",
            "|C5M_Close public ...|C7M_Restrictions ...|0.9421052631578948|\n",
            "|C5M_Close public ...|C2M_Workplace clo...|0.9342105263157895|\n",
            "|H6M_Facial Coverings|E2_Debt/contract ...|0.9214145383104125|\n",
            "|C5M_Close public ...|E2_Debt/contract ...|0.9210526315789473|\n",
            "|   H2_Testing policy|H8M_Protection of...|0.9164535379369139|\n",
            "|  H3_Contact tracing|H8M_Protection of...|0.9164535379369139|\n",
            "|C5M_Close public ...|   E1_Income support|0.9157894736842105|\n",
            "|C3M_Cancel public...|   E1_Income support|0.9144444444444444|\n",
            "|H7_Vaccination po...|  C1M_School closing|0.9117647058823529|\n",
            "|C5M_Close public ...|H6M_Facial Coverings|0.9105263157894737|\n",
            "|C6M_Stay at home ...|   E1_Income support|0.9102209944751382|\n",
            "|   E1_Income support|C7M_Restrictions ...|0.9033333333333333|\n",
            "|H1_Public informa...|  C1M_School closing| 0.901595744680851|\n",
            "|C3M_Cancel public...|C2M_Workplace clo...|0.8777777777777778|\n",
            "|E2_Debt/contract ...|C7M_Restrictions ...|0.8747474747474747|\n",
            "|  H3_Contact tracing|H6M_Facial Coverings|0.8678601875532822|\n",
            "|C8EV_Internationa...|  C1M_School closing|0.8670076726342711|\n",
            "|   H2_Testing policy|  C1M_School closing|0.8670076726342711|\n",
            "|  H3_Contact tracing|  C1M_School closing|0.8670076726342711|\n",
            "|C5M_Close public ...|C6M_Stay at home ...|0.8578947368421053|\n",
            "|H6M_Facial Coverings|C7M_Restrictions ...|0.8506876227897839|\n",
            "|E2_Debt/contract ...|   E1_Income support|0.8505050505050505|\n",
            "|H8M_Protection of...|C7M_Restrictions ...|0.8502325581395349|\n",
            "|C7M_Restrictions ...|C2M_Workplace clo...| 0.850109409190372|\n",
            "|C6M_Stay at home ...|C4M_Restrictions ...|0.8480662983425414|\n",
            "|   H2_Testing policy|E2_Debt/contract ...|0.8439897698209718|\n",
            "|  H3_Contact tracing|E2_Debt/contract ...|0.8439897698209718|\n",
            "|H6M_Facial Coverings|C3M_Cancel public...|0.8349705304518664|\n",
            "|H6M_Facial Coverings|   E1_Income support|0.8320235756385069|\n",
            "|C5M_Close public ...|C4M_Restrictions ...|0.8236842105263158|\n",
            "|H7_Vaccination po...|   E1_Income support|0.8169934640522876|\n",
            "|   E1_Income support|C2M_Workplace clo...|0.8122222222222222|\n",
            "|H1_Public informa...|C7M_Restrictions ...|0.8102836879432624|\n",
            "|H1_Public informa...|   E1_Income support|0.7978723404255319|\n",
            "|C3M_Cancel public...|C6M_Stay at home ...|0.7966666666666666|\n",
            "|  C1M_School closing|C2M_Workplace clo...|0.7915437561455261|\n",
            "|E2_Debt/contract ...|C2M_Workplace clo...|0.7868686868686868|\n",
            "|C8EV_Internationa...|C7M_Restrictions ...|0.7791986359761296|\n",
            "|   H2_Testing policy|C7M_Restrictions ...|0.7791986359761296|\n",
            "|  H3_Contact tracing|C7M_Restrictions ...|0.7791986359761296|\n",
            "|   H2_Testing policy|   E1_Income support|0.7672634271099744|\n",
            "|  H3_Contact tracing|C3M_Cancel public...|0.7672634271099744|\n",
            "|  H3_Contact tracing|   E1_Income support|0.7672634271099744|\n",
            "|H8M_Protection of...|C2M_Workplace clo...|              0.76|\n",
            "|H6M_Facial Coverings|C2M_Workplace clo...|0.7514734774066798|\n",
            "|H7_Vaccination po...|C7M_Restrictions ...|0.7434640522875817|\n",
            "|C3M_Cancel public...|C4M_Restrictions ...|              0.73|\n",
            "|H1_Public informa...|C2M_Workplace clo...| 0.724290780141844|\n",
            "|C7M_Restrictions ...|C4M_Restrictions ...|0.7100656455142232|\n",
            "|E2_Debt/contract ...|C6M_Stay at home ...|0.7090909090909091|\n",
            "|C8EV_Internationa...|C2M_Workplace clo...|0.6965046888320545|\n",
            "|   H2_Testing policy|C2M_Workplace clo...|0.6965046888320545|\n",
            "|  H3_Contact tracing|C2M_Workplace clo...|0.6965046888320545|\n",
            "|H6M_Facial Coverings|C6M_Stay at home ...| 0.668958742632613|\n",
            "|   E1_Income support|C4M_Restrictions ...|0.6666666666666666|\n",
            "|E2_Debt/contract ...|C4M_Restrictions ...|0.6494949494949495|\n",
            "|  C1M_School closing|C4M_Restrictions ...|0.6460176991150443|\n",
            "+--------------------+--------------------+------------------+\n",
            "only showing top 100 rows\n",
            "\n"
          ]
        }
      ]
    },
    {
      "cell_type": "code",
      "source": [
        "top5 = sorted_pairs.limit(5)\n",
        "top5.show()"
      ],
      "metadata": {
        "colab": {
          "base_uri": "https://localhost:8080/"
        },
        "id": "Kycqs1j8M6Bh",
        "outputId": "39aa70bb-b4c8-4ea7-a341-04207d3a390c"
      },
      "execution_count": 46,
      "outputs": [
        {
          "output_type": "stream",
          "name": "stdout",
          "text": [
            "+--------------------+--------------------+----------+\n",
            "|                   X|                   Y|Confidence|\n",
            "+--------------------+--------------------+----------+\n",
            "|C3M_Cancel public...|C8EV_Internationa...|       1.0|\n",
            "|C3M_Cancel public...|H1_Public informa...|       1.0|\n",
            "|C3M_Cancel public...|   H2_Testing policy|       1.0|\n",
            "|C3M_Cancel public...|H8M_Protection of...|       1.0|\n",
            "|C5M_Close public ...|C8EV_Internationa...|       1.0|\n",
            "+--------------------+--------------------+----------+\n",
            "\n"
          ]
        }
      ]
    },
    {
      "cell_type": "markdown",
      "source": [
        "Y=>X"
      ],
      "metadata": {
        "id": "MCKtc4GpyPBP"
      }
    },
    {
      "cell_type": "code",
      "source": [
        "pairs_with_conf = pairs.flatMap(lambda pair: [(tuple(pair[0])[1],(tuple(pair[0])[0],pair[1]))])\n",
        "pairs_with_confidence = pairs_with_conf.join(single)#Join with Y to get the count of Y from single\n",
        "pairs_with_confidence = pairs_with_confidence.flatMap(lambda pair: [(pair[0],pair[1][0][0],pair[1][0][1]/pair[1][1])])\n"
      ],
      "metadata": {
        "id": "ydjWgT9QxvxZ"
      },
      "execution_count": 47,
      "outputs": []
    },
    {
      "cell_type": "code",
      "source": [
        "pairs_to_show = pairs_with_confidence.collect()\n",
        "columns = [\"Y\", \"X\",\"Confidence\"]\n",
        "sorted_pairs = spark.createDataFrame(pairs_to_show, columns)\n",
        "sorted_pairs = sorted_pairs.orderBy(col(\"Confidence\").desc(), col(\"Y\").asc(), col(\"X\").asc())\n",
        "sorted_pairs.show(100)"
      ],
      "metadata": {
        "colab": {
          "base_uri": "https://localhost:8080/"
        },
        "id": "_v3HLu2vywDO",
        "outputId": "0309eb26-3425-46e2-e972-ffa2ffe37d95"
      },
      "execution_count": 48,
      "outputs": [
        {
          "output_type": "stream",
          "name": "stdout",
          "text": [
            "+--------------------+--------------------+------------------+\n",
            "|                   Y|                   X|        Confidence|\n",
            "+--------------------+--------------------+------------------+\n",
            "|  C1M_School closing|C8EV_Internationa...|               1.0|\n",
            "|  C1M_School closing|H1_Public informa...|               1.0|\n",
            "|  C1M_School closing|   H2_Testing policy|               1.0|\n",
            "|  C1M_School closing|  H3_Contact tracing|               1.0|\n",
            "|  C1M_School closing|H8M_Protection of...|               1.0|\n",
            "|C2M_Workplace clo...|C8EV_Internationa...|               1.0|\n",
            "|C2M_Workplace clo...|H1_Public informa...|               1.0|\n",
            "|C2M_Workplace clo...|   H2_Testing policy|               1.0|\n",
            "|C2M_Workplace clo...|  H3_Contact tracing|               1.0|\n",
            "|C2M_Workplace clo...|H8M_Protection of...|               1.0|\n",
            "|C3M_Cancel public...|  H3_Contact tracing|               1.0|\n",
            "|C4M_Restrictions ...|  C1M_School closing|               1.0|\n",
            "|C4M_Restrictions ...|C3M_Cancel public...|               1.0|\n",
            "|C4M_Restrictions ...|C8EV_Internationa...|               1.0|\n",
            "|C4M_Restrictions ...|H1_Public informa...|               1.0|\n",
            "|C4M_Restrictions ...|   H2_Testing policy|               1.0|\n",
            "|C4M_Restrictions ...|  H3_Contact tracing|               1.0|\n",
            "|C4M_Restrictions ...|H8M_Protection of...|               1.0|\n",
            "|C5M_Close public ...|  H3_Contact tracing|               1.0|\n",
            "|C6M_Stay at home ...|H1_Public informa...|               1.0|\n",
            "|C6M_Stay at home ...|   H2_Testing policy|               1.0|\n",
            "|C6M_Stay at home ...|  H3_Contact tracing|               1.0|\n",
            "|C7M_Restrictions ...|C8EV_Internationa...|               1.0|\n",
            "|C7M_Restrictions ...|H1_Public informa...|               1.0|\n",
            "|C7M_Restrictions ...|   H2_Testing policy|               1.0|\n",
            "|C7M_Restrictions ...|  H3_Contact tracing|               1.0|\n",
            "|C7M_Restrictions ...|H8M_Protection of...|               1.0|\n",
            "|C8EV_Internationa...|   H2_Testing policy|               1.0|\n",
            "|C8EV_Internationa...|  H3_Contact tracing|               1.0|\n",
            "|   E1_Income support|H1_Public informa...|               1.0|\n",
            "|   E1_Income support|   H2_Testing policy|               1.0|\n",
            "|   E1_Income support|  H3_Contact tracing|               1.0|\n",
            "|E2_Debt/contract ...|   H2_Testing policy|               1.0|\n",
            "|E2_Debt/contract ...|  H3_Contact tracing|               1.0|\n",
            "|H1_Public informa...|   H2_Testing policy|               1.0|\n",
            "|H1_Public informa...|  H3_Contact tracing|               1.0|\n",
            "|   H2_Testing policy|  H3_Contact tracing|               1.0|\n",
            "|H6M_Facial Coverings|  H3_Contact tracing|               1.0|\n",
            "|H7_Vaccination po...|H1_Public informa...|               1.0|\n",
            "|H7_Vaccination po...|   H2_Testing policy|               1.0|\n",
            "|H7_Vaccination po...|  H3_Contact tracing|               1.0|\n",
            "|H8M_Protection of...|   H2_Testing policy|               1.0|\n",
            "|H8M_Protection of...|  H3_Contact tracing|               1.0|\n",
            "|H8M_Protection of...|H1_Public informa...|0.9990697674418605|\n",
            "|H7_Vaccination po...|H6M_Facial Coverings|0.9918300653594772|\n",
            "|C6M_Stay at home ...|C3M_Cancel public...|0.9903314917127072|\n",
            "|C4M_Restrictions ...|C7M_Restrictions ...|0.9878234398782344|\n",
            "|C2M_Workplace clo...|  C1M_School closing|  0.98531211750306|\n",
            "|C4M_Restrictions ...|E2_Debt/contract ...|0.9786910197869102|\n",
            "|C6M_Stay at home ...|E2_Debt/contract ...|0.9696132596685083|\n",
            "|C2M_Workplace clo...|C3M_Cancel public...| 0.966952264381885|\n",
            "|C8EV_Internationa...|H1_Public informa...|0.9616368286445013|\n",
            "|C2M_Workplace clo...|E2_Debt/contract ...|0.9534883720930233|\n",
            "|C2M_Workplace clo...|C7M_Restrictions ...|0.9510403916768666|\n",
            "|  C1M_School closing|H6M_Facial Coverings|0.9478859390363815|\n",
            "|C7M_Restrictions ...|E2_Debt/contract ...|0.9474835886214442|\n",
            "|C7M_Restrictions ...|H6M_Facial Coverings|0.9474835886214442|\n",
            "|E2_Debt/contract ...|H6M_Facial Coverings|0.9474747474747475|\n",
            "|H8M_Protection of...|H6M_Facial Coverings|0.9469767441860465|\n",
            "|C3M_Cancel public...|H6M_Facial Coverings|0.9444444444444444|\n",
            "|   E1_Income support|H6M_Facial Coverings|0.9411111111111111|\n",
            "|C6M_Stay at home ...|H6M_Facial Coverings|0.9406077348066298|\n",
            "|C2M_Workplace clo...|H6M_Facial Coverings|0.9363525091799265|\n",
            "|   E1_Income support|E2_Debt/contract ...|0.9355555555555556|\n",
            "|C7M_Restrictions ...|C3M_Cancel public...|0.9354485776805251|\n",
            "|C4M_Restrictions ...|C6M_Stay at home ...|0.9345509893455098|\n",
            "|  C1M_School closing|E2_Debt/contract ...|0.9321533923303835|\n",
            "|C4M_Restrictions ...|H6M_Facial Coverings|0.9299847792998478|\n",
            "|H8M_Protection of...|E2_Debt/contract ...|0.9209302325581395|\n",
            "|C8EV_Internationa...|H8M_Protection of...|0.9164535379369139|\n",
            "|   E1_Income support|C3M_Cancel public...|0.9144444444444444|\n",
            "|C4M_Restrictions ...|   E1_Income support|  0.91324200913242|\n",
            "|H1_Public informa...|H6M_Facial Coverings|0.9024822695035462|\n",
            "|H7_Vaccination po...|E2_Debt/contract ...|0.9019607843137255|\n",
            "|C2M_Workplace clo...|   E1_Income support|0.8947368421052632|\n",
            "|C7M_Restrictions ...|   E1_Income support|0.8894967177242888|\n",
            "|H1_Public informa...|E2_Debt/contract ...|0.8776595744680851|\n",
            "|E2_Debt/contract ...|C3M_Cancel public...|0.8696969696969697|\n",
            "|C8EV_Internationa...|H6M_Facial Coverings|0.8678601875532822|\n",
            "|   H2_Testing policy|H6M_Facial Coverings|0.8678601875532822|\n",
            "|  C1M_School closing|C7M_Restrictions ...|0.8633235004916421|\n",
            "|C2M_Workplace clo...|C6M_Stay at home ...|0.8580171358629131|\n",
            "|  C1M_School closing|C3M_Cancel public...|0.8525073746312685|\n",
            "|  C1M_School closing|   E1_Income support|0.8485742379547689|\n",
            "|C8EV_Internationa...|E2_Debt/contract ...|0.8439897698209718|\n",
            "|H8M_Protection of...|C3M_Cancel public...|0.8372093023255814|\n",
            "|H8M_Protection of...|   E1_Income support|0.8372093023255814|\n",
            "|H1_Public informa...|C3M_Cancel public...|0.7978723404255319|\n",
            "|C2M_Workplace clo...|C4M_Restrictions ...|0.7943696450428397|\n",
            "|C7M_Restrictions ...|C6M_Stay at home ...|0.7822757111597374|\n",
            "|C8EV_Internationa...|C3M_Cancel public...|0.7672634271099744|\n",
            "|C8EV_Internationa...|   E1_Income support|0.7672634271099744|\n",
            "|   H2_Testing policy|C3M_Cancel public...|0.7672634271099744|\n",
            "|   E1_Income support|C6M_Stay at home ...|0.7322222222222222|\n",
            "|H7_Vaccination po...|C3M_Cancel public...|0.7205882352941176|\n",
            "|  C1M_School closing|C6M_Stay at home ...|0.7030481809242871|\n",
            "|H8M_Protection of...|C6M_Stay at home ...|0.6734883720930233|\n",
            "|C8EV_Internationa...|C6M_Stay at home ...|0.6172208013640239|\n",
            "|H8M_Protection of...|H7_Vaccination po...|0.5693023255813954|\n",
            "|   E1_Income support|H7_Vaccination po...|0.5555555555555556|\n",
            "+--------------------+--------------------+------------------+\n",
            "only showing top 100 rows\n",
            "\n"
          ]
        }
      ]
    },
    {
      "cell_type": "markdown",
      "source": [
        "Formatting dataframe to output"
      ],
      "metadata": {
        "id": "4iJpP9rZV83m"
      }
    },
    {
      "cell_type": "code",
      "source": [
        "break_point_row = spark.createDataFrame([Row(X='Y', Y='X',Confidence=\"Confidence\")])\n",
        "top5 = top5.union(break_point_row)\n",
        "top5.show()"
      ],
      "metadata": {
        "colab": {
          "base_uri": "https://localhost:8080/"
        },
        "collapsed": true,
        "id": "zT4ht6ZtNqHe",
        "outputId": "56275966-17ca-4891-edbf-e84644497595"
      },
      "execution_count": 49,
      "outputs": [
        {
          "output_type": "stream",
          "name": "stdout",
          "text": [
            "+--------------------+--------------------+----------+\n",
            "|                   X|                   Y|Confidence|\n",
            "+--------------------+--------------------+----------+\n",
            "|C3M_Cancel public...|C8EV_Internationa...|       1.0|\n",
            "|C3M_Cancel public...|H1_Public informa...|       1.0|\n",
            "|C3M_Cancel public...|   H2_Testing policy|       1.0|\n",
            "|C3M_Cancel public...|H8M_Protection of...|       1.0|\n",
            "|C5M_Close public ...|C8EV_Internationa...|       1.0|\n",
            "|                   Y|                   X|Confidence|\n",
            "+--------------------+--------------------+----------+\n",
            "\n"
          ]
        }
      ]
    },
    {
      "cell_type": "code",
      "source": [
        "top5_YX = sorted_pairs.limit(5)\n",
        "top5_YX.show()"
      ],
      "metadata": {
        "colab": {
          "base_uri": "https://localhost:8080/"
        },
        "collapsed": true,
        "id": "ch3sSOwWOi4z",
        "outputId": "1b4d1a68-d5e9-412a-d0bd-70a382d251c1"
      },
      "execution_count": 50,
      "outputs": [
        {
          "output_type": "stream",
          "name": "stdout",
          "text": [
            "+------------------+--------------------+----------+\n",
            "|                 Y|                   X|Confidence|\n",
            "+------------------+--------------------+----------+\n",
            "|C1M_School closing|C8EV_Internationa...|       1.0|\n",
            "|C1M_School closing|H1_Public informa...|       1.0|\n",
            "|C1M_School closing|   H2_Testing policy|       1.0|\n",
            "|C1M_School closing|  H3_Contact tracing|       1.0|\n",
            "|C1M_School closing|H8M_Protection of...|       1.0|\n",
            "+------------------+--------------------+----------+\n",
            "\n"
          ]
        }
      ]
    },
    {
      "cell_type": "code",
      "source": [
        "top5_YX_renamed = top5_YX.select(\n",
        "    top5_YX.Y.alias(\"X\"),\n",
        "    top5_YX.X.alias(\"Y\"),\n",
        "    top5_YX.Confidence\n",
        ")\n",
        "top5_YX_renamed.show()"
      ],
      "metadata": {
        "colab": {
          "base_uri": "https://localhost:8080/"
        },
        "collapsed": true,
        "id": "PYId51DwPCxj",
        "outputId": "6d11d38d-baf3-4154-a434-35e703be9b36"
      },
      "execution_count": 51,
      "outputs": [
        {
          "output_type": "stream",
          "name": "stdout",
          "text": [
            "+------------------+--------------------+----------+\n",
            "|                 X|                   Y|Confidence|\n",
            "+------------------+--------------------+----------+\n",
            "|C1M_School closing|C8EV_Internationa...|       1.0|\n",
            "|C1M_School closing|H1_Public informa...|       1.0|\n",
            "|C1M_School closing|   H2_Testing policy|       1.0|\n",
            "|C1M_School closing|  H3_Contact tracing|       1.0|\n",
            "|C1M_School closing|H8M_Protection of...|       1.0|\n",
            "+------------------+--------------------+----------+\n",
            "\n"
          ]
        }
      ]
    },
    {
      "cell_type": "code",
      "source": [
        "top5 = top5.union(top5_YX_renamed)\n",
        "top5.show()"
      ],
      "metadata": {
        "colab": {
          "base_uri": "https://localhost:8080/"
        },
        "id": "e7rhk-rzPgV7",
        "outputId": "a01b4ef9-c0e8-4859-c58a-7fedb2132376"
      },
      "execution_count": 52,
      "outputs": [
        {
          "output_type": "stream",
          "name": "stdout",
          "text": [
            "+--------------------+--------------------+----------+\n",
            "|                   X|                   Y|Confidence|\n",
            "+--------------------+--------------------+----------+\n",
            "|C3M_Cancel public...|C8EV_Internationa...|       1.0|\n",
            "|C3M_Cancel public...|H1_Public informa...|       1.0|\n",
            "|C3M_Cancel public...|   H2_Testing policy|       1.0|\n",
            "|C3M_Cancel public...|H8M_Protection of...|       1.0|\n",
            "|C5M_Close public ...|C8EV_Internationa...|       1.0|\n",
            "|                   Y|                   X|Confidence|\n",
            "|  C1M_School closing|C8EV_Internationa...|       1.0|\n",
            "|  C1M_School closing|H1_Public informa...|       1.0|\n",
            "|  C1M_School closing|   H2_Testing policy|       1.0|\n",
            "|  C1M_School closing|  H3_Contact tracing|       1.0|\n",
            "|  C1M_School closing|H8M_Protection of...|       1.0|\n",
            "+--------------------+--------------------+----------+\n",
            "\n"
          ]
        }
      ]
    },
    {
      "cell_type": "code",
      "source": [
        "df_pandas = top5.toPandas()\n",
        "df_pandas.to_csv(\"/content/Q3_b.txt\", sep='\\t', index=False)"
      ],
      "metadata": {
        "id": "ermbckm5PzWP"
      },
      "execution_count": 53,
      "outputs": []
    },
    {
      "cell_type": "markdown",
      "source": [
        "Triplets"
      ],
      "metadata": {
        "id": "_0sqQ2my67uV"
      }
    },
    {
      "cell_type": "code",
      "source": [
        "triplets = apriori(df, 100, 3)\n",
        "triplets.take(10)"
      ],
      "metadata": {
        "colab": {
          "base_uri": "https://localhost:8080/"
        },
        "id": "u6yQByoA68xa",
        "outputId": "09db24c6-1c1c-4737-ba22-695dd5a37f80"
      },
      "execution_count": 54,
      "outputs": [
        {
          "output_type": "execute_result",
          "data": {
            "text/plain": [
              "[(frozenset({'C8EV_International travel controls',\n",
              "             'H1_Public information campaigns',\n",
              "             'H3_Contact tracing'}),\n",
              "  1128),\n",
              " (frozenset({'C8EV_International travel controls',\n",
              "             'H2_Testing policy',\n",
              "             'H3_Contact tracing'}),\n",
              "  1173),\n",
              " (frozenset({'H1_Public information campaigns',\n",
              "             'H3_Contact tracing',\n",
              "             'H8M_Protection of elderly people'}),\n",
              "  1074),\n",
              " (frozenset({'C3M_Cancel public events',\n",
              "             'C4M_Restrictions on gatherings',\n",
              "             'H1_Public information campaigns'}),\n",
              "  657),\n",
              " (frozenset({'C7M_Restrictions on internal movement',\n",
              "             'H1_Public information campaigns',\n",
              "             'H3_Contact tracing'}),\n",
              "  914),\n",
              " (frozenset({'C1M_School closing',\n",
              "             'C2M_Workplace closing',\n",
              "             'H1_Public information campaigns'}),\n",
              "  805),\n",
              " (frozenset({'C1M_School closing', 'H2_Testing policy', 'H3_Contact tracing'}),\n",
              "  1017),\n",
              " (frozenset({'C4M_Restrictions on gatherings',\n",
              "             'C6M_Stay at home requirements',\n",
              "             'H2_Testing policy'}),\n",
              "  614),\n",
              " (frozenset({'C2M_Workplace closing',\n",
              "             'C6M_Stay at home requirements',\n",
              "             'H2_Testing policy'}),\n",
              "  701),\n",
              " (frozenset({'C4M_Restrictions on gatherings',\n",
              "             'C8EV_International travel controls',\n",
              "             'H2_Testing policy'}),\n",
              "  657)]"
            ]
          },
          "metadata": {},
          "execution_count": 54
        }
      ]
    },
    {
      "cell_type": "markdown",
      "source": [
        "(X,Y)=>Z"
      ],
      "metadata": {
        "id": "uozRe5H7zqaM"
      }
    },
    {
      "cell_type": "code",
      "source": [
        "triplets_with_conf = triplets.flatMap(lambda triplet: [(frozenset((tuple(triplet[0])[0],tuple(triplet[0])[1])),(tuple(triplet[0])[2],triplet[1]))])\n",
        "triplets_with_conf.take(5)"
      ],
      "metadata": {
        "colab": {
          "base_uri": "https://localhost:8080/"
        },
        "id": "IjmkGDbK7eiJ",
        "outputId": "fdb7fa08-8590-4390-f174-6ec94dcec7bb"
      },
      "execution_count": 55,
      "outputs": [
        {
          "output_type": "execute_result",
          "data": {
            "text/plain": [
              "[(frozenset({'H1_Public information campaigns', 'H3_Contact tracing'}),\n",
              "  ('C8EV_International travel controls', 1128)),\n",
              " (frozenset({'H2_Testing policy', 'H3_Contact tracing'}),\n",
              "  ('C8EV_International travel controls', 1173)),\n",
              " (frozenset({'H1_Public information campaigns', 'H3_Contact tracing'}),\n",
              "  ('H8M_Protection of elderly people', 1074)),\n",
              " (frozenset({'C3M_Cancel public events', 'H1_Public information campaigns'}),\n",
              "  ('C4M_Restrictions on gatherings', 657)),\n",
              " (frozenset({'H1_Public information campaigns', 'H3_Contact tracing'}),\n",
              "  ('C7M_Restrictions on internal movement', 914))]"
            ]
          },
          "metadata": {},
          "execution_count": 55
        }
      ]
    },
    {
      "cell_type": "code",
      "source": [
        "triplets_with_confidence = triplets_with_conf.join(pairs) #Join with X,Y to get the count of X,Y from pairs\n",
        "triplets_with_confidence.take(5)"
      ],
      "metadata": {
        "colab": {
          "base_uri": "https://localhost:8080/"
        },
        "id": "qcA-SHQ7cM1h",
        "outputId": "94ff3f2a-fc7e-488a-9e21-8721bc721c43"
      },
      "execution_count": 56,
      "outputs": [
        {
          "output_type": "execute_result",
          "data": {
            "text/plain": [
              "[(frozenset({'H1_Public information campaigns', 'H3_Contact tracing'}),\n",
              "  (('C8EV_International travel controls', 1128), 1128)),\n",
              " (frozenset({'H1_Public information campaigns', 'H3_Contact tracing'}),\n",
              "  (('H8M_Protection of elderly people', 1074), 1128)),\n",
              " (frozenset({'H1_Public information campaigns', 'H3_Contact tracing'}),\n",
              "  (('C7M_Restrictions on internal movement', 914), 1128)),\n",
              " (frozenset({'H1_Public information campaigns', 'H3_Contact tracing'}),\n",
              "  (('C1M_School closing', 1017), 1128)),\n",
              " (frozenset({'H1_Public information campaigns', 'H3_Contact tracing'}),\n",
              "  (('C6M_Stay at home requirements', 724), 1128))]"
            ]
          },
          "metadata": {},
          "execution_count": 56
        }
      ]
    },
    {
      "cell_type": "code",
      "source": [
        "triplets_with_confidence = triplets_with_confidence.flatMap(lambda triplet: [(tuple(triplet[0])[0],tuple(triplet[0])[1],triplet[1][0][0],triplet[1][0][1]/triplet[1][1])])\n",
        "triplets_with_confidence.take(5)"
      ],
      "metadata": {
        "colab": {
          "base_uri": "https://localhost:8080/"
        },
        "id": "xvZFEquZclX1",
        "outputId": "e53c7ba3-0159-465a-93c3-92553d222e40"
      },
      "execution_count": 57,
      "outputs": [
        {
          "output_type": "execute_result",
          "data": {
            "text/plain": [
              "[('H3_Contact tracing',\n",
              "  'H1_Public information campaigns',\n",
              "  'C8EV_International travel controls',\n",
              "  1.0),\n",
              " ('H3_Contact tracing',\n",
              "  'H1_Public information campaigns',\n",
              "  'H8M_Protection of elderly people',\n",
              "  0.9521276595744681),\n",
              " ('H3_Contact tracing',\n",
              "  'H1_Public information campaigns',\n",
              "  'C7M_Restrictions on internal movement',\n",
              "  0.8102836879432624),\n",
              " ('H3_Contact tracing',\n",
              "  'H1_Public information campaigns',\n",
              "  'C1M_School closing',\n",
              "  0.901595744680851),\n",
              " ('H3_Contact tracing',\n",
              "  'H1_Public information campaigns',\n",
              "  'C6M_Stay at home requirements',\n",
              "  0.6418439716312057)]"
            ]
          },
          "metadata": {},
          "execution_count": 57
        }
      ]
    },
    {
      "cell_type": "code",
      "source": [
        "triplets_to_show = triplets_with_confidence.collect()\n",
        "columns = [\"X\", \"Y\",\"Z\",\"Confidence\"]\n",
        "sorted_triplets = spark.createDataFrame(triplets_to_show, columns)\n",
        "sorted_triplets = sorted_triplets.orderBy(col(\"Confidence\").desc(), col(\"X\").asc(), col(\"Y\").asc(), col(\"Z\").asc())\n",
        "sorted_triplets.show(50)"
      ],
      "metadata": {
        "colab": {
          "base_uri": "https://localhost:8080/"
        },
        "id": "NEbjjKyz9ij6",
        "outputId": "dac23117-e254-4578-e869-ada7ebbdb5fb",
        "collapsed": true
      },
      "execution_count": 58,
      "outputs": [
        {
          "output_type": "stream",
          "name": "stdout",
          "text": [
            "+--------------------+--------------------+--------------------+----------+\n",
            "|                   X|                   Y|                   Z|Confidence|\n",
            "+--------------------+--------------------+--------------------+----------+\n",
            "|C3M_Cancel public...|C6M_Stay at home ...|C8EV_Internationa...|       1.0|\n",
            "|C3M_Cancel public...|C6M_Stay at home ...|H8M_Protection of...|       1.0|\n",
            "|C3M_Cancel public...|   E1_Income support|C8EV_Internationa...|       1.0|\n",
            "|C3M_Cancel public...|   E1_Income support|H8M_Protection of...|       1.0|\n",
            "|C3M_Cancel public...|E2_Debt/contract ...|C8EV_Internationa...|       1.0|\n",
            "|C3M_Cancel public...|E2_Debt/contract ...|H1_Public informa...|       1.0|\n",
            "|C3M_Cancel public...|E2_Debt/contract ...|   H2_Testing policy|       1.0|\n",
            "|C3M_Cancel public...|E2_Debt/contract ...|H8M_Protection of...|       1.0|\n",
            "|C3M_Cancel public...|H1_Public informa...|C8EV_Internationa...|       1.0|\n",
            "|C3M_Cancel public...|H1_Public informa...|H8M_Protection of...|       1.0|\n",
            "|C3M_Cancel public...|   H2_Testing policy|C8EV_Internationa...|       1.0|\n",
            "|C3M_Cancel public...|   H2_Testing policy|H1_Public informa...|       1.0|\n",
            "|C3M_Cancel public...|   H2_Testing policy|H8M_Protection of...|       1.0|\n",
            "|C3M_Cancel public...|H7_Vaccination po...|C8EV_Internationa...|       1.0|\n",
            "|C3M_Cancel public...|H7_Vaccination po...|H8M_Protection of...|       1.0|\n",
            "|C3M_Cancel public...|H8M_Protection of...|C8EV_Internationa...|       1.0|\n",
            "|C5M_Close public ...|C3M_Cancel public...|C8EV_Internationa...|       1.0|\n",
            "|C5M_Close public ...|C3M_Cancel public...|H1_Public informa...|       1.0|\n",
            "|C5M_Close public ...|C3M_Cancel public...|   H2_Testing policy|       1.0|\n",
            "|C5M_Close public ...|C3M_Cancel public...|H8M_Protection of...|       1.0|\n",
            "|C5M_Close public ...|C6M_Stay at home ...|  C1M_School closing|       1.0|\n",
            "|C5M_Close public ...|C6M_Stay at home ...|C7M_Restrictions ...|       1.0|\n",
            "|C5M_Close public ...|C6M_Stay at home ...|C8EV_Internationa...|       1.0|\n",
            "|C5M_Close public ...|C6M_Stay at home ...|H8M_Protection of...|       1.0|\n",
            "|C5M_Close public ...|   E1_Income support|C8EV_Internationa...|       1.0|\n",
            "|C5M_Close public ...|   E1_Income support|H8M_Protection of...|       1.0|\n",
            "|C5M_Close public ...|E2_Debt/contract ...|C8EV_Internationa...|       1.0|\n",
            "|C5M_Close public ...|E2_Debt/contract ...|H1_Public informa...|       1.0|\n",
            "|C5M_Close public ...|E2_Debt/contract ...|H8M_Protection of...|       1.0|\n",
            "|C5M_Close public ...|H1_Public informa...|C8EV_Internationa...|       1.0|\n",
            "|C5M_Close public ...|   H2_Testing policy|C8EV_Internationa...|       1.0|\n",
            "|C5M_Close public ...|   H2_Testing policy|H1_Public informa...|       1.0|\n",
            "|C5M_Close public ...|H6M_Facial Coverings|C8EV_Internationa...|       1.0|\n",
            "|C5M_Close public ...|H6M_Facial Coverings|H1_Public informa...|       1.0|\n",
            "|C5M_Close public ...|H6M_Facial Coverings|H8M_Protection of...|       1.0|\n",
            "|C5M_Close public ...|H7_Vaccination po...|C8EV_Internationa...|       1.0|\n",
            "|C5M_Close public ...|H7_Vaccination po...|H8M_Protection of...|       1.0|\n",
            "|C5M_Close public ...|H8M_Protection of...|C8EV_Internationa...|       1.0|\n",
            "|C6M_Stay at home ...|   E1_Income support|C8EV_Internationa...|       1.0|\n",
            "|C6M_Stay at home ...|   E1_Income support|H8M_Protection of...|       1.0|\n",
            "|C6M_Stay at home ...|H8M_Protection of...|C8EV_Internationa...|       1.0|\n",
            "|E2_Debt/contract ...|  C1M_School closing|H1_Public informa...|       1.0|\n",
            "|E2_Debt/contract ...|C4M_Restrictions ...|H1_Public informa...|       1.0|\n",
            "|E2_Debt/contract ...|C6M_Stay at home ...|C8EV_Internationa...|       1.0|\n",
            "|E2_Debt/contract ...|C6M_Stay at home ...|H1_Public informa...|       1.0|\n",
            "|E2_Debt/contract ...|C6M_Stay at home ...|H8M_Protection of...|       1.0|\n",
            "|E2_Debt/contract ...|C7M_Restrictions ...|H1_Public informa...|       1.0|\n",
            "|E2_Debt/contract ...|C8EV_Internationa...|H1_Public informa...|       1.0|\n",
            "|E2_Debt/contract ...|   E1_Income support|C8EV_Internationa...|       1.0|\n",
            "|E2_Debt/contract ...|   E1_Income support|H1_Public informa...|       1.0|\n",
            "+--------------------+--------------------+--------------------+----------+\n",
            "only showing top 50 rows\n",
            "\n"
          ]
        }
      ]
    },
    {
      "cell_type": "code",
      "source": [
        "top5_triplets = sorted_triplets.limit(5)\n",
        "top5_triplets.show()"
      ],
      "metadata": {
        "colab": {
          "base_uri": "https://localhost:8080/"
        },
        "id": "qn34sZJIQ5f0",
        "outputId": "7bdc9019-ed37-4f0b-b7b2-34b74ac5e629"
      },
      "execution_count": 59,
      "outputs": [
        {
          "output_type": "stream",
          "name": "stdout",
          "text": [
            "+--------------------+--------------------+--------------------+----------+\n",
            "|                   X|                   Y|                   Z|Confidence|\n",
            "+--------------------+--------------------+--------------------+----------+\n",
            "|C3M_Cancel public...|C6M_Stay at home ...|C8EV_Internationa...|       1.0|\n",
            "|C3M_Cancel public...|C6M_Stay at home ...|H8M_Protection of...|       1.0|\n",
            "|C3M_Cancel public...|   E1_Income support|C8EV_Internationa...|       1.0|\n",
            "|C3M_Cancel public...|   E1_Income support|H8M_Protection of...|       1.0|\n",
            "|C3M_Cancel public...|E2_Debt/contract ...|C8EV_Internationa...|       1.0|\n",
            "+--------------------+--------------------+--------------------+----------+\n",
            "\n"
          ]
        }
      ]
    },
    {
      "cell_type": "markdown",
      "source": [
        "(X,Z) => Y"
      ],
      "metadata": {
        "id": "ozbjIoZ5zSfp"
      }
    },
    {
      "cell_type": "code",
      "source": [
        "triplets_with_conf = triplets.flatMap(lambda triplet: [(frozenset((tuple(triplet[0])[0],tuple(triplet[0])[2])),(tuple(triplet[0])[1],triplet[1]))])\n",
        "triplets_with_confidence = triplets_with_conf.join(pairs)\n",
        "triplets_with_confidence = triplets_with_confidence.flatMap(lambda triplet: [(tuple(triplet[0])[0],tuple(triplet[0])[1],triplet[1][0][0],triplet[1][0][1]/triplet[1][1])])\n"
      ],
      "metadata": {
        "id": "xEHi1-GvzRmd"
      },
      "execution_count": 60,
      "outputs": []
    },
    {
      "cell_type": "code",
      "source": [
        "triplets_to_show = triplets_with_confidence.collect()\n",
        "columns = [\"X\", \"Z\",\"Y\",\"Confidence\"]\n",
        "sorted_triplets = spark.createDataFrame(triplets_to_show, columns)\n",
        "sorted_triplets = sorted_triplets.orderBy(col(\"Confidence\").desc(), col(\"X\").asc(), col(\"Z\").asc(), col(\"Y\").asc())\n",
        "sorted_triplets.show(50)"
      ],
      "metadata": {
        "colab": {
          "base_uri": "https://localhost:8080/"
        },
        "id": "P3G3-zL10Sml",
        "outputId": "b14bc37f-0010-4c86-ef2a-ce0f7a23f7c2"
      },
      "execution_count": 61,
      "outputs": [
        {
          "output_type": "stream",
          "name": "stdout",
          "text": [
            "+--------------------+--------------------+--------------------+----------+\n",
            "|                   X|                   Z|                   Y|Confidence|\n",
            "+--------------------+--------------------+--------------------+----------+\n",
            "|  C1M_School closing|C7M_Restrictions ...|H1_Public informa...|       1.0|\n",
            "|  C1M_School closing|C7M_Restrictions ...|   H2_Testing policy|       1.0|\n",
            "|  C1M_School closing|C7M_Restrictions ...|H8M_Protection of...|       1.0|\n",
            "|  C1M_School closing|C8EV_Internationa...|H8M_Protection of...|       1.0|\n",
            "|C3M_Cancel public...|  C1M_School closing|C8EV_Internationa...|       1.0|\n",
            "|C3M_Cancel public...|  C1M_School closing|H1_Public informa...|       1.0|\n",
            "|C3M_Cancel public...|  C1M_School closing|   H2_Testing policy|       1.0|\n",
            "|C3M_Cancel public...|  C1M_School closing|H8M_Protection of...|       1.0|\n",
            "|C3M_Cancel public...|C2M_Workplace clo...|C8EV_Internationa...|       1.0|\n",
            "|C3M_Cancel public...|C2M_Workplace clo...|H1_Public informa...|       1.0|\n",
            "|C3M_Cancel public...|C2M_Workplace clo...|   H2_Testing policy|       1.0|\n",
            "|C3M_Cancel public...|C2M_Workplace clo...|H8M_Protection of...|       1.0|\n",
            "|C3M_Cancel public...|C4M_Restrictions ...|  C1M_School closing|       1.0|\n",
            "|C3M_Cancel public...|C4M_Restrictions ...|C8EV_Internationa...|       1.0|\n",
            "|C3M_Cancel public...|C4M_Restrictions ...|H1_Public informa...|       1.0|\n",
            "|C3M_Cancel public...|C4M_Restrictions ...|   H2_Testing policy|       1.0|\n",
            "|C3M_Cancel public...|C4M_Restrictions ...|H8M_Protection of...|       1.0|\n",
            "|C3M_Cancel public...|C6M_Stay at home ...|H1_Public informa...|       1.0|\n",
            "|C3M_Cancel public...|C6M_Stay at home ...|   H2_Testing policy|       1.0|\n",
            "|C3M_Cancel public...|C7M_Restrictions ...|C8EV_Internationa...|       1.0|\n",
            "|C3M_Cancel public...|C7M_Restrictions ...|H1_Public informa...|       1.0|\n",
            "|C3M_Cancel public...|C7M_Restrictions ...|   H2_Testing policy|       1.0|\n",
            "|C3M_Cancel public...|C7M_Restrictions ...|H8M_Protection of...|       1.0|\n",
            "|C3M_Cancel public...|C8EV_Internationa...|H1_Public informa...|       1.0|\n",
            "|C3M_Cancel public...|C8EV_Internationa...|   H2_Testing policy|       1.0|\n",
            "|C3M_Cancel public...|C8EV_Internationa...|H8M_Protection of...|       1.0|\n",
            "|C3M_Cancel public...|   E1_Income support|H1_Public informa...|       1.0|\n",
            "|C3M_Cancel public...|   E1_Income support|   H2_Testing policy|       1.0|\n",
            "|C3M_Cancel public...|H1_Public informa...|   H2_Testing policy|       1.0|\n",
            "|C3M_Cancel public...|H7_Vaccination po...|H1_Public informa...|       1.0|\n",
            "|C3M_Cancel public...|H7_Vaccination po...|   H2_Testing policy|       1.0|\n",
            "|C3M_Cancel public...|H8M_Protection of...|H1_Public informa...|       1.0|\n",
            "|C3M_Cancel public...|H8M_Protection of...|   H2_Testing policy|       1.0|\n",
            "|C4M_Restrictions ...|  C1M_School closing|H8M_Protection of...|       1.0|\n",
            "|C4M_Restrictions ...|C7M_Restrictions ...|  C1M_School closing|       1.0|\n",
            "|C4M_Restrictions ...|C7M_Restrictions ...|C3M_Cancel public...|       1.0|\n",
            "|C4M_Restrictions ...|C7M_Restrictions ...|C8EV_Internationa...|       1.0|\n",
            "|C4M_Restrictions ...|C7M_Restrictions ...|H1_Public informa...|       1.0|\n",
            "|C4M_Restrictions ...|C7M_Restrictions ...|   H2_Testing policy|       1.0|\n",
            "|C4M_Restrictions ...|C7M_Restrictions ...|H8M_Protection of...|       1.0|\n",
            "|C4M_Restrictions ...|C8EV_Internationa...|  C1M_School closing|       1.0|\n",
            "|C4M_Restrictions ...|C8EV_Internationa...|H8M_Protection of...|       1.0|\n",
            "|C5M_Close public ...|  C1M_School closing|C8EV_Internationa...|       1.0|\n",
            "|C5M_Close public ...|  C1M_School closing|H1_Public informa...|       1.0|\n",
            "|C5M_Close public ...|  C1M_School closing|   H2_Testing policy|       1.0|\n",
            "|C5M_Close public ...|  C1M_School closing|H8M_Protection of...|       1.0|\n",
            "|C5M_Close public ...|C2M_Workplace clo...|C8EV_Internationa...|       1.0|\n",
            "|C5M_Close public ...|C2M_Workplace clo...|H1_Public informa...|       1.0|\n",
            "|C5M_Close public ...|C2M_Workplace clo...|   H2_Testing policy|       1.0|\n",
            "|C5M_Close public ...|C2M_Workplace clo...|  H3_Contact tracing|       1.0|\n",
            "+--------------------+--------------------+--------------------+----------+\n",
            "only showing top 50 rows\n",
            "\n"
          ]
        }
      ]
    },
    {
      "cell_type": "markdown",
      "source": [
        "Formatting Dataframe to output"
      ],
      "metadata": {
        "id": "WajE6YglWNSP"
      }
    },
    {
      "cell_type": "code",
      "source": [
        "break_point_row = spark.createDataFrame([Row(X='X', Y='Z',Z='Y',Confidence=\"Confidence\")])\n",
        "top5_triplets = top5_triplets.union(break_point_row)\n",
        "top5_triplets.show()"
      ],
      "metadata": {
        "colab": {
          "base_uri": "https://localhost:8080/"
        },
        "collapsed": true,
        "id": "TphhWNgCRaaC",
        "outputId": "866f9c64-4201-4ae9-a2fb-e3ada5d279bc"
      },
      "execution_count": 62,
      "outputs": [
        {
          "output_type": "stream",
          "name": "stdout",
          "text": [
            "+--------------------+--------------------+--------------------+----------+\n",
            "|                   X|                   Y|                   Z|Confidence|\n",
            "+--------------------+--------------------+--------------------+----------+\n",
            "|C3M_Cancel public...|C6M_Stay at home ...|C8EV_Internationa...|       1.0|\n",
            "|C3M_Cancel public...|C6M_Stay at home ...|H8M_Protection of...|       1.0|\n",
            "|C3M_Cancel public...|   E1_Income support|C8EV_Internationa...|       1.0|\n",
            "|C3M_Cancel public...|   E1_Income support|H8M_Protection of...|       1.0|\n",
            "|C3M_Cancel public...|E2_Debt/contract ...|C8EV_Internationa...|       1.0|\n",
            "|                   X|                   Z|                   Y|Confidence|\n",
            "+--------------------+--------------------+--------------------+----------+\n",
            "\n"
          ]
        }
      ]
    },
    {
      "cell_type": "code",
      "source": [
        "top5_XZY = sorted_triplets.limit(5)\n",
        "top5_XZY.show()"
      ],
      "metadata": {
        "colab": {
          "base_uri": "https://localhost:8080/"
        },
        "collapsed": true,
        "id": "OxdeTVDxR4Vc",
        "outputId": "058ed1c4-dc14-47c4-f5aa-90d6b0f34a21"
      },
      "execution_count": 63,
      "outputs": [
        {
          "output_type": "stream",
          "name": "stdout",
          "text": [
            "+--------------------+--------------------+--------------------+----------+\n",
            "|                   X|                   Z|                   Y|Confidence|\n",
            "+--------------------+--------------------+--------------------+----------+\n",
            "|  C1M_School closing|C7M_Restrictions ...|H1_Public informa...|       1.0|\n",
            "|  C1M_School closing|C7M_Restrictions ...|   H2_Testing policy|       1.0|\n",
            "|  C1M_School closing|C7M_Restrictions ...|H8M_Protection of...|       1.0|\n",
            "|  C1M_School closing|C8EV_Internationa...|H8M_Protection of...|       1.0|\n",
            "|C3M_Cancel public...|  C1M_School closing|C8EV_Internationa...|       1.0|\n",
            "+--------------------+--------------------+--------------------+----------+\n",
            "\n"
          ]
        }
      ]
    },
    {
      "cell_type": "code",
      "source": [
        "top5_XZY_renamed = top5_XZY.select(\n",
        "    top5_XZY.X,\n",
        "    top5_XZY.Z.alias(\"Y\"),\n",
        "    top5_XZY.Y.alias(\"Z\"),\n",
        "    top5_XZY.Confidence\n",
        ")\n",
        "top5_XZY_renamed.show()"
      ],
      "metadata": {
        "colab": {
          "base_uri": "https://localhost:8080/"
        },
        "collapsed": true,
        "id": "uFJjhmDUSbpm",
        "outputId": "aa4ce798-d341-4d74-e339-2b19221eaa05"
      },
      "execution_count": 64,
      "outputs": [
        {
          "output_type": "stream",
          "name": "stdout",
          "text": [
            "+--------------------+--------------------+--------------------+----------+\n",
            "|                   X|                   Y|                   Z|Confidence|\n",
            "+--------------------+--------------------+--------------------+----------+\n",
            "|  C1M_School closing|C7M_Restrictions ...|H1_Public informa...|       1.0|\n",
            "|  C1M_School closing|C7M_Restrictions ...|   H2_Testing policy|       1.0|\n",
            "|  C1M_School closing|C7M_Restrictions ...|H8M_Protection of...|       1.0|\n",
            "|  C1M_School closing|C8EV_Internationa...|H8M_Protection of...|       1.0|\n",
            "|C3M_Cancel public...|  C1M_School closing|C8EV_Internationa...|       1.0|\n",
            "+--------------------+--------------------+--------------------+----------+\n",
            "\n"
          ]
        }
      ]
    },
    {
      "cell_type": "code",
      "source": [
        "top5_triplets = top5_triplets.union(top5_XZY_renamed)\n",
        "top5_triplets.show()"
      ],
      "metadata": {
        "colab": {
          "base_uri": "https://localhost:8080/"
        },
        "id": "VIkOzITQS6Qx",
        "outputId": "0e6175de-8377-4962-ae81-37dcc61f03b2"
      },
      "execution_count": 65,
      "outputs": [
        {
          "output_type": "stream",
          "name": "stdout",
          "text": [
            "+--------------------+--------------------+--------------------+----------+\n",
            "|                   X|                   Y|                   Z|Confidence|\n",
            "+--------------------+--------------------+--------------------+----------+\n",
            "|C3M_Cancel public...|C6M_Stay at home ...|C8EV_Internationa...|       1.0|\n",
            "|C3M_Cancel public...|C6M_Stay at home ...|H8M_Protection of...|       1.0|\n",
            "|C3M_Cancel public...|   E1_Income support|C8EV_Internationa...|       1.0|\n",
            "|C3M_Cancel public...|   E1_Income support|H8M_Protection of...|       1.0|\n",
            "|C3M_Cancel public...|E2_Debt/contract ...|C8EV_Internationa...|       1.0|\n",
            "|                   X|                   Z|                   Y|Confidence|\n",
            "|  C1M_School closing|C7M_Restrictions ...|H1_Public informa...|       1.0|\n",
            "|  C1M_School closing|C7M_Restrictions ...|   H2_Testing policy|       1.0|\n",
            "|  C1M_School closing|C7M_Restrictions ...|H8M_Protection of...|       1.0|\n",
            "|  C1M_School closing|C8EV_Internationa...|H8M_Protection of...|       1.0|\n",
            "|C3M_Cancel public...|  C1M_School closing|C8EV_Internationa...|       1.0|\n",
            "+--------------------+--------------------+--------------------+----------+\n",
            "\n"
          ]
        }
      ]
    },
    {
      "cell_type": "markdown",
      "source": [
        "(Y,Z) => X"
      ],
      "metadata": {
        "id": "ws6Q6XV30o7t"
      }
    },
    {
      "cell_type": "code",
      "source": [
        "\n",
        "triplets_with_conf = triplets.flatMap(lambda triplet: [(frozenset((tuple(triplet[0])[1],tuple(triplet[0])[2])),(tuple(triplet[0])[0],triplet[1]))])\n",
        "triplets_with_confidence = triplets_with_conf.join(pairs)\n",
        "triplets_with_confidence = triplets_with_confidence.flatMap(lambda triplet: [(tuple(triplet[0])[0],tuple(triplet[0])[1],triplet[1][0][0],triplet[1][0][1]/triplet[1][1])])\n"
      ],
      "metadata": {
        "id": "JD1T0IUU0qtr"
      },
      "execution_count": 66,
      "outputs": []
    },
    {
      "cell_type": "code",
      "source": [
        "triplets_to_show = triplets_with_confidence.collect()\n",
        "columns = [\"Y\", \"Z\",\"X\",\"Confidence\"]\n",
        "sorted_triplets = spark.createDataFrame(triplets_to_show, columns)\n",
        "sorted_triplets = sorted_triplets.orderBy(col(\"Confidence\").desc(), col(\"Y\").asc(), col(\"Z\").asc(), col(\"X\").asc())\n",
        "sorted_triplets.show(50)"
      ],
      "metadata": {
        "colab": {
          "base_uri": "https://localhost:8080/"
        },
        "id": "6xOv2OgB1SFz",
        "outputId": "faf1e82e-f956-44cc-94ee-e91c87d99ecf"
      },
      "execution_count": 67,
      "outputs": [
        {
          "output_type": "stream",
          "name": "stdout",
          "text": [
            "+--------------------+--------------------+--------------------+----------+\n",
            "|                   Y|                   Z|                   X|Confidence|\n",
            "+--------------------+--------------------+--------------------+----------+\n",
            "|  C1M_School closing|C2M_Workplace clo...|C8EV_Internationa...|       1.0|\n",
            "|  C1M_School closing|C2M_Workplace clo...|H1_Public informa...|       1.0|\n",
            "|  C1M_School closing|C2M_Workplace clo...|   H2_Testing policy|       1.0|\n",
            "|  C1M_School closing|C2M_Workplace clo...|  H3_Contact tracing|       1.0|\n",
            "|  C1M_School closing|C2M_Workplace clo...|H8M_Protection of...|       1.0|\n",
            "|  C1M_School closing|C8EV_Internationa...|H1_Public informa...|       1.0|\n",
            "|  C1M_School closing|C8EV_Internationa...|   H2_Testing policy|       1.0|\n",
            "|  C1M_School closing|C8EV_Internationa...|  H3_Contact tracing|       1.0|\n",
            "|C3M_Cancel public...|  C1M_School closing|  H3_Contact tracing|       1.0|\n",
            "|C3M_Cancel public...|C2M_Workplace clo...|  H3_Contact tracing|       1.0|\n",
            "|C3M_Cancel public...|C4M_Restrictions ...|  H3_Contact tracing|       1.0|\n",
            "|C3M_Cancel public...|C6M_Stay at home ...|  H3_Contact tracing|       1.0|\n",
            "|C3M_Cancel public...|C7M_Restrictions ...|  H3_Contact tracing|       1.0|\n",
            "|C3M_Cancel public...|C8EV_Internationa...|  H3_Contact tracing|       1.0|\n",
            "|C3M_Cancel public...|   E1_Income support|  H3_Contact tracing|       1.0|\n",
            "|C3M_Cancel public...|E2_Debt/contract ...|  H3_Contact tracing|       1.0|\n",
            "|C3M_Cancel public...|H1_Public informa...|  H3_Contact tracing|       1.0|\n",
            "|C3M_Cancel public...|   H2_Testing policy|  H3_Contact tracing|       1.0|\n",
            "|C3M_Cancel public...|H7_Vaccination po...|  H3_Contact tracing|       1.0|\n",
            "|C3M_Cancel public...|H8M_Protection of...|  H3_Contact tracing|       1.0|\n",
            "|C4M_Restrictions ...|  C1M_School closing|C3M_Cancel public...|       1.0|\n",
            "|C4M_Restrictions ...|  C1M_School closing|C8EV_Internationa...|       1.0|\n",
            "|C4M_Restrictions ...|  C1M_School closing|H1_Public informa...|       1.0|\n",
            "|C4M_Restrictions ...|  C1M_School closing|   H2_Testing policy|       1.0|\n",
            "|C4M_Restrictions ...|  C1M_School closing|  H3_Contact tracing|       1.0|\n",
            "|C4M_Restrictions ...|C2M_Workplace clo...|  C1M_School closing|       1.0|\n",
            "|C4M_Restrictions ...|C2M_Workplace clo...|C3M_Cancel public...|       1.0|\n",
            "|C4M_Restrictions ...|C2M_Workplace clo...|C8EV_Internationa...|       1.0|\n",
            "|C4M_Restrictions ...|C2M_Workplace clo...|H1_Public informa...|       1.0|\n",
            "|C4M_Restrictions ...|C2M_Workplace clo...|   H2_Testing policy|       1.0|\n",
            "|C4M_Restrictions ...|C2M_Workplace clo...|  H3_Contact tracing|       1.0|\n",
            "|C4M_Restrictions ...|C2M_Workplace clo...|H8M_Protection of...|       1.0|\n",
            "|C4M_Restrictions ...|C7M_Restrictions ...|  H3_Contact tracing|       1.0|\n",
            "|C4M_Restrictions ...|C8EV_Internationa...|C3M_Cancel public...|       1.0|\n",
            "|C4M_Restrictions ...|C8EV_Internationa...|H1_Public informa...|       1.0|\n",
            "|C4M_Restrictions ...|C8EV_Internationa...|   H2_Testing policy|       1.0|\n",
            "|C4M_Restrictions ...|C8EV_Internationa...|  H3_Contact tracing|       1.0|\n",
            "|C5M_Close public ...|  C1M_School closing|  H3_Contact tracing|       1.0|\n",
            "|C5M_Close public ...|C3M_Cancel public...|  H3_Contact tracing|       1.0|\n",
            "|C5M_Close public ...|C4M_Restrictions ...|  H3_Contact tracing|       1.0|\n",
            "|C5M_Close public ...|C6M_Stay at home ...|  H3_Contact tracing|       1.0|\n",
            "|C5M_Close public ...|C7M_Restrictions ...|  H3_Contact tracing|       1.0|\n",
            "|C5M_Close public ...|C8EV_Internationa...|  H3_Contact tracing|       1.0|\n",
            "|C5M_Close public ...|   E1_Income support|  H3_Contact tracing|       1.0|\n",
            "|C5M_Close public ...|E2_Debt/contract ...|  H3_Contact tracing|       1.0|\n",
            "|C5M_Close public ...|H1_Public informa...|  H3_Contact tracing|       1.0|\n",
            "|C5M_Close public ...|   H2_Testing policy|  H3_Contact tracing|       1.0|\n",
            "|C5M_Close public ...|H7_Vaccination po...|  H3_Contact tracing|       1.0|\n",
            "|C5M_Close public ...|H8M_Protection of...|  H3_Contact tracing|       1.0|\n",
            "|C6M_Stay at home ...|  C1M_School closing|C8EV_Internationa...|       1.0|\n",
            "+--------------------+--------------------+--------------------+----------+\n",
            "only showing top 50 rows\n",
            "\n"
          ]
        }
      ]
    },
    {
      "cell_type": "markdown",
      "source": [
        "Formatting Dataframe to output"
      ],
      "metadata": {
        "id": "44oluexvWRaY"
      }
    },
    {
      "cell_type": "code",
      "source": [
        "break_point_row = spark.createDataFrame([Row(X='Y', Y='Z',Z='X',Confidence=\"Confidence\")])\n",
        "top5_triplets = top5_triplets.union(break_point_row)\n",
        "top5_triplets.show()"
      ],
      "metadata": {
        "colab": {
          "base_uri": "https://localhost:8080/"
        },
        "collapsed": true,
        "id": "Ifq2iPXdTY47",
        "outputId": "581bda0b-f88b-4516-b3fc-104e04e91d68"
      },
      "execution_count": 68,
      "outputs": [
        {
          "output_type": "stream",
          "name": "stdout",
          "text": [
            "+--------------------+--------------------+--------------------+----------+\n",
            "|                   X|                   Y|                   Z|Confidence|\n",
            "+--------------------+--------------------+--------------------+----------+\n",
            "|C3M_Cancel public...|C6M_Stay at home ...|C8EV_Internationa...|       1.0|\n",
            "|C3M_Cancel public...|C6M_Stay at home ...|H8M_Protection of...|       1.0|\n",
            "|C3M_Cancel public...|   E1_Income support|C8EV_Internationa...|       1.0|\n",
            "|C3M_Cancel public...|   E1_Income support|H8M_Protection of...|       1.0|\n",
            "|C3M_Cancel public...|E2_Debt/contract ...|C8EV_Internationa...|       1.0|\n",
            "|                   X|                   Z|                   Y|Confidence|\n",
            "|  C1M_School closing|C7M_Restrictions ...|H1_Public informa...|       1.0|\n",
            "|  C1M_School closing|C7M_Restrictions ...|   H2_Testing policy|       1.0|\n",
            "|  C1M_School closing|C7M_Restrictions ...|H8M_Protection of...|       1.0|\n",
            "|  C1M_School closing|C8EV_Internationa...|H8M_Protection of...|       1.0|\n",
            "|C3M_Cancel public...|  C1M_School closing|C8EV_Internationa...|       1.0|\n",
            "|                   Y|                   Z|                   X|Confidence|\n",
            "+--------------------+--------------------+--------------------+----------+\n",
            "\n"
          ]
        }
      ]
    },
    {
      "cell_type": "code",
      "source": [
        "top5_YZX = sorted_triplets.limit(5)\n",
        "top5_YZX.show()"
      ],
      "metadata": {
        "colab": {
          "base_uri": "https://localhost:8080/"
        },
        "collapsed": true,
        "id": "0fFtTrcDTqbp",
        "outputId": "9039f2de-4e5a-49c6-806b-7c7998e45400"
      },
      "execution_count": 69,
      "outputs": [
        {
          "output_type": "stream",
          "name": "stdout",
          "text": [
            "+------------------+--------------------+--------------------+----------+\n",
            "|                 Y|                   Z|                   X|Confidence|\n",
            "+------------------+--------------------+--------------------+----------+\n",
            "|C1M_School closing|C2M_Workplace clo...|C8EV_Internationa...|       1.0|\n",
            "|C1M_School closing|C2M_Workplace clo...|H1_Public informa...|       1.0|\n",
            "|C1M_School closing|C2M_Workplace clo...|   H2_Testing policy|       1.0|\n",
            "|C1M_School closing|C2M_Workplace clo...|  H3_Contact tracing|       1.0|\n",
            "|C1M_School closing|C2M_Workplace clo...|H8M_Protection of...|       1.0|\n",
            "+------------------+--------------------+--------------------+----------+\n",
            "\n"
          ]
        }
      ]
    },
    {
      "cell_type": "code",
      "source": [
        "top5_YZX_renamed = top5_YZX.select(\n",
        "    top5_YZX.Y.alias(\"X\"),\n",
        "    top5_YZX.Z.alias(\"Y\"),\n",
        "    top5_YZX.X.alias(\"Z\"),\n",
        "    top5_YZX.Confidence\n",
        ")\n",
        "top5_YZX_renamed.show()"
      ],
      "metadata": {
        "colab": {
          "base_uri": "https://localhost:8080/"
        },
        "collapsed": true,
        "id": "XWbvkRd3T9Nf",
        "outputId": "44e96982-c87e-4f3a-8c56-3ba9d709cb8c"
      },
      "execution_count": 70,
      "outputs": [
        {
          "output_type": "stream",
          "name": "stdout",
          "text": [
            "+------------------+--------------------+--------------------+----------+\n",
            "|                 X|                   Y|                   Z|Confidence|\n",
            "+------------------+--------------------+--------------------+----------+\n",
            "|C1M_School closing|C2M_Workplace clo...|C8EV_Internationa...|       1.0|\n",
            "|C1M_School closing|C2M_Workplace clo...|H1_Public informa...|       1.0|\n",
            "|C1M_School closing|C2M_Workplace clo...|   H2_Testing policy|       1.0|\n",
            "|C1M_School closing|C2M_Workplace clo...|  H3_Contact tracing|       1.0|\n",
            "|C1M_School closing|C2M_Workplace clo...|H8M_Protection of...|       1.0|\n",
            "+------------------+--------------------+--------------------+----------+\n",
            "\n"
          ]
        }
      ]
    },
    {
      "cell_type": "code",
      "source": [
        "top5_triplets = top5_triplets.union(top5_YZX_renamed)\n",
        "top5_triplets.show()"
      ],
      "metadata": {
        "colab": {
          "base_uri": "https://localhost:8080/"
        },
        "id": "g-LY9P45UWZ2",
        "outputId": "f78bf7c2-db94-4a25-e0ae-73206d68fb35"
      },
      "execution_count": 71,
      "outputs": [
        {
          "output_type": "stream",
          "name": "stdout",
          "text": [
            "+--------------------+--------------------+--------------------+----------+\n",
            "|                   X|                   Y|                   Z|Confidence|\n",
            "+--------------------+--------------------+--------------------+----------+\n",
            "|C3M_Cancel public...|C6M_Stay at home ...|C8EV_Internationa...|       1.0|\n",
            "|C3M_Cancel public...|C6M_Stay at home ...|H8M_Protection of...|       1.0|\n",
            "|C3M_Cancel public...|   E1_Income support|C8EV_Internationa...|       1.0|\n",
            "|C3M_Cancel public...|   E1_Income support|H8M_Protection of...|       1.0|\n",
            "|C3M_Cancel public...|E2_Debt/contract ...|C8EV_Internationa...|       1.0|\n",
            "|                   X|                   Z|                   Y|Confidence|\n",
            "|  C1M_School closing|C7M_Restrictions ...|H1_Public informa...|       1.0|\n",
            "|  C1M_School closing|C7M_Restrictions ...|   H2_Testing policy|       1.0|\n",
            "|  C1M_School closing|C7M_Restrictions ...|H8M_Protection of...|       1.0|\n",
            "|  C1M_School closing|C8EV_Internationa...|H8M_Protection of...|       1.0|\n",
            "|C3M_Cancel public...|  C1M_School closing|C8EV_Internationa...|       1.0|\n",
            "|                   Y|                   Z|                   X|Confidence|\n",
            "|  C1M_School closing|C2M_Workplace clo...|C8EV_Internationa...|       1.0|\n",
            "|  C1M_School closing|C2M_Workplace clo...|H1_Public informa...|       1.0|\n",
            "|  C1M_School closing|C2M_Workplace clo...|   H2_Testing policy|       1.0|\n",
            "|  C1M_School closing|C2M_Workplace clo...|  H3_Contact tracing|       1.0|\n",
            "|  C1M_School closing|C2M_Workplace clo...|H8M_Protection of...|       1.0|\n",
            "+--------------------+--------------------+--------------------+----------+\n",
            "\n"
          ]
        }
      ]
    },
    {
      "cell_type": "code",
      "source": [
        "df_pandas_triplets = top5_triplets.toPandas()\n",
        "df_pandas_triplets.to_csv(\"/content/Q3_c.txt\", sep='\\t', index=False)"
      ],
      "metadata": {
        "id": "IK7PNs5mUmIf"
      },
      "execution_count": 72,
      "outputs": []
    }
  ]
}