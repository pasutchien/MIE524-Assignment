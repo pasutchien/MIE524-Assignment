{
  "cells": [
    {
      "cell_type": "markdown",
      "metadata": {
        "id": "wKfBYIVSfVfk"
      },
      "source": [
        "# MIE524 - Assignment 2\n",
        "Please complete this notebook for Assignment 2."
      ]
    },
    {
      "cell_type": "markdown",
      "metadata": {
        "id": "H55bkAd0TZS0"
      },
      "source": [
        "### Setup"
      ]
    },
    {
      "cell_type": "code",
      "execution_count": 12,
      "metadata": {
        "id": "757XypQwTct-",
        "colab": {
          "base_uri": "https://localhost:8080/"
        },
        "outputId": "5aca228b-6873-4045-87fe-2a64c87034e7"
      },
      "outputs": [
        {
          "output_type": "stream",
          "name": "stdout",
          "text": [
            "Requirement already satisfied: pyspark in /usr/local/lib/python3.10/dist-packages (3.5.3)\n",
            "Requirement already satisfied: py4j==0.10.9.7 in /usr/local/lib/python3.10/dist-packages (from pyspark) (0.10.9.7)\n"
          ]
        }
      ],
      "source": [
        "## imports\n",
        "!pip install pyspark\n",
        "\n",
        "import pandas as pd\n",
        "import numpy as np\n",
        "\n",
        "#importing some Extra libraries\n",
        "from sklearn import tree\n",
        "from tqdm import tqdm\n",
        "from sklearn.model_selection import train_test_split\n",
        "import math\n",
        "from sklearn.ensemble import GradientBoostingRegressor\n",
        "from pyspark.ml.regression import GBTRegressor\n",
        "from pyspark.ml.feature import VectorAssembler\n",
        "from pyspark.ml import Pipeline\n",
        "from pyspark.sql import SparkSession\n",
        "\n",
        "import gc\n",
        "import time\n"
      ]
    },
    {
      "cell_type": "markdown",
      "metadata": {
        "id": "CK4GxCVh3Ma6"
      },
      "source": [
        "## Q1 - Gradient Boosted Trees\n",
        "Complete below code. Please do not change class and function names. You may create additional functions or define additional parameters."
      ]
    },
    {
      "cell_type": "markdown",
      "metadata": {
        "id": "xqt5VPve15ky"
      },
      "source": [
        "### Data"
      ]
    },
    {
      "cell_type": "code",
      "execution_count": 13,
      "metadata": {
        "id": "laKTjnUH2HBj"
      },
      "outputs": [],
      "source": [
        "recipe_data_path = \"/content/recipes.csv\"# POINT TO YOUR FILE\n",
        "recipe_data = pd.read_csv(recipe_data_path)"
      ]
    },
    {
      "cell_type": "markdown",
      "metadata": {
        "id": "47tF7xkRJfvt"
      },
      "source": [
        "### Model"
      ]
    },
    {
      "cell_type": "code",
      "execution_count": 14,
      "metadata": {
        "id": "SyzQHhuyJntj"
      },
      "outputs": [],
      "source": [
        "# Please use the below square loss for your gradient boosted tree implementation\n",
        "\n",
        "class SquareLoss():\n",
        "    def __init__(self): pass\n",
        "\n",
        "    def loss(self, y, y_pred):\n",
        "        return 0.5 * np.power((y - y_pred), 2)\n",
        "\n",
        "    def gradient(self, y, y_pred):\n",
        "        return -(y - y_pred)"
      ]
    },
    {
      "cell_type": "code",
      "execution_count": 15,
      "metadata": {
        "id": "7ARQcj4Q3GnG"
      },
      "outputs": [],
      "source": [
        "''' Implement your own gradient boosted trees regressor from scratch.\n",
        "    You may use scikit-learn's implementation of decision trees '''\n",
        "\n",
        "class my_GradientBoosting(object):\n",
        "    \"\"\"Super class of GradientBoostingClassifier and GradientBoostinRegressor.\n",
        "    Uses a collection of regression trees that trains on predicting the gradient\n",
        "    of the loss function.\n",
        "\n",
        "    Parameters:\n",
        "    -----------\n",
        "    n_estimators: int\n",
        "        The number of classification trees that are used.\n",
        "    learning_rate: float\n",
        "        The step length that will be taken when following the negative gradient during\n",
        "        training.\n",
        "    min_samples_split: int\n",
        "        The minimum number of samples needed to make a split when building a tree.\n",
        "    min_impurity: float\n",
        "        The minimum impurity required to split the tree further.\n",
        "    max_depth: int\n",
        "        The maximum depth of a tree.\n",
        "    regression: boolean\n",
        "        True or false depending on if we're doing regression or classification.\n",
        "    \"\"\"\n",
        "    def __init__(self, n_estimators, learning_rate, min_samples_split,\n",
        "                 min_impurity, max_depth, regression):\n",
        "\n",
        "        # YOUR CODE HERE\n",
        "        #Declaring Hyperparameters\n",
        "        self.n_estimators = n_estimators\n",
        "        self.learning_rate = learning_rate\n",
        "        self.min_samples_split = min_samples_split\n",
        "        self.min_impurity = min_impurity\n",
        "        self.max_depth = max_depth\n",
        "        self.regression = regression #True / False\n",
        "        self.trees = []\n",
        "\n",
        "        #Adding multiple trees\n",
        "        for i in range(self.n_estimators):\n",
        "          if self.regression == False:\n",
        "            #Classification Task\n",
        "            raise ValueError(\"Classification Task is yet to be implemented\")\n",
        "          else:\n",
        "            #Regression Task\n",
        "            t = tree.DecisionTreeRegressor(min_samples_split=self.min_samples_split,\n",
        "                                           min_impurity_decrease=self.min_impurity,\n",
        "                                           max_depth=self.max_depth,\n",
        "                                           )\n",
        "            self.trees.append(t)\n",
        "            self.loss = SquareLoss()\n",
        "\n",
        "\n",
        "\n",
        "    def fit(self, X, y):\n",
        "\n",
        "        # YOUR CODE HERE\n",
        "        #Initial Prediction\n",
        "        self.first = np.mean(y, axis = 0)\n",
        "        y_pred = np.full(np.shape(y), self.first)\n",
        "\n",
        "        for i in range(self.n_estimators):\n",
        "          #Computing Gradient from Last prediction\n",
        "          gradient = self.loss.gradient(y,y_pred)\n",
        "          #Fit the current tree with the negative gradient (Fixing error from last prediction)\n",
        "          self.trees[i].fit(X,-gradient)\n",
        "\n",
        "          #Compute the new prediction\n",
        "          new_pred = self.trees[i].predict(X)\n",
        "          y_pred = y_pred + (self.learning_rate*new_pred)\n",
        "\n",
        "    def predict(self, X):\n",
        "\n",
        "        # YOUR CODE HERE\n",
        "        #Regression\n",
        "        #Initial prediction\n",
        "        y_pred = np.full(X.shape[0], self.first)\n",
        "\n",
        "        for i in range(self.n_estimators):\n",
        "          y_pred = y_pred + (self.learning_rate*self.trees[i].predict(X))\n",
        "\n",
        "        #Classification - yet to be defined\n",
        "\n",
        "        return y_pred #Final Prediction\n",
        "\n"
      ]
    },
    {
      "cell_type": "code",
      "execution_count": 16,
      "metadata": {
        "id": "3dx2tJT_4uJt"
      },
      "outputs": [],
      "source": [
        "class my_GradientBoostingRegressor(my_GradientBoosting):\n",
        "    def __init__(self, n_estimators=200, learning_rate=0.5, min_samples_split=2,\n",
        "                 min_var_red=1e-7, max_depth=4, debug=False):\n",
        "\n",
        "        # YOUR CODE HERE\n",
        "        super(my_GradientBoostingRegressor,self).__init__(\n",
        "            n_estimators = n_estimators,\n",
        "            learning_rate = learning_rate,\n",
        "            min_samples_split = min_samples_split,\n",
        "            min_impurity = min_var_red,\n",
        "            max_depth = max_depth,\n",
        "            regression = True\n",
        "        )"
      ]
    },
    {
      "cell_type": "code",
      "execution_count": 17,
      "metadata": {
        "id": "0r288CtW-uZP"
      },
      "outputs": [],
      "source": [
        "class my_RandomForestRegressor(object):\n",
        "    \"\"\"Random Forest regressor. Uses a collection of regression trees that\n",
        "    trains on random subsets of the data using a random subsets of the features.\n",
        "\n",
        "    Parameters:\n",
        "    -----------\n",
        "    n_estimators: int\n",
        "        The number of classification trees that are used.\n",
        "    max_features: int\n",
        "        The maximum number of features that the classification trees are allowed to\n",
        "        use.\n",
        "    min_samples_split: int\n",
        "        The minimum number of samples needed to make a split when building a tree.\n",
        "    min_impurity_decrease: float\n",
        "        A node will be split if this split induces a decrease of the impurity\n",
        "        greater than or equal to this value.\n",
        "    max_depth: int\n",
        "        The maximum depth of a tree.\n",
        "    n_samples: int\n",
        "        The number of samples in each tree is max_samples * X.shape[0].\n",
        "    \"\"\"\n",
        "\n",
        "    def __init__(self, n_estimators=200, max_features=None, min_samples_split=2,\n",
        "                    min_impurity_decrease=0, max_depth=None, n_samples = 1):\n",
        "\n",
        "        # YOUR CODE HERE\n",
        "      #Declaring Hyperparameters\n",
        "      self.n_estimators = n_estimators\n",
        "      self.max_features = max_features\n",
        "      self.min_samples_split = min_samples_split\n",
        "      self.min_impurity_decrease = min_impurity_decrease\n",
        "      self.max_depth = max_depth\n",
        "      self.n_samples = n_samples\n",
        "      self.trees = []\n",
        "\n",
        "      #Adding trees to the forest\n",
        "      for i in range(n_estimators):\n",
        "          t = tree.DecisionTreeRegressor(min_samples_split=self.min_samples_split,\n",
        "                                            min_impurity_decrease=self.min_impurity_decrease,\n",
        "                                            max_depth=self.max_depth)\n",
        "          self.trees.append(t)\n",
        "\n",
        "    def fit(self,X,Y):\n",
        "      train_sets = []\n",
        "      #Bagging\n",
        "      for i in range(self.n_estimators):\n",
        "          temp = pd.concat([X,Y], axis=1).sample(frac=self.n_samples,replace=True,random_state=0)\n",
        "          train_sets.append([temp.drop('rating', axis=1), temp[['rating']]])\n",
        "\n",
        "      all_features = list(X.columns) #Get the list of columns\n",
        "\n",
        "      #Feature bagging\n",
        "      if self.max_features == None:\n",
        "          self.max_features = int(math.sqrt(len(all_features)))\n",
        "\n",
        "      for i in range(self.n_estimators):\n",
        "          selected_features = np.random.choice(all_features, size=self.max_features, replace=True)\n",
        "          x = train_sets[i][0][selected_features]\n",
        "          y = train_sets[i][1]\n",
        "          self.trees[i].features = selected_features #Save the randomed features used\n",
        "          self.trees[i].fit(x,y)\n",
        "\n",
        "    def predict(self, X):\n",
        "      predictions = [] #Store prediction from all the trees\n",
        "      for i in range(self.n_estimators):\n",
        "          tree_features = self.trees[i].features\n",
        "          predictions.append(self.trees[i].predict(X[tree_features]))\n",
        "      final_prediction = np.mean(predictions, axis=0) #Compute the mean across all trees\n",
        "      return final_prediction\n"
      ]
    },
    {
      "cell_type": "markdown",
      "metadata": {
        "id": "kgFskYHwKH_o"
      },
      "source": [
        "### Model fitting and evaluation\n",
        "Please use the below cells to train and evaluate your model on the test data."
      ]
    },
    {
      "cell_type": "markdown",
      "source": [
        "a)"
      ],
      "metadata": {
        "id": "OL1hwfzDUFl_"
      }
    },
    {
      "cell_type": "code",
      "source": [
        "recipe_data = recipe_data.drop(\"title\",axis = 1) #Dropping string column\n",
        "recipe_data = recipe_data.dropna()"
      ],
      "metadata": {
        "id": "VsR5iIKxpqzA"
      },
      "execution_count": 18,
      "outputs": []
    },
    {
      "cell_type": "code",
      "execution_count": 19,
      "metadata": {
        "id": "Zf52_9t84vHm"
      },
      "outputs": [],
      "source": [
        "#X_train, X_test, y_train, y_test = train_test_split(x, y, test_size=0.2, random_state=42)\n",
        "train_data, test_data = train_test_split(recipe_data, test_size=0.2, random_state=42)\n",
        "X_train = train_data.drop(\"rating\", axis = 1)\n",
        "X_test = test_data.drop(\"rating\", axis=1)\n",
        "y_train = train_data['rating']\n",
        "y_test = test_data['rating']\n",
        "Y_test = y_test.to_numpy().reshape(-1)\n",
        "\n"
      ]
    },
    {
      "cell_type": "code",
      "source": [
        "GBR = my_GradientBoostingRegressor(n_estimators=100, max_depth=3)\n",
        "\n",
        "My_start_time = time.time()\n",
        "GBR.fit(X_train, y_train)\n",
        "My_end_time = time.time()\n",
        "\n",
        "My_training_time = My_end_time - My_start_time #Training time"
      ],
      "metadata": {
        "id": "OpnviHellt3M"
      },
      "execution_count": 20,
      "outputs": []
    },
    {
      "cell_type": "markdown",
      "source": [
        "b)"
      ],
      "metadata": {
        "id": "rUf0G8sxULc0"
      }
    },
    {
      "cell_type": "code",
      "source": [
        "def get_rmse(Y_pred,Y_test):\n",
        "  se = (Y_pred-Y_test)**2\n",
        "  rmse = math.sqrt(np.sum(se)/len(Y_pred))\n",
        "  return rmse"
      ],
      "metadata": {
        "id": "VFWBjvPNvh9b"
      },
      "execution_count": 21,
      "outputs": []
    },
    {
      "cell_type": "code",
      "source": [
        "y_pred = GBR.predict(X_test)\n",
        "Y_pred = y_pred.reshape(-1)\n",
        "\n",
        "rmse = get_rmse(Y_pred,Y_test)\n",
        "print(f\"Test RMSE = {rmse}\")\n"
      ],
      "metadata": {
        "id": "fv-jcyXXp34u",
        "colab": {
          "base_uri": "https://localhost:8080/"
        },
        "outputId": "97c9fe49-150b-4e92-bc2c-d02bbc809d31"
      },
      "execution_count": 22,
      "outputs": [
        {
          "output_type": "stream",
          "name": "stdout",
          "text": [
            "Test RMSE = 1.1777854220163337\n"
          ]
        }
      ]
    },
    {
      "cell_type": "markdown",
      "source": [
        "c)"
      ],
      "metadata": {
        "id": "QAdNDCcvcDKn"
      }
    },
    {
      "cell_type": "code",
      "source": [
        "#'.' and ',' in column names seem to cause some problem, when using VectorAssembler\n",
        "spark = SparkSession.builder.getOrCreate()\n",
        "\n",
        "spark_train_data = spark.createDataFrame(train_data)\n",
        "spark_train_data = spark_train_data.withColumnRenamed(\"washington, d.c.\", \"washington_dc\")\n",
        "spark_train_data = spark_train_data.withColumnRenamed(\"no meat, no problem\", \"no meat_no problem\")\n",
        "spark_train_data = spark_train_data.withColumnRenamed(\"st. louis\", \"st_louis\")\n",
        "spark_train_data = spark_train_data.withColumnRenamed(\"st. patrick's day\", \"st_patrick's day\")\n",
        "\n",
        "\n",
        "\n",
        "spark_test_data = spark.createDataFrame(test_data)\n",
        "spark_test_data = spark_test_data.withColumnRenamed(\"washington, d.c.\", \"washington_dc\")\n",
        "spark_test_data = spark_test_data.withColumnRenamed(\"no meat, no problem\", \"no meat_no problem\")\n",
        "spark_test_data = spark_test_data.withColumnRenamed(\"st. louis\", \"st_louis\")\n",
        "spark_test_data = spark_test_data.withColumnRenamed(\"st. patrick's day\", \"st_patrick's day\")\n",
        "\n",
        "\n",
        "feature_columns = [col for col in spark_train_data.columns if col != 'rating']\n",
        "\n",
        "\n",
        "assembler = VectorAssembler(inputCols=feature_columns, outputCol=\"features\")\n",
        "spark_train_data = assembler.transform(spark_train_data)\n",
        "spark_test_data = assembler.transform(spark_test_data)"
      ],
      "metadata": {
        "id": "OPHvhGEuOezj"
      },
      "execution_count": 23,
      "outputs": []
    },
    {
      "cell_type": "code",
      "source": [
        "#Parameter used in my gradient boosted tree = n_estimators=100, learning_rate=0.5, min_samples_split=2, min_var_red=1e-7, max_depth=3, debug=False\n",
        "#scikit-learn's tree\n",
        "sk_tree = GradientBoostingRegressor(n_estimators=100,\n",
        "                                     learning_rate=0.5,\n",
        "                                     min_samples_split=2,\n",
        "                                     min_impurity_decrease=1e-7,\n",
        "                                     max_depth=3,\n",
        "                                     random_state=0)\n",
        "\n",
        "#Spark's tree\n",
        "spark_train_data.cache()\n",
        "spark_tree = GBTRegressor(labelCol=\"rating\", featuresCol=\"features\",\n",
        "                           maxIter=100,\n",
        "                           stepSize=0.5,\n",
        "                           minInstancesPerNode=2,\n",
        "                           minInfoGain=1e-7,\n",
        "                           maxDepth=3)\n",
        "\n",
        "#scikit-learn's tree fitting\n",
        "sk_start_time = time.time()\n",
        "sk_tree.fit(X_train,y_train)\n",
        "sk_end_time = time.time()\n",
        "sk_training_time = sk_end_time - sk_start_time\n",
        "\n",
        "#Spark's tree fitting\n",
        "#pipeline = Pipeline(stages=[assembler, spark_tree])\n",
        "spark_start_time = time.time()\n",
        "spark_model = spark_tree.fit(spark_train_data)\n",
        "spark_end_time = time.time()\n",
        "spark_training_time = spark_end_time - spark_start_time\n",
        "\n",
        "#Evaluating performance on test set\n",
        "sk_y_pred = sk_tree.predict(X_test)\n",
        "sk_Y_pred = sk_y_pred.reshape(-1)\n",
        "sk_rmse = get_rmse(sk_Y_pred,Y_test)\n",
        "\n",
        "spark_y_pred = spark_model.transform(spark_test_data).select(\"prediction\")\n",
        "spark_Y_pred = spark_y_pred.toPandas()[\"prediction\"].to_numpy()\n",
        "spark_rmse = get_rmse(spark_Y_pred,Y_test)\n",
        "print(f\"My Decision Tree RMSE: {rmse}, Training Time:{My_training_time}\")\n",
        "print(f\"scikit Decision Tree RMSE: {sk_rmse}, Training Time:{sk_training_time}\")\n",
        "print(f\"Spark Decision Tree RMSE: {spark_rmse}, Training Time:{spark_training_time}\")\n",
        "\n"
      ],
      "metadata": {
        "id": "BAZGyBhVsX94",
        "collapsed": true,
        "colab": {
          "base_uri": "https://localhost:8080/"
        },
        "outputId": "18ec72ed-31b9-41ec-a842-90cf20573cb2"
      },
      "execution_count": 24,
      "outputs": [
        {
          "output_type": "stream",
          "name": "stdout",
          "text": [
            "My Decision Tree RMSE: 1.1777854220163337, Training Time:28.472116231918335\n",
            "scikit Decision Tree RMSE: 1.1827506631727254, Training Time:9.921128988265991\n",
            "Spark Decision Tree RMSE: 1.2241901863001672, Training Time:147.6804165840149\n"
          ]
        }
      ]
    },
    {
      "cell_type": "markdown",
      "source": [
        "d)"
      ],
      "metadata": {
        "id": "xORGQMtTkO_F"
      }
    },
    {
      "cell_type": "code",
      "source": [
        "print(len(list(X_train.columns)))"
      ],
      "metadata": {
        "id": "6a_8T0UXhVK5",
        "colab": {
          "base_uri": "https://localhost:8080/"
        },
        "outputId": "bec220ab-5c04-4266-92ef-eb325aef15e5"
      },
      "execution_count": 25,
      "outputs": [
        {
          "output_type": "stream",
          "name": "stdout",
          "text": [
            "678\n"
          ]
        }
      ]
    },
    {
      "cell_type": "code",
      "source": [
        "#Default Parameters of random forest = n_estimators=200, max_features=None, min_samples_split=2, min_impurity_decrease=0, max_depth=None, n_samples = 1\n",
        "#Grid with 3 different sets of hyperparameters\n",
        "grid = dict()\n",
        "grid['n_estimators'] = [50,100,75]\n",
        "grid['max_features'] = [15,None,20]\n",
        "grid['min_samples_split'] = [1.0,2,3]\n",
        "grid['min_impurity_decrease'] = [0,0,0]\n",
        "grid['max_depth'] = [5,None,7]\n",
        "grid['n_samples'] = [0.6,1,1]\n",
        "\n",
        "for i in range(3):\n",
        "  r_forest = my_RandomForestRegressor(n_estimators=grid['n_estimators'][i],\n",
        "                                      max_features=grid['max_features'][i],\n",
        "                                      min_samples_split=grid['min_samples_split'][i],\n",
        "                                      min_impurity_decrease=grid['min_impurity_decrease'][i],\n",
        "                                      max_depth=grid['max_depth'][i],\n",
        "                                      n_samples=grid['n_samples'][i]\n",
        "                                      )\n",
        "  r_forest.fit(X_train,y_train)\n",
        "  y_pred = r_forest.predict(X_test)\n",
        "  rmse = get_rmse(y_pred,Y_test)\n",
        "  print(f\"Grid {i} : RMSE = {rmse}\")\n",
        "\n",
        "  #Free up memory\n",
        "  del r_forest\n",
        "  del y_pred\n",
        "  gc.collect()\n"
      ],
      "metadata": {
        "id": "O3ZrUgUzWaxr",
        "colab": {
          "base_uri": "https://localhost:8080/"
        },
        "outputId": "e9c1b7c3-a655-4876-c189-9daa6ccb9290"
      },
      "execution_count": 26,
      "outputs": [
        {
          "output_type": "stream",
          "name": "stdout",
          "text": [
            "Grid 0 : RMSE = 1.2348194827253558\n",
            "Grid 1 : RMSE = 1.2218958991516122\n",
            "Grid 2 : RMSE = 1.226742916633319\n"
          ]
        }
      ]
    },
    {
      "cell_type": "markdown",
      "source": [
        "Seen from part c) My gradient boosted tree is able to achieve\n",
        "\n",
        "My Decision Tree RMSE: 1.1777854220163337, which is less than all 3 RMSEs of Random Forest; thus, achieving better prediction."
      ],
      "metadata": {
        "id": "zF_OWH2VkbJc"
      }
    },
    {
      "cell_type": "markdown",
      "metadata": {
        "id": "2vUMXtMx4zBc"
      },
      "source": [
        "## Q2 - Autoencoder\n",
        "Complete below code. Please do not change class and function names. You may create additional functions or define additional parameters."
      ]
    },
    {
      "cell_type": "markdown",
      "metadata": {
        "id": "IUfY5u16JJ0j"
      },
      "source": [
        "### Data"
      ]
    },
    {
      "cell_type": "code",
      "execution_count": 27,
      "metadata": {
        "id": "QTbdqOI8JPDW",
        "colab": {
          "base_uri": "https://localhost:8080/"
        },
        "outputId": "6343a21c-0f55-499a-e811-e9d28662ac4c"
      },
      "outputs": [
        {
          "output_type": "stream",
          "name": "stdout",
          "text": [
            "Downloading https://www.cs.toronto.edu/~kriz/cifar-10-python.tar.gz to data/cifar-10-python.tar.gz\n"
          ]
        },
        {
          "output_type": "stream",
          "name": "stderr",
          "text": [
            "100%|██████████| 170498071/170498071 [00:05<00:00, 29353865.14it/s]\n"
          ]
        },
        {
          "output_type": "stream",
          "name": "stdout",
          "text": [
            "Extracting data/cifar-10-python.tar.gz to data\n",
            "Files already downloaded and verified\n"
          ]
        }
      ],
      "source": [
        "import torch\n",
        "from torch import nn\n",
        "from torch.utils.data import DataLoader\n",
        "from torchvision import datasets\n",
        "from torchvision.transforms import ToTensor\n",
        "\n",
        "# datasets\n",
        "cifar_training_data = datasets.CIFAR10(\n",
        "    root=\"data\",\n",
        "    train=True,\n",
        "    download=True,\n",
        "    transform=ToTensor(),\n",
        ")\n",
        "\n",
        "cifar_test_data = datasets.CIFAR10(\n",
        "    root=\"data\",\n",
        "    train=False,\n",
        "    download=True,\n",
        "    transform=ToTensor(),\n",
        ")\n",
        "\n",
        "# dataloader\n",
        "batch_size = 100\n",
        "\n",
        "train_loader = DataLoader(dataset=cifar_training_data,shuffle=True,batch_size=batch_size)\n",
        "test_loader = DataLoader(dataset=cifar_test_data,shuffle=True,batch_size=batch_size)"
      ]
    },
    {
      "cell_type": "code",
      "execution_count": 28,
      "metadata": {
        "id": "fayvTVhB5V36"
      },
      "outputs": [],
      "source": [
        "import torch\n",
        "from torch import nn\n",
        "\n",
        "class my_AutoEncoder(nn.Module):\n",
        "    def __init__(self):\n",
        "        super(my_AutoEncoder, self).__init__()\n",
        "\n",
        "        self.latent_dim = 64\n",
        "\n",
        "        self.encoder = self.build_encoder()\n",
        "        self.decoder = self.build_decoder()\n",
        "\n",
        "        # ADDITIONAL PARAMETERS\n",
        "\n",
        "    def build_encoder(self):\n",
        "        # build an encoder with two hidden layers\n",
        "\n",
        "        # YOUR CODE HERE\n",
        "        encoder = nn.Sequential(\n",
        "          nn.Linear(3*32*32,512),\n",
        "          nn.ReLU(),\n",
        "          nn.Linear(512,self.latent_dim),\n",
        "          nn.ReLU()\n",
        "        )\n",
        "        return encoder\n",
        "\n",
        "    def build_decoder(self):\n",
        "        # build a decoder with two hidden layers\n",
        "\n",
        "        # YOUR CODE HERE\n",
        "        decoder = nn.Sequential(\n",
        "          nn.Linear(self.latent_dim,512),\n",
        "          nn.ReLU(),\n",
        "          nn.Linear(512,3*32*32),\n",
        "          nn.Sigmoid()\n",
        "        )\n",
        "        return decoder\n",
        "\n",
        "    def forward(self, x):\n",
        "        return self.decoder(self.encoder(x))\n",
        "\n",
        "    def train(self, n_epochs=5, save_interval=100):\n",
        "        # YOUR CODE HERE\n",
        "        criterion = nn.MSELoss()\n",
        "        learning_rate = 0.001\n",
        "        optimizer = torch.optim.Adam(self.parameters(), lr=learning_rate)\n",
        "        loss_record = [] #record for every 100 batches\n",
        "\n",
        "\n",
        "        for i in tqdm(range(n_epochs)):\n",
        "          for j,(x,y) in enumerate(train_loader):\n",
        "            y_pred = self.forward(x.reshape(-1,3*32*32))\n",
        "            loss = criterion(y_pred,x.reshape(-1,3*32*32))\n",
        "            optimizer.zero_grad()\n",
        "            loss.backward()\n",
        "            optimizer.step()\n",
        "            if (j+1) % save_interval == 0:\n",
        "              loss_record.append(loss.item())\n",
        "        return (loss.item(),loss_record)\n",
        "\n"
      ]
    },
    {
      "cell_type": "markdown",
      "metadata": {
        "id": "kCT2U7hdWDKt"
      },
      "source": [
        "####Q2 - a)"
      ]
    },
    {
      "cell_type": "code",
      "execution_count": 29,
      "metadata": {
        "id": "82Fuww6R6_Yy",
        "colab": {
          "base_uri": "https://localhost:8080/"
        },
        "outputId": "9efbbb98-b1e6-41e6-d599-eb7868094b8f"
      },
      "outputs": [
        {
          "output_type": "stream",
          "name": "stderr",
          "text": [
            "100%|██████████| 5/5 [02:53<00:00, 34.73s/it]\n"
          ]
        }
      ],
      "source": [
        "# DO NOT CHANGE this cell, this cell should run to train your autoencoder\n",
        "\n",
        "my_ae = my_AutoEncoder()\n",
        "outputs, losses = my_ae.train()"
      ]
    },
    {
      "cell_type": "code",
      "execution_count": 30,
      "metadata": {
        "id": "kFr4COnzV5W3",
        "colab": {
          "base_uri": "https://localhost:8080/",
          "height": 496
        },
        "outputId": "e564d5b6-b050-414e-a1db-a17de747d2bb"
      },
      "outputs": [
        {
          "output_type": "execute_result",
          "data": {
            "text/plain": [
              "[<matplotlib.lines.Line2D at 0x7d3d328d4a30>]"
            ]
          },
          "metadata": {},
          "execution_count": 30
        },
        {
          "output_type": "display_data",
          "data": {
            "text/plain": [
              "<Figure size 640x480 with 1 Axes>"
            ],
            "image/png": "[encoded data removed]"
          },
          "metadata": {}
        }
      ],
      "source": [
        "# Vizualize your training loss\n",
        "import matplotlib.pyplot as plt\n",
        "%matplotlib inline\n",
        "\n",
        "# Defining the Plot Style\n",
        "plt.style.use('fivethirtyeight')\n",
        "plt.xlabel('Iterations')\n",
        "plt.ylabel('Loss')\n",
        "\n",
        "# Plotting the last 100 values\n",
        "plt.plot(losses)"
      ]
    },
    {
      "cell_type": "markdown",
      "metadata": {
        "id": "da323xIELBJj"
      },
      "source": [
        "Please complete the written answer in the below text box."
      ]
    },
    {
      "cell_type": "code",
      "source": [
        "loss_record = []\n",
        "criterion = nn.MSELoss()\n",
        "\n",
        "for x,y in test_loader:\n",
        "  y_pred = my_ae.forward(x.reshape(-1,3*32*32))\n",
        "  loss_record.append(criterion(y_pred,x.reshape(-1,3*32*32)).item())\n",
        "test_mse = np.mean(loss_record) #The mean of test MSE across all batches\n",
        "print(f\"Last Train MSE: {outputs}\")\n",
        "print(f\"Test MSE: {test_mse}\")"
      ],
      "metadata": {
        "id": "fO69zNxwdkBp",
        "colab": {
          "base_uri": "https://localhost:8080/"
        },
        "outputId": "7052f2b8-2cb2-49f6-d683-176cb90edde9"
      },
      "execution_count": 31,
      "outputs": [
        {
          "output_type": "stream",
          "name": "stdout",
          "text": [
            "Last Train MSE: 0.01633160002529621\n",
            "Test MSE: 0.016111589623615145\n"
          ]
        }
      ]
    },
    {
      "cell_type": "markdown",
      "metadata": {
        "id": "RW7jVQseWNuT"
      },
      "source": [
        "The Train MSE, from the last batch, is 0.016\n",
        "\n",
        "The Test MSE, computed as a mean from all the batches, is 0.016"
      ]
    },
    {
      "cell_type": "markdown",
      "metadata": {
        "id": "TLq6MvIUWUsE"
      },
      "source": [
        "####Q2 - b)"
      ]
    },
    {
      "cell_type": "code",
      "execution_count": 32,
      "metadata": {
        "id": "wdy_UZ5dWM-b",
        "colab": {
          "base_uri": "https://localhost:8080/"
        },
        "outputId": "32aa5da5-826c-4c6a-8f27-085e4c62dbe7"
      },
      "outputs": [
        {
          "output_type": "stream",
          "name": "stdout",
          "text": [
            "(50000, 64)\n",
            "(50000,)\n"
          ]
        }
      ],
      "source": [
        "# YOUR CODE for extracting the latent representations for completing Q2 - b)\n",
        "def extract_features(loader,ae=None):\n",
        "  loader_x = []\n",
        "  loader_y = []\n",
        "  for x,y in loader:\n",
        "    if ae == None:\n",
        "      #No extraction -> Full information\n",
        "      extracted_x = x.reshape(-1,3*32*32)\n",
        "    else:\n",
        "      #Extraction -> to latent_dim\n",
        "      extracted_x = ae.encoder(x.reshape(-1,3*32*32)).detach()\n",
        "    loader_x.append(extracted_x)\n",
        "    loader_y.append(y)\n",
        "  loader_x = torch.cat(loader_x, dim=0).numpy()\n",
        "  loader_y = torch.cat(loader_y, dim=0).numpy()\n",
        "  return (loader_x,loader_y)\n",
        "\n",
        "train_x,train_y = extract_features(train_loader, my_ae)\n",
        "\n",
        "print(train_x.shape)\n",
        "print(train_y.shape)\n"
      ]
    },
    {
      "cell_type": "code",
      "execution_count": 33,
      "metadata": {
        "id": "XLATj218WcQO",
        "colab": {
          "base_uri": "https://localhost:8080/"
        },
        "outputId": "4a801316-9144-42b3-e5f2-3bc9a9b2cede"
      },
      "outputs": [
        {
          "output_type": "stream",
          "name": "stdout",
          "text": [
            "Test Report\n",
            "Accuracy: 0.3362\n",
            "F1-score: 0.3339283991865731\n"
          ]
        }
      ],
      "source": [
        "from sklearn.ensemble import RandomForestClassifier\n",
        "\n",
        "sk_clf = RandomForestClassifier(n_estimators = 20, max_features = 20,\n",
        "                   min_samples_split = 2, min_impurity_decrease = 0,\n",
        "                   max_depth = None, max_samples = 0.05)\n",
        "\n",
        "\n",
        "# YOUR CODE for training the random forest model on the latent representations\n",
        "from sklearn.metrics import f1_score, accuracy_score\n",
        "sk_clf.fit(train_x,train_y)\n",
        "\n",
        "test_x, test_y = extract_features(test_loader,my_ae)\n",
        "pred_y = sk_clf.predict(test_x)\n",
        "\n",
        "print(\"Test Report\")\n",
        "print(f\"Accuracy: {accuracy_score(test_y, pred_y)}\")\n",
        "print(f\"F1-score: {f1_score(test_y, pred_y, average='weighted')}\")\n",
        "\n"
      ]
    },
    {
      "cell_type": "code",
      "source": [
        "pred_y_train = sk_clf.predict(train_x)\n",
        "print(\"Train Report\")\n",
        "print(f\"Accuracy: {accuracy_score(train_y, pred_y_train)}\")\n",
        "print(f\"F1-score: {f1_score(train_y, pred_y_train, average='weighted')}\")"
      ],
      "metadata": {
        "id": "-ForGTybQtqn",
        "colab": {
          "base_uri": "https://localhost:8080/"
        },
        "outputId": "a5b89bb1-d606-45aa-f756-6d8114661428"
      },
      "execution_count": 34,
      "outputs": [
        {
          "output_type": "stream",
          "name": "stdout",
          "text": [
            "Train Report\n",
            "Accuracy: 0.4388\n",
            "F1-score: 0.43766602850867725\n"
          ]
        }
      ]
    },
    {
      "cell_type": "markdown",
      "source": [
        "The model is underfitting, I'll try to introduce some more complexity"
      ],
      "metadata": {
        "id": "lju829ieUCrP"
      }
    },
    {
      "cell_type": "code",
      "source": [
        "adjusted_sk_clf = RandomForestClassifier(n_estimators = 200,\n",
        "                                         max_features = \"sqrt\",\n",
        "                                         min_samples_split = 2,\n",
        "                                         max_depth = None,\n",
        "                                         max_samples = 0.05\n",
        "                                         )\n",
        "adjusted_sk_clf.fit(train_x,train_y)\n",
        "pred_y_train = adjusted_sk_clf.predict(train_x)\n",
        "print(\"Train Report\")\n",
        "print(f\"Accuracy: {accuracy_score(train_y, pred_y_train)}\")\n",
        "print(f\"F1-score: {f1_score(train_y, pred_y_train, average='weighted')}\")"
      ],
      "metadata": {
        "id": "PFLlmKvfSAo8",
        "colab": {
          "base_uri": "https://localhost:8080/"
        },
        "outputId": "533cda37-d241-4274-dafc-c6eed0bbd4ad"
      },
      "execution_count": 35,
      "outputs": [
        {
          "output_type": "stream",
          "name": "stdout",
          "text": [
            "Train Report\n",
            "Accuracy: 0.5807\n",
            "F1-score: 0.5788970901567125\n"
          ]
        }
      ]
    },
    {
      "cell_type": "code",
      "source": [
        "pred_y = adjusted_sk_clf.predict(test_x)\n",
        "print(\"Test Report\")\n",
        "print(f\"Accuracy: {accuracy_score(test_y, pred_y)}\")\n",
        "print(f\"F1-score: {f1_score(test_y, pred_y, average='weighted')}\")\n",
        "\n"
      ],
      "metadata": {
        "id": "Yyz7266KkWY5",
        "colab": {
          "base_uri": "https://localhost:8080/"
        },
        "outputId": "9d84a040-7239-4230-a495-e1d092eaae52"
      },
      "execution_count": 36,
      "outputs": [
        {
          "output_type": "stream",
          "name": "stdout",
          "text": [
            "Test Report\n",
            "Accuracy: 0.4001\n",
            "F1-score: 0.3927509558463803\n"
          ]
        }
      ]
    },
    {
      "cell_type": "markdown",
      "source": [
        "Using the model from the lab\n"
      ],
      "metadata": {
        "id": "AzqYdGSslsGQ"
      }
    },
    {
      "cell_type": "code",
      "source": [
        "unextracted_train_x = (extract_features(train_loader))[0]\n",
        "print(unextracted_train_x.shape)\n",
        "\n",
        "unextracted_test_x = (extract_features(test_loader))[0]\n",
        "print(unextracted_test_x.shape)\n"
      ],
      "metadata": {
        "id": "mVXpFLMCm8TJ",
        "colab": {
          "base_uri": "https://localhost:8080/"
        },
        "outputId": "16ad315a-9372-4367-e5f9-7be209c4a767"
      },
      "execution_count": 37,
      "outputs": [
        {
          "output_type": "stream",
          "name": "stdout",
          "text": [
            "(50000, 3072)\n",
            "(10000, 3072)\n"
          ]
        }
      ]
    },
    {
      "cell_type": "code",
      "source": [
        "#Train on Full information\n",
        "lab_sk_clf = RandomForestClassifier(n_estimators = 20, max_features = 20,\n",
        "                   min_samples_split = 2, min_impurity_decrease = 0,\n",
        "                   max_depth = None, max_samples = 0.05)\n",
        "lab_sk_clf.fit(unextracted_train_x,train_y)\n",
        "pred_y_train = lab_sk_clf.predict(unextracted_train_x)\n",
        "print(\"Train Report\")\n",
        "print(f\"Accuracy: {accuracy_score(train_y, pred_y_train)}\")\n",
        "print(f\"F1-score: {f1_score(train_y, pred_y_train, average='weighted')}\")\n"
      ],
      "metadata": {
        "id": "6LxPj5HVluZC",
        "colab": {
          "base_uri": "https://localhost:8080/"
        },
        "outputId": "74c10ce9-8a7c-4502-bc8a-a866b1b1ad9f"
      },
      "execution_count": 38,
      "outputs": [
        {
          "output_type": "stream",
          "name": "stdout",
          "text": [
            "Train Report\n",
            "Accuracy: 0.24836\n",
            "F1-score: 0.24608188811160162\n"
          ]
        }
      ]
    },
    {
      "cell_type": "code",
      "source": [
        "pred_y = lab_sk_clf.predict(unextracted_test_x)\n",
        "print(\"Test Report\")\n",
        "print(f\"Accuracy: {accuracy_score(test_y, pred_y)}\")\n",
        "print(f\"F1-score: {f1_score(test_y, pred_y, average='weighted')}\")\n"
      ],
      "metadata": {
        "id": "jQGK5JPcoEgM",
        "colab": {
          "base_uri": "https://localhost:8080/"
        },
        "outputId": "9e257ecf-5af2-4e33-caca-7574748dc192"
      },
      "execution_count": 39,
      "outputs": [
        {
          "output_type": "stream",
          "name": "stdout",
          "text": [
            "Test Report\n",
            "Accuracy: 0.0963\n",
            "F1-score: 0.0943742415248395\n"
          ]
        }
      ]
    },
    {
      "cell_type": "markdown",
      "metadata": {
        "id": "NN4BJYERXCEn"
      },
      "source": [
        "Please complete the written answer in the below text box."
      ]
    },
    {
      "cell_type": "markdown",
      "metadata": {
        "id": "BfAipudDXJuk"
      },
      "source": [
        "Random Forest + Autoencoder performs better, as Autoencoder captures the important features from the inputs, and reduces the dimensions of inputs; therefore, Random Forest is able to fit to the reduced data easier."
      ]
    },
    {
      "cell_type": "markdown",
      "metadata": {
        "id": "WVgqHpoJXNCj"
      },
      "source": [
        "#### Q2 - c)"
      ]
    },
    {
      "cell_type": "code",
      "execution_count": 40,
      "metadata": {
        "id": "PxqXUBIeXMk6",
        "colab": {
          "base_uri": "https://localhost:8080/"
        },
        "outputId": "348b5f01-4a5e-43d0-e5c8-e3484769206a"
      },
      "outputs": [
        {
          "output_type": "stream",
          "name": "stderr",
          "text": [
            "100%|██████████| 5/5 [03:04<00:00, 36.83s/it]\n"
          ]
        },
        {
          "output_type": "stream",
          "name": "stdout",
          "text": [
            "32-dimension encoder Report\n",
            "Accuracy: 0.1014\n",
            "F1-score: 0.09966664210556753\n",
            "====================\n"
          ]
        },
        {
          "output_type": "stream",
          "name": "stderr",
          "text": [
            "100%|██████████| 5/5 [03:08<00:00, 37.75s/it]\n"
          ]
        },
        {
          "output_type": "stream",
          "name": "stdout",
          "text": [
            "128-dimension encoder Report\n",
            "Accuracy: 0.1025\n",
            "F1-score: 0.10001311023950916\n",
            "====================\n"
          ]
        },
        {
          "output_type": "stream",
          "name": "stderr",
          "text": [
            "100%|██████████| 5/5 [03:11<00:00, 38.27s/it]\n"
          ]
        },
        {
          "output_type": "stream",
          "name": "stdout",
          "text": [
            "256-dimension encoder Report\n",
            "Accuracy: 0.0982\n",
            "F1-score: 0.09671452460608365\n",
            "====================\n"
          ]
        }
      ],
      "source": [
        "# YOUR CODE for changing latent space dimensions and retraining your autoencoder.\n",
        "# Let's try 32, 128, 256\n",
        "train_mse = []\n",
        "\n",
        "for l in [32,128,256]:\n",
        "  ae = my_AutoEncoder()\n",
        "  ae.latent_dim = l #Set new latent_dim\n",
        "  ae.encoder = ae.build_encoder() #Build encoder again to adjust for the change in latent_dim\n",
        "  ae.decoder = ae.build_decoder() #Same applies to decoder\n",
        "  outputs, losses = ae.train()\n",
        "  train_mse.append(outputs)\n",
        "\n",
        "  #Use autoencoder to extract features\n",
        "  train_x = extract_features(train_loader, ae)[0]\n",
        "  test_x = extract_features(test_loader, ae)[0]\n",
        "\n",
        "  #Train on extracted features\n",
        "  sk_clf.fit(train_x,train_y)\n",
        "  pred_y = sk_clf.predict(test_x)\n",
        "\n",
        "  #Report evaluated from test data\n",
        "  print(f\"{l}-dimension encoder Report\")\n",
        "  print(f\"Accuracy: {accuracy_score(test_y, pred_y)}\")\n",
        "  print(f\"F1-score: {f1_score(test_y, pred_y, average='weighted')}\")\n",
        "  print(\"====================\")\n",
        "\n",
        "\n",
        "\n"
      ]
    },
    {
      "cell_type": "markdown",
      "metadata": {
        "id": "dxgJtmZSXZhg"
      },
      "source": [
        "Please complete the written answer in the below text box."
      ]
    },
    {
      "cell_type": "markdown",
      "metadata": {
        "id": "tE2-U8QvXaoV"
      },
      "source": [
        "Let A > B means A has better performance than B.\n",
        "\n",
        "64-dimension > 128-dimension > 32-dimension > 256-dimension"
      ]
    }
  ],
  "metadata": {
    "colab": {
      "provenance": [],
      "gpuType": "T4"
    },
    "kernelspec": {
      "display_name": "Python 3",
      "name": "python3"
    },
    "language_info": {
      "name": "python",
      "version": "3.10.6"
    },
    "accelerator": "GPU"
  },
  "nbformat": 4,
  "nbformat_minor": 0
}
