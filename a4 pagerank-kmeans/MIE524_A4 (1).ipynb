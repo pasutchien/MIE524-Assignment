{
  "nbformat": 4,
  "nbformat_minor": 0,
  "metadata": {
    "colab": {
      "provenance": [],
      "machine_shape": "hm",
      "gpuType": "A100"
    },
    "kernelspec": {
      "name": "python3",
      "display_name": "Python 3"
    },
    "language_info": {
      "name": "python"
    },
    "accelerator": "GPU"
  },
  "cells": [
    {
      "cell_type": "markdown",
      "source": [
        "# MIE524 - Assignment 4\n",
        "Please complete this notebook for Assignment 4."
      ],
      "metadata": {
        "id": "6WCBIfYrN7ul"
      }
    },
    {
      "cell_type": "markdown",
      "source": [
        "## Q1 - PageRank"
      ],
      "metadata": {
        "id": "aOM_3IDpoW_5"
      }
    },
    {
      "cell_type": "markdown",
      "source": [
        "### Spark Setup"
      ],
      "metadata": {
        "id": "II6ZIjfMozo6"
      }
    },
    {
      "cell_type": "code",
      "source": [
        "!pip install pyspark\n",
        "!pip install -U -q PyDrive\n",
        "!apt install openjdk-8-jdk-headless -qq\n",
        "import os\n",
        "os.environ[\"JAVA_HOME\"] = \"/usr/lib/jvm/java-8-openjdk-amd64\""
      ],
      "metadata": {
        "colab": {
          "base_uri": "https://localhost:8080/"
        },
        "id": "KmVlEbIhodss",
        "outputId": "5b9cf95a-c4cb-4bd6-9ee2-8d17ee1d75c3"
      },
      "execution_count": 1,
      "outputs": [
        {
          "output_type": "stream",
          "name": "stdout",
          "text": [
            "Requirement already satisfied: pyspark in /usr/local/lib/python3.10/dist-packages (3.5.3)\n",
            "Requirement already satisfied: py4j==0.10.9.7 in /usr/local/lib/python3.10/dist-packages (from pyspark) (0.10.9.7)\n",
            "The following additional packages will be installed:\n",
            "  libxtst6 openjdk-8-jre-headless\n",
            "Suggested packages:\n",
            "  openjdk-8-demo openjdk-8-source libnss-mdns fonts-dejavu-extra fonts-nanum fonts-ipafont-gothic\n",
            "  fonts-ipafont-mincho fonts-wqy-microhei fonts-wqy-zenhei fonts-indic\n",
            "The following NEW packages will be installed:\n",
            "  libxtst6 openjdk-8-jdk-headless openjdk-8-jre-headless\n",
            "0 upgraded, 3 newly installed, 0 to remove and 49 not upgraded.\n",
            "Need to get 39.7 MB of archives.\n",
            "After this operation, 144 MB of additional disk space will be used.\n",
            "Selecting previously unselected package libxtst6:amd64.\n",
            "(Reading database ... 123629 files and directories currently installed.)\n",
            "Preparing to unpack .../libxtst6_2%3a1.2.3-1build4_amd64.deb ...\n",
            "Unpacking libxtst6:amd64 (2:1.2.3-1build4) ...\n",
            "Selecting previously unselected package openjdk-8-jre-headless:amd64.\n",
            "Preparing to unpack .../openjdk-8-jre-headless_8u432-ga~us1-0ubuntu2~22.04_amd64.deb ...\n",
            "Unpacking openjdk-8-jre-headless:amd64 (8u432-ga~us1-0ubuntu2~22.04) ...\n",
            "Selecting previously unselected package openjdk-8-jdk-headless:amd64.\n",
            "Preparing to unpack .../openjdk-8-jdk-headless_8u432-ga~us1-0ubuntu2~22.04_amd64.deb ...\n",
            "Unpacking openjdk-8-jdk-headless:amd64 (8u432-ga~us1-0ubuntu2~22.04) ...\n",
            "Setting up libxtst6:amd64 (2:1.2.3-1build4) ...\n",
            "Setting up openjdk-8-jre-headless:amd64 (8u432-ga~us1-0ubuntu2~22.04) ...\n",
            "update-alternatives: using /usr/lib/jvm/java-8-openjdk-amd64/jre/bin/orbd to provide /usr/bin/orbd (orbd) in auto mode\n",
            "update-alternatives: using /usr/lib/jvm/java-8-openjdk-amd64/jre/bin/servertool to provide /usr/bin/servertool (servertool) in auto mode\n",
            "update-alternatives: using /usr/lib/jvm/java-8-openjdk-amd64/jre/bin/tnameserv to provide /usr/bin/tnameserv (tnameserv) in auto mode\n",
            "Setting up openjdk-8-jdk-headless:amd64 (8u432-ga~us1-0ubuntu2~22.04) ...\n",
            "update-alternatives: using /usr/lib/jvm/java-8-openjdk-amd64/bin/clhsdb to provide /usr/bin/clhsdb (clhsdb) in auto mode\n",
            "update-alternatives: using /usr/lib/jvm/java-8-openjdk-amd64/bin/extcheck to provide /usr/bin/extcheck (extcheck) in auto mode\n",
            "update-alternatives: using /usr/lib/jvm/java-8-openjdk-amd64/bin/hsdb to provide /usr/bin/hsdb (hsdb) in auto mode\n",
            "update-alternatives: using /usr/lib/jvm/java-8-openjdk-amd64/bin/idlj to provide /usr/bin/idlj (idlj) in auto mode\n",
            "update-alternatives: using /usr/lib/jvm/java-8-openjdk-amd64/bin/javah to provide /usr/bin/javah (javah) in auto mode\n",
            "update-alternatives: using /usr/lib/jvm/java-8-openjdk-amd64/bin/jhat to provide /usr/bin/jhat (jhat) in auto mode\n",
            "update-alternatives: using /usr/lib/jvm/java-8-openjdk-amd64/bin/jsadebugd to provide /usr/bin/jsadebugd (jsadebugd) in auto mode\n",
            "update-alternatives: using /usr/lib/jvm/java-8-openjdk-amd64/bin/native2ascii to provide /usr/bin/native2ascii (native2ascii) in auto mode\n",
            "update-alternatives: using /usr/lib/jvm/java-8-openjdk-amd64/bin/schemagen to provide /usr/bin/schemagen (schemagen) in auto mode\n",
            "update-alternatives: using /usr/lib/jvm/java-8-openjdk-amd64/bin/wsgen to provide /usr/bin/wsgen (wsgen) in auto mode\n",
            "update-alternatives: using /usr/lib/jvm/java-8-openjdk-amd64/bin/wsimport to provide /usr/bin/wsimport (wsimport) in auto mode\n",
            "update-alternatives: using /usr/lib/jvm/java-8-openjdk-amd64/bin/xjc to provide /usr/bin/xjc (xjc) in auto mode\n",
            "Processing triggers for libc-bin (2.35-0ubuntu3.4) ...\n",
            "/sbin/ldconfig.real: /usr/local/lib/libur_adapter_opencl.so.0 is not a symbolic link\n",
            "\n",
            "/sbin/ldconfig.real: /usr/local/lib/libtbbmalloc.so.2 is not a symbolic link\n",
            "\n",
            "/sbin/ldconfig.real: /usr/local/lib/libtbbbind_2_5.so.3 is not a symbolic link\n",
            "\n",
            "/sbin/ldconfig.real: /usr/local/lib/libtcm.so.1 is not a symbolic link\n",
            "\n",
            "/sbin/ldconfig.real: /usr/local/lib/libur_adapter_level_zero.so.0 is not a symbolic link\n",
            "\n",
            "/sbin/ldconfig.real: /usr/local/lib/libur_loader.so.0 is not a symbolic link\n",
            "\n",
            "/sbin/ldconfig.real: /usr/local/lib/libtbbbind_2_0.so.3 is not a symbolic link\n",
            "\n",
            "/sbin/ldconfig.real: /usr/local/lib/libtcm_debug.so.1 is not a symbolic link\n",
            "\n",
            "/sbin/ldconfig.real: /usr/local/lib/libumf.so.0 is not a symbolic link\n",
            "\n",
            "/sbin/ldconfig.real: /usr/local/lib/libtbbmalloc_proxy.so.2 is not a symbolic link\n",
            "\n",
            "/sbin/ldconfig.real: /usr/local/lib/libtbb.so.12 is not a symbolic link\n",
            "\n",
            "/sbin/ldconfig.real: /usr/local/lib/libhwloc.so.15 is not a symbolic link\n",
            "\n",
            "/sbin/ldconfig.real: /usr/local/lib/libtbbbind.so.3 is not a symbolic link\n",
            "\n"
          ]
        }
      ]
    },
    {
      "cell_type": "markdown",
      "source": [
        "Load Packages"
      ],
      "metadata": {
        "id": "_BkGbgTGpoLq"
      }
    },
    {
      "cell_type": "code",
      "source": [
        "import pandas as pd\n",
        "import numpy as np\n",
        "import matplotlib.pyplot as plt\n",
        "import re\n",
        "\n",
        "from tqdm import tqdm\n",
        "\n",
        "%matplotlib inline\n",
        "\n",
        "import pyspark\n",
        "from pyspark.sql import *\n",
        "from pyspark.sql.types import *\n",
        "from pyspark.sql.functions import *\n",
        "from pyspark import SparkContext, SparkConf"
      ],
      "metadata": {
        "id": "hKxOOqxio4jQ"
      },
      "execution_count": 2,
      "outputs": []
    },
    {
      "cell_type": "markdown",
      "source": [
        "Initialize Spark Context"
      ],
      "metadata": {
        "id": "LLq0t9SSp2PH"
      }
    },
    {
      "cell_type": "code",
      "source": [
        "# create the session\n",
        "conf = SparkConf()\n",
        "\n",
        "# create the context\n",
        "sc = pyspark.SparkContext(conf=conf)\n",
        "spark = SparkSession.builder.getOrCreate()"
      ],
      "metadata": {
        "id": "4mgyIy2GpyW7"
      },
      "execution_count": 3,
      "outputs": []
    },
    {
      "cell_type": "markdown",
      "source": [
        "### Load Data"
      ],
      "metadata": {
        "id": "uBSQghbwqJOB"
      }
    },
    {
      "cell_type": "code",
      "source": [
        "# loads the input file as an RDD, with each element being a string\n",
        "# of the form \"source destination\" where source and destination\n",
        "# are node id's representing the directed edge from node source\n",
        "# to node destination. Note that the elements of this RDD are string\n",
        "# types, hence you will need to map them to integers later.\n",
        "\n",
        "lines = sc.textFile(\"q1-graph-full.txt\")"
      ],
      "metadata": {
        "id": "7RWSlSFFqBv7"
      },
      "execution_count": 6,
      "outputs": []
    },
    {
      "cell_type": "code",
      "source": [
        "lines.take(5)"
      ],
      "metadata": {
        "colab": {
          "base_uri": "https://localhost:8080/"
        },
        "id": "MgHUT7M91fL3",
        "outputId": "141ef503-5de4-4a99-938e-794e775f4c86"
      },
      "execution_count": 7,
      "outputs": [
        {
          "output_type": "execute_result",
          "data": {
            "text/plain": [
              "['1\\t2', '2\\t3', '3\\t4', '4\\t5', '5\\t6']"
            ]
          },
          "metadata": {},
          "execution_count": 7
        }
      ]
    },
    {
      "cell_type": "markdown",
      "source": [
        "### a) PageRank Implementation"
      ],
      "metadata": {
        "id": "ziXwaIGNqoIz"
      }
    },
    {
      "cell_type": "code",
      "source": [
        "class my_PageRank:\n",
        "    def __init__(self, lines, num_iterations, beta):\n",
        "        \"\"\"\n",
        "        Initializes the my_PageRank object\n",
        "        \"\"\"\n",
        "        self.lines = lines\n",
        "        self.num_iterations = num_iterations\n",
        "        self.beta = beta\n",
        "        self.M = self.create_M()\n",
        "\n",
        "    def create_M(self):\n",
        "        \"\"\"\n",
        "        Generate the source destination matrix M\n",
        "        \"\"\"\n",
        "\n",
        "        # TODO: YOUR CODE HERE\n",
        "        def split_line(line):\n",
        "            line = line.split(\"\\t\")\n",
        "            source = int(line[0])\n",
        "            dest = int(line[1])\n",
        "            return (source,dest)\n",
        "        def fill_M(row_idx, row, lines, sources_count):\n",
        "            edges = lines.value\n",
        "            for col_idx in range(len(row)):\n",
        "                edge = (col_idx+1, row_idx+1)\n",
        "                if edge in edges:\n",
        "                    row[col_idx] = 1/sources_count[col_idx+1]\n",
        "            return row\n",
        "        lines = self.lines\n",
        "        lines = lines.map(split_line) #change each line to (source, destination)\n",
        "        lines = lines.distinct() #Remove duplicated directed edges, Note: A->B != B->A\n",
        "\n",
        "        n = lines.flatMap(lambda x: x).max()\n",
        "        self.n = n #n represents the total number of nodes\n",
        "\n",
        "        #Get the number of out edges in each node\n",
        "        sources = lines.map(lambda l: (l[0], 1))\n",
        "        sources_count = sources.reduceByKey(lambda x,y:(x+y))\n",
        "        sources_count = dict(sources_count.collect())\n",
        "\n",
        "\n",
        "        edges_list = lines.collect()\n",
        "        edges_broadcast = sc.broadcast(edges_list)\n",
        "        M = sc.parallelize(range(n)).map(lambda row_idx: [0] * n) #Create a matrix of nxn filled with 0\n",
        "        M = M.zipWithIndex().map(lambda row: fill_M(row[1], row[0], edges_broadcast, sources_count)) #Fill up Matrix M\n",
        "        return M\n",
        "\n",
        "    def compute_PageRank(self):\n",
        "        \"\"\"\n",
        "        Run the entire PageRank algorithm\n",
        "        \"\"\"\n",
        "        # 1. Initialize r^0\n",
        "        # 2. Iteratively compute r^i\n",
        "\n",
        "        # TODO: YOUR CODE HERE\n",
        "\n",
        "        # Initializing r^0\n",
        "        n = self.n\n",
        "        r = np.full(n, 1/n)\n",
        "\n",
        "        # compute r^i\n",
        "        M = self.M\n",
        "        beta = self.beta\n",
        "\n",
        "        tel = np.full(n, (1-beta)/n) #Teleport Matrix\n",
        "        for i in tqdm(range(self.num_iterations)):\n",
        "            r_broadcast = sc.broadcast(r)\n",
        "            r = M.map(lambda M_row: beta*np.dot(M_row, r_broadcast.value)).collect() #Doing matrix multiplication\n",
        "            r = np.array(r) + tel\n",
        "\n",
        "            r_broadcast.unpersist()\n",
        "        return r"
      ],
      "metadata": {
        "id": "9C1-k6Y2R7-c"
      },
      "execution_count": 8,
      "outputs": []
    },
    {
      "cell_type": "code",
      "source": [
        "# initialize my_PageRank object\n",
        "pg = my_PageRank(lines = lines, num_iterations = 40, beta = 0.8)\n"
      ],
      "metadata": {
        "id": "TKwTseWJqizV"
      },
      "execution_count": 9,
      "outputs": []
    },
    {
      "cell_type": "code",
      "source": [
        "r = pg.compute_PageRank()\n",
        "r"
      ],
      "metadata": {
        "colab": {
          "base_uri": "https://localhost:8080/"
        },
        "id": "4lvjixvZRoUR",
        "outputId": "bb106078-ecb7-4d8c-b593-d21fa7779143"
      },
      "execution_count": 10,
      "outputs": [
        {
          "output_type": "stream",
          "name": "stderr",
          "text": [
            "100%|██████████| 40/40 [19:06<00:00, 28.66s/it]\n"
          ]
        },
        {
          "output_type": "execute_result",
          "data": {
            "text/plain": [
              "array([0.00114126, 0.00081032, 0.00073449, 0.00161361, 0.00113683,\n",
              "       0.00128746, 0.00111545, 0.00100457, 0.00085827, 0.00145924,\n",
              "       0.00092707, 0.00079051, 0.00074203, 0.00072442, 0.00109081,\n",
              "       0.00179165, 0.00108482, 0.00100167, 0.00067958, 0.00105333,\n",
              "       0.00120588, 0.00078686, 0.00090348, 0.00073999, 0.00078159,\n",
              "       0.00064479, 0.00123237, 0.00105735, 0.00094836, 0.00082036,\n",
              "       0.00073574, 0.00125578, 0.00073175, 0.00087024, 0.0011502 ,\n",
              "       0.00066473, 0.00069661, 0.00055652, 0.00121579, 0.00103709,\n",
              "       0.00075403, 0.00121014, 0.0012753 , 0.00079432, 0.00100303,\n",
              "       0.0012449 , 0.00085077, 0.00156903, 0.00109996, 0.00052871,\n",
              "       0.000934  , 0.00086908, 0.00124912, 0.00128154, 0.00081691,\n",
              "       0.00150668, 0.00112692, 0.00111286, 0.00091431, 0.00089602,\n",
              "       0.00114566, 0.00035315, 0.0005708 , 0.00045994, 0.00085509,\n",
              "       0.0011283 , 0.00064858, 0.00057769, 0.00081708, 0.00065419,\n",
              "       0.00103249, 0.00100569, 0.00077321, 0.00046723, 0.00096105,\n",
              "       0.00125543, 0.00078499, 0.00105285, 0.00095968, 0.0007331 ,\n",
              "       0.00040672, 0.00089168, 0.00097543, 0.00093732, 0.00124452,\n",
              "       0.0009805 , 0.0008606 , 0.00081518, 0.00099279, 0.00137179,\n",
              "       0.00145284, 0.00075185, 0.00035136, 0.00066191, 0.00072993,\n",
              "       0.00110873, 0.00119751, 0.00156671, 0.00080717, 0.00109254,\n",
              "       0.00090737, 0.00066476, 0.00100076, 0.00086308, 0.0014503 ,\n",
              "       0.00105407, 0.0008645 , 0.00167673, 0.0008867 , 0.00056263,\n",
              "       0.00100221, 0.00056205, 0.00153978, 0.00082482, 0.00123858,\n",
              "       0.00100544, 0.00086427, 0.00093682, 0.00112052, 0.00123522,\n",
              "       0.0008048 , 0.00098077, 0.00126256, 0.00107936, 0.00101406,\n",
              "       0.00180076, 0.00157437, 0.00164355, 0.00064104, 0.00171435,\n",
              "       0.00131701, 0.001022  , 0.00103108, 0.00054622, 0.00056121,\n",
              "       0.0010726 , 0.00053902, 0.00107084, 0.00083266, 0.00128198,\n",
              "       0.0009664 , 0.00101562, 0.00150683, 0.00145556, 0.00109798,\n",
              "       0.00173001, 0.00081427, 0.00132171, 0.00146728, 0.00095917,\n",
              "       0.00107123, 0.00111928, 0.00105784, 0.00092112, 0.0010434 ,\n",
              "       0.00068999, 0.00129328, 0.00092732, 0.00128766, 0.00090064,\n",
              "       0.00088267, 0.0010956 , 0.0011277 , 0.0009345 , 0.0008775 ,\n",
              "       0.00148156, 0.00094701, 0.00074933, 0.00084508, 0.00120878,\n",
              "       0.00100456, 0.00093353, 0.00111084, 0.0010876 , 0.00108598,\n",
              "       0.0008522 , 0.00112662, 0.00071494, 0.00083721, 0.00093964,\n",
              "       0.00099133, 0.00121773, 0.00118327, 0.00130159, 0.00077716,\n",
              "       0.00140681, 0.00163216, 0.00149674, 0.00116343, 0.00085444,\n",
              "       0.00101244, 0.00146063, 0.00126481, 0.00111456, 0.00088461,\n",
              "       0.00078281, 0.0010406 , 0.00154775, 0.00104356, 0.00099217,\n",
              "       0.00100642, 0.00104111, 0.00048493, 0.00098894, 0.00072529,\n",
              "       0.0009532 , 0.00076996, 0.00111038, 0.00070024, 0.00094303,\n",
              "       0.00140461, 0.00109877, 0.00133629, 0.00121758, 0.00152594,\n",
              "       0.00135682, 0.00100299, 0.00136472, 0.00154669, 0.00148323,\n",
              "       0.00055893, 0.00077553, 0.00067114, 0.0010646 , 0.00089559,\n",
              "       0.00056135, 0.00141719, 0.00118774, 0.00076804, 0.00114424,\n",
              "       0.00096184, 0.00111052, 0.00070206, 0.00068771, 0.0008804 ,\n",
              "       0.00092867, 0.00109974, 0.00094732, 0.0009385 , 0.00097134,\n",
              "       0.00093638, 0.00071684, 0.00185263, 0.00087408, 0.00122371,\n",
              "       0.00128599, 0.00094685, 0.00099849, 0.00104534, 0.00121211,\n",
              "       0.00086954, 0.00132842, 0.00061866, 0.00145047, 0.00180209,\n",
              "       0.0010524 , 0.00131425, 0.0008369 , 0.00102359, 0.00096856,\n",
              "       0.00091263, 0.00122116, 0.00202029, 0.00096644, 0.00091021,\n",
              "       0.00155166, 0.0005131 , 0.00089587, 0.00112585, 0.00048699,\n",
              "       0.00056389, 0.00089873, 0.00053765, 0.00105434, 0.00082217,\n",
              "       0.0013896 , 0.00108154, 0.00105313, 0.00074207, 0.00113684,\n",
              "       0.00125132, 0.00100875, 0.00112585, 0.00107747, 0.00182737,\n",
              "       0.00087498, 0.00114505, 0.00054509, 0.00055151, 0.00110901,\n",
              "       0.00111048, 0.00117352, 0.00073547, 0.00115132, 0.00152568,\n",
              "       0.0006531 , 0.00064162, 0.00158584, 0.00081392, 0.00084761,\n",
              "       0.00107966, 0.00090251, 0.00159625, 0.00098418, 0.0008124 ,\n",
              "       0.00113702, 0.00064603, 0.00103672, 0.0006285 , 0.00073097,\n",
              "       0.00100183, 0.00113954, 0.0012696 , 0.00150874, 0.00105707,\n",
              "       0.00059291, 0.00066714, 0.00051826, 0.0010091 , 0.00093467,\n",
              "       0.00131228, 0.00077996, 0.00092057, 0.00084856, 0.00083102,\n",
              "       0.00142759, 0.00108779, 0.0009147 , 0.00090621, 0.00092924,\n",
              "       0.00072573, 0.00117162, 0.00092854, 0.00094147, 0.00092381,\n",
              "       0.00111304, 0.00128697, 0.00092093, 0.0008822 , 0.00107187,\n",
              "       0.00107037, 0.00107474, 0.00095782, 0.00136438, 0.00082947,\n",
              "       0.0010553 , 0.00084336, 0.00111035, 0.00083869, 0.00069238,\n",
              "       0.00123909, 0.00058921, 0.00116158, 0.00166223, 0.00105424,\n",
              "       0.00100339, 0.00151978, 0.00109604, 0.00159753, 0.00081912,\n",
              "       0.00146978, 0.00147504, 0.00086608, 0.00080854, 0.00109091,\n",
              "       0.00130261, 0.00134715, 0.00139805, 0.00143331, 0.0009404 ,\n",
              "       0.00104619, 0.00096882, 0.00139804, 0.00106992, 0.00078973,\n",
              "       0.0008888 , 0.00072515, 0.00101749, 0.00060596, 0.00071214,\n",
              "       0.00166983, 0.00101595, 0.00062713, 0.00094654, 0.00066555,\n",
              "       0.00043157, 0.00163958, 0.00072738, 0.00160566, 0.00138911,\n",
              "       0.00054058, 0.00068597, 0.00112125, 0.00109366, 0.00079847,\n",
              "       0.0007381 , 0.00076743, 0.00053416, 0.00094296, 0.0013616 ,\n",
              "       0.00102222, 0.00089921, 0.00096919, 0.00102596, 0.00060601,\n",
              "       0.0007894 , 0.00080411, 0.0003878 , 0.00066296, 0.00059593,\n",
              "       0.00088784, 0.00082994, 0.00127134, 0.00097336, 0.00135714,\n",
              "       0.0008329 , 0.00098787, 0.00046913, 0.00071213, 0.00058546,\n",
              "       0.0006376 , 0.00081398, 0.00112861, 0.00035482, 0.00092729,\n",
              "       0.00059907, 0.00067294, 0.00109805, 0.00108574, 0.00068467,\n",
              "       0.0008303 , 0.0013268 , 0.00146471, 0.00148029, 0.001475  ,\n",
              "       0.00101463, 0.00099926, 0.00076427, 0.00058054, 0.00068792,\n",
              "       0.00127247, 0.00128267, 0.00106808, 0.00047318, 0.00146959,\n",
              "       0.00074852, 0.00127113, 0.00057267, 0.00128655, 0.00105589,\n",
              "       0.00080973, 0.00122714, 0.00101147, 0.00078442, 0.00066286,\n",
              "       0.00092481, 0.00079389, 0.00128974, 0.00090691, 0.00095391,\n",
              "       0.000748  , 0.00053018, 0.00094865, 0.0010437 , 0.00067665,\n",
              "       0.000768  , 0.00089847, 0.00095325, 0.00054561, 0.0005661 ,\n",
              "       0.00107379, 0.00108856, 0.00148354, 0.00104271, 0.00079178,\n",
              "       0.00086197, 0.0007544 , 0.00104171, 0.00086253, 0.00099756,\n",
              "       0.00136988, 0.0012609 , 0.00087268, 0.0012141 , 0.00127188,\n",
              "       0.00068124, 0.00105837, 0.00093486, 0.00123474, 0.00139195,\n",
              "       0.00106822, 0.0012299 , 0.00058863, 0.00148296, 0.00108615,\n",
              "       0.00110284, 0.00112521, 0.0007598 , 0.00048532, 0.00051197,\n",
              "       0.00045623, 0.00180017, 0.00121641, 0.0010693 , 0.0007678 ,\n",
              "       0.00114675, 0.00118721, 0.00103454, 0.00080433, 0.00064798,\n",
              "       0.00121559, 0.00095191, 0.00114642, 0.00077538, 0.00157449,\n",
              "       0.00135976, 0.00088733, 0.00057477, 0.00104949, 0.00142247,\n",
              "       0.00103488, 0.00087371, 0.00099391, 0.00109834, 0.00176867,\n",
              "       0.00111418, 0.00099097, 0.00065267, 0.00116783, 0.00066949,\n",
              "       0.00124707, 0.00063334, 0.00145839, 0.00130851, 0.00101497,\n",
              "       0.00124292, 0.00194334, 0.00152224, 0.00075207, 0.00075533,\n",
              "       0.00107728, 0.00114294, 0.00088997, 0.00116839, 0.0006592 ,\n",
              "       0.00111937, 0.00119432, 0.00081406, 0.00094443, 0.00100468,\n",
              "       0.00095243, 0.00139037, 0.00110231, 0.00058368, 0.00104756,\n",
              "       0.00109266, 0.00074529, 0.0003286 , 0.00078916, 0.00119524,\n",
              "       0.00072468, 0.00109041, 0.00112916, 0.00088853, 0.0007829 ,\n",
              "       0.00107772, 0.00110124, 0.00158899, 0.00107878, 0.00074691,\n",
              "       0.00078951, 0.00126808, 0.00120127, 0.00097979, 0.0009118 ,\n",
              "       0.001009  , 0.0005788 , 0.0010638 , 0.00101345, 0.00125327,\n",
              "       0.00086235, 0.00112968, 0.0007893 , 0.00078926, 0.00059808,\n",
              "       0.0011927 , 0.00122849, 0.00119051, 0.00095378, 0.00095384,\n",
              "       0.00134149, 0.0006133 , 0.00112984, 0.00082787, 0.00100382,\n",
              "       0.00072424, 0.00135739, 0.00076857, 0.00079209, 0.00087609,\n",
              "       0.00094394, 0.000699  , 0.0014481 , 0.00105508, 0.00114133,\n",
              "       0.00135909, 0.00132748, 0.00162808, 0.00124624, 0.00078164,\n",
              "       0.00071642, 0.0008619 , 0.00083451, 0.00097487, 0.0012422 ,\n",
              "       0.00121961, 0.00081212, 0.00107056, 0.00055388, 0.00044808,\n",
              "       0.00076053, 0.00110845, 0.00110514, 0.00153807, 0.00075097,\n",
              "       0.00074988, 0.00112561, 0.00079828, 0.00077474, 0.00083308,\n",
              "       0.00120059, 0.00095338, 0.00077939, 0.00078248, 0.00079448,\n",
              "       0.0014689 , 0.00118177, 0.00126472, 0.00108969, 0.00070357,\n",
              "       0.00109348, 0.00082659, 0.00105932, 0.00127035, 0.00112324,\n",
              "       0.0009149 , 0.00149125, 0.00102708, 0.00100592, 0.00096832,\n",
              "       0.00070725, 0.00084851, 0.00064917, 0.00056261, 0.00119219,\n",
              "       0.00108691, 0.00042832, 0.00051096, 0.00141811, 0.00063355,\n",
              "       0.00105815, 0.00147024, 0.00087472, 0.00147877, 0.00121078,\n",
              "       0.00101541, 0.00125005, 0.00112172, 0.00091928, 0.00119034,\n",
              "       0.00097635, 0.0009244 , 0.00101847, 0.00061238, 0.00142767,\n",
              "       0.00099979, 0.00098127, 0.00069441, 0.0014312 , 0.0008154 ,\n",
              "       0.00067217, 0.00152539, 0.00106975, 0.00078574, 0.00084862,\n",
              "       0.00101061, 0.00069636, 0.00101968, 0.00127921, 0.00121639,\n",
              "       0.00061747, 0.00136702, 0.0009053 , 0.00080287, 0.0007545 ,\n",
              "       0.00124858, 0.00141585, 0.00097976, 0.00094987, 0.00087927,\n",
              "       0.0010081 , 0.00080734, 0.00106424, 0.00083823, 0.00076309,\n",
              "       0.00094907, 0.00069813, 0.00075183, 0.00075596, 0.00092409,\n",
              "       0.00081974, 0.00051693, 0.00087445, 0.00070083, 0.00114846,\n",
              "       0.00143349, 0.00108489, 0.00095195, 0.000657  , 0.00109715,\n",
              "       0.00077285, 0.00070813, 0.0007792 , 0.00104971, 0.00122769,\n",
              "       0.00070765, 0.00087124, 0.00051069, 0.00120265, 0.0010182 ,\n",
              "       0.00086184, 0.00056217, 0.00080802, 0.00124828, 0.00156632,\n",
              "       0.0017819 , 0.00091547, 0.00149485, 0.00107914, 0.00111194,\n",
              "       0.00057685, 0.00039264, 0.00075583, 0.00058088, 0.00050189,\n",
              "       0.00105019, 0.00178482, 0.00072735, 0.00162061, 0.00092999,\n",
              "       0.00077523, 0.00102028, 0.00105497, 0.00106753, 0.00113456,\n",
              "       0.00108747, 0.00111327, 0.00079896, 0.00045915, 0.00071984,\n",
              "       0.00119993, 0.00085308, 0.00154505, 0.00082369, 0.00102635,\n",
              "       0.00115723, 0.0012884 , 0.00138221, 0.00080643, 0.00094105,\n",
              "       0.00085226, 0.00109156, 0.00116748, 0.00130692, 0.00099218,\n",
              "       0.00066767, 0.00109521, 0.00122389, 0.00129389, 0.00130569,\n",
              "       0.00166159, 0.00087901, 0.00095864, 0.00097424, 0.00073138,\n",
              "       0.00074482, 0.00141661, 0.00115947, 0.0005305 , 0.00081655,\n",
              "       0.00074121, 0.0012183 , 0.00136864, 0.00115181, 0.00099368,\n",
              "       0.00103546, 0.00090543, 0.00140571, 0.00138154, 0.00062027,\n",
              "       0.00070991, 0.00090462, 0.00063906, 0.00087169, 0.00170114,\n",
              "       0.00103861, 0.00109486, 0.00066078, 0.00150261, 0.00089829,\n",
              "       0.00157244, 0.00145764, 0.00114521, 0.00111327, 0.00080124,\n",
              "       0.00046696, 0.00083681, 0.00070547, 0.00111941, 0.00124249,\n",
              "       0.00065141, 0.00115482, 0.00074943, 0.000452  , 0.00070896,\n",
              "       0.0008668 , 0.0006359 , 0.00130198, 0.00054242, 0.0009294 ,\n",
              "       0.00074837, 0.00149958, 0.00117096, 0.00088177, 0.00115922,\n",
              "       0.00086059, 0.00076116, 0.00074799, 0.00064552, 0.00096363,\n",
              "       0.00113437, 0.00081505, 0.00079972, 0.00107683, 0.00096779,\n",
              "       0.0013473 , 0.00105223, 0.00096735, 0.00110592, 0.00124514,\n",
              "       0.0007534 , 0.00105296, 0.00168755, 0.00083824, 0.00077074,\n",
              "       0.00086774, 0.00131906, 0.00054932, 0.00119817, 0.00069044,\n",
              "       0.00158416, 0.00097461, 0.0007364 , 0.00113457, 0.00083245,\n",
              "       0.00086579, 0.00095565, 0.00073943, 0.00080545, 0.00091904,\n",
              "       0.00113781, 0.00081504, 0.00089564, 0.00091626, 0.00158443,\n",
              "       0.00150452, 0.00115783, 0.00076087, 0.00086079, 0.00060695,\n",
              "       0.00118214, 0.00150008, 0.00144464, 0.00093093, 0.00117267,\n",
              "       0.0008231 , 0.00061094, 0.0008866 , 0.00105285, 0.00106103,\n",
              "       0.00059622, 0.00055291, 0.00123952, 0.00114583, 0.00079085,\n",
              "       0.00107265, 0.0010514 , 0.0009761 , 0.00090494, 0.00107888,\n",
              "       0.0010382 , 0.00085373, 0.00066114, 0.00113768, 0.00087442,\n",
              "       0.00083488, 0.00115036, 0.00101398, 0.00148112, 0.00093379,\n",
              "       0.00122663, 0.0012665 , 0.00058111, 0.00087358, 0.00126125,\n",
              "       0.00098702, 0.00113362, 0.00136388, 0.0008543 , 0.00041055,\n",
              "       0.0007704 , 0.00081794, 0.00044827, 0.00139779, 0.0008217 ,\n",
              "       0.000484  , 0.00055466, 0.00083037, 0.0008097 , 0.00086518,\n",
              "       0.00134363, 0.00081355, 0.00096407, 0.00074263, 0.00073759,\n",
              "       0.00127654, 0.00043426, 0.0009054 , 0.00076232, 0.00134191,\n",
              "       0.0011081 , 0.00090663, 0.0008668 , 0.00049251, 0.00073054,\n",
              "       0.00095319, 0.00137957, 0.00089814, 0.00088982, 0.00111971,\n",
              "       0.00080047, 0.00106827, 0.00101628, 0.00055912, 0.00046412,\n",
              "       0.00106945, 0.00134674, 0.00095803, 0.00141321, 0.00069466,\n",
              "       0.00098288, 0.00157014, 0.00109788, 0.00112019, 0.00192545,\n",
              "       0.00084669, 0.00132985, 0.00117322, 0.00084092, 0.00096949,\n",
              "       0.00111176, 0.00082054, 0.00082784, 0.0010567 , 0.00135356,\n",
              "       0.00057039, 0.00144798, 0.00085205, 0.0013445 , 0.00078902,\n",
              "       0.00105296, 0.00094785, 0.00132275, 0.0014446 , 0.00075347,\n",
              "       0.00163716, 0.00083752, 0.0009329 , 0.00096121, 0.00102453,\n",
              "       0.00067843, 0.00088155, 0.00145298, 0.00146997, 0.00089874,\n",
              "       0.00086559, 0.00093056, 0.00079228, 0.00153888, 0.00073261])"
            ]
          },
          "metadata": {},
          "execution_count": 10
        }
      ]
    },
    {
      "cell_type": "markdown",
      "source": [
        "### b) Compute the top 5 node ids with the highest PageRank scores."
      ],
      "metadata": {
        "id": "7jVyz0sIetE_"
      }
    },
    {
      "cell_type": "code",
      "source": [
        "# TODO: YOUR CODE HERE\n",
        "d = dict()\n",
        "for i in range(len(r)):\n",
        "  d[i+1] = r[i]\n",
        "sorted_d = dict(sorted(d.items(), key=lambda item: item[1], reverse=True))\n",
        "ids = list(sorted_d.keys())\n",
        "scores = list(sorted_d.values())\n",
        "for i in range(5):\n",
        "  print(f\"Top {i+1}: id = {ids[i]}, score = {scores[i]}\")"
      ],
      "metadata": {
        "id": "Zp9Qorr-fJWS",
        "colab": {
          "base_uri": "https://localhost:8080/"
        },
        "outputId": "2d698e5c-f46f-4ff6-f0cc-99182f25d93e"
      },
      "execution_count": 11,
      "outputs": [
        {
          "output_type": "stream",
          "name": "stdout",
          "text": [
            "Top 1: id = 263, score = 0.0020202911815182184\n",
            "Top 2: id = 537, score = 0.0019433415714531497\n",
            "Top 3: id = 965, score = 0.0019254478071662627\n",
            "Top 4: id = 243, score = 0.001852634016241731\n",
            "Top 5: id = 285, score = 0.0018273721700645144\n"
          ]
        }
      ]
    },
    {
      "cell_type": "markdown",
      "source": [
        "### c) Compute the top 5 node ids with the lowest PageRank scores."
      ],
      "metadata": {
        "id": "AvC2juA1fRx3"
      }
    },
    {
      "cell_type": "code",
      "source": [
        "# TODO: YOUR CODE HERE\n",
        "for i in range(1,6):\n",
        "  print(f\"Top {i} Lowest: id = {ids[-i]}, score = {scores[-i]}\")"
      ],
      "metadata": {
        "id": "HY7Cq2MtfM-B",
        "colab": {
          "base_uri": "https://localhost:8080/"
        },
        "outputId": "6dae9fd1-5819-4311-bd63-4b5da3d8962c"
      },
      "execution_count": 12,
      "outputs": [
        {
          "output_type": "stream",
          "name": "stdout",
          "text": [
            "Top 1 Lowest: id = 558, score = 0.0003286018525215297\n",
            "Top 2 Lowest: id = 93, score = 0.00035135689375165774\n",
            "Top 3 Lowest: id = 62, score = 0.00035314810510596274\n",
            "Top 4 Lowest: id = 424, score = 0.0003548153864930145\n",
            "Top 5 Lowest: id = 408, score = 0.00038779848719291705\n"
          ]
        }
      ]
    },
    {
      "cell_type": "code",
      "source": [
        "# stop the spark instance\n",
        "sc.stop()"
      ],
      "metadata": {
        "id": "jclkG8RlffqS"
      },
      "execution_count": 13,
      "outputs": []
    },
    {
      "cell_type": "markdown",
      "source": [
        "## Q2 - K-Means"
      ],
      "metadata": {
        "id": "_eHIBLEffW4K"
      }
    },
    {
      "cell_type": "code",
      "source": [
        "# create new spark instance\n",
        "\n",
        "# create the session\n",
        "conf = SparkConf()\n",
        "\n",
        "# create the context\n",
        "sc = pyspark.SparkContext(conf=conf)\n",
        "spark = SparkSession.builder.getOrCreate()"
      ],
      "metadata": {
        "id": "vqtn0CEzfveJ"
      },
      "execution_count": 14,
      "outputs": []
    },
    {
      "cell_type": "markdown",
      "source": [
        "### Load Data"
      ],
      "metadata": {
        "id": "70Th4k7Kfc3Y"
      }
    },
    {
      "cell_type": "code",
      "source": [
        "# loads the input file as an RDD, with each element being a string\n",
        "documents = sc.textFile(\"q2-data.txt\")\n",
        "documents = documents.map(lambda x: [float(i) for i in x.split()])#Convert to float\n",
        "\n",
        "c1 = sc.textFile(\"q2-c1.txt\")\n",
        "c1 = c1.map(lambda x: [float(i) for i in x.split()])#Convert to float\n",
        "\n",
        "c2 = sc.textFile(\"q2-c2.txt\")\n",
        "c2 = c2.map(lambda x: [float(i) for i in x.split()])#Convert to float\n"
      ],
      "metadata": {
        "id": "ly1IjB7sfY_1"
      },
      "execution_count": 15,
      "outputs": []
    },
    {
      "cell_type": "code",
      "source": [
        "documents.take(3)"
      ],
      "metadata": {
        "colab": {
          "base_uri": "https://localhost:8080/"
        },
        "collapsed": true,
        "id": "iwuR_eaNHDXB",
        "outputId": "3b12093b-3c05-4868-a5c9-98afae874b75"
      },
      "execution_count": 16,
      "outputs": [
        {
          "output_type": "execute_result",
          "data": {
            "text/plain": [
              "[[0.0,\n",
              "  0.64,\n",
              "  0.64,\n",
              "  0.0,\n",
              "  0.32,\n",
              "  0.0,\n",
              "  0.0,\n",
              "  0.0,\n",
              "  0.0,\n",
              "  0.0,\n",
              "  0.0,\n",
              "  0.64,\n",
              "  0.0,\n",
              "  0.0,\n",
              "  0.0,\n",
              "  0.32,\n",
              "  0.0,\n",
              "  1.29,\n",
              "  1.93,\n",
              "  0.0,\n",
              "  0.96,\n",
              "  0.0,\n",
              "  0.0,\n",
              "  0.0,\n",
              "  0.0,\n",
              "  0.0,\n",
              "  0.0,\n",
              "  0.0,\n",
              "  0.0,\n",
              "  0.0,\n",
              "  0.0,\n",
              "  0.0,\n",
              "  0.0,\n",
              "  0.0,\n",
              "  0.0,\n",
              "  0.0,\n",
              "  0.0,\n",
              "  0.0,\n",
              "  0.0,\n",
              "  0.0,\n",
              "  0.0,\n",
              "  0.0,\n",
              "  0.0,\n",
              "  0.0,\n",
              "  0.0,\n",
              "  0.0,\n",
              "  0.0,\n",
              "  0.0,\n",
              "  0.0,\n",
              "  0.0,\n",
              "  0.0,\n",
              "  0.778,\n",
              "  0.0,\n",
              "  0.0,\n",
              "  3.756,\n",
              "  61.0,\n",
              "  278.0,\n",
              "  1.0],\n",
              " [0.21,\n",
              "  0.28,\n",
              "  0.5,\n",
              "  0.0,\n",
              "  0.14,\n",
              "  0.28,\n",
              "  0.21,\n",
              "  0.07,\n",
              "  0.0,\n",
              "  0.94,\n",
              "  0.21,\n",
              "  0.79,\n",
              "  0.65,\n",
              "  0.21,\n",
              "  0.14,\n",
              "  0.14,\n",
              "  0.07,\n",
              "  0.28,\n",
              "  3.47,\n",
              "  0.0,\n",
              "  1.59,\n",
              "  0.0,\n",
              "  0.43,\n",
              "  0.43,\n",
              "  0.0,\n",
              "  0.0,\n",
              "  0.0,\n",
              "  0.0,\n",
              "  0.0,\n",
              "  0.0,\n",
              "  0.0,\n",
              "  0.0,\n",
              "  0.0,\n",
              "  0.0,\n",
              "  0.0,\n",
              "  0.0,\n",
              "  0.07,\n",
              "  0.0,\n",
              "  0.0,\n",
              "  0.0,\n",
              "  0.0,\n",
              "  0.0,\n",
              "  0.0,\n",
              "  0.0,\n",
              "  0.0,\n",
              "  0.0,\n",
              "  0.0,\n",
              "  0.0,\n",
              "  0.0,\n",
              "  0.132,\n",
              "  0.0,\n",
              "  0.372,\n",
              "  0.18,\n",
              "  0.048,\n",
              "  5.114,\n",
              "  101.0,\n",
              "  1028.0,\n",
              "  1.0],\n",
              " [0.06,\n",
              "  0.0,\n",
              "  0.71,\n",
              "  0.0,\n",
              "  1.23,\n",
              "  0.19,\n",
              "  0.19,\n",
              "  0.12,\n",
              "  0.64,\n",
              "  0.25,\n",
              "  0.38,\n",
              "  0.45,\n",
              "  0.12,\n",
              "  0.0,\n",
              "  1.75,\n",
              "  0.06,\n",
              "  0.06,\n",
              "  1.03,\n",
              "  1.36,\n",
              "  0.32,\n",
              "  0.51,\n",
              "  0.0,\n",
              "  1.16,\n",
              "  0.06,\n",
              "  0.0,\n",
              "  0.0,\n",
              "  0.0,\n",
              "  0.0,\n",
              "  0.0,\n",
              "  0.0,\n",
              "  0.0,\n",
              "  0.0,\n",
              "  0.0,\n",
              "  0.0,\n",
              "  0.0,\n",
              "  0.0,\n",
              "  0.0,\n",
              "  0.0,\n",
              "  0.0,\n",
              "  0.06,\n",
              "  0.0,\n",
              "  0.0,\n",
              "  0.12,\n",
              "  0.0,\n",
              "  0.06,\n",
              "  0.06,\n",
              "  0.0,\n",
              "  0.0,\n",
              "  0.01,\n",
              "  0.143,\n",
              "  0.0,\n",
              "  0.276,\n",
              "  0.184,\n",
              "  0.01,\n",
              "  9.821,\n",
              "  485.0,\n",
              "  2259.0,\n",
              "  1.0]]"
            ]
          },
          "metadata": {},
          "execution_count": 16
        }
      ]
    },
    {
      "cell_type": "markdown",
      "source": [
        "### Implement K-Means"
      ],
      "metadata": {
        "id": "0bUIxZCktP9m"
      }
    },
    {
      "cell_type": "code",
      "source": [
        "# function to compute Euclidean distance between point A and B\n",
        "def euclidean_distance(A, B):\n",
        "    return np.sqrt(np.sum(np.square(np.subtract(A, B))))\n",
        "\n",
        "# function to compute cost function phi\n",
        "def compute_phi(closest_centroids):\n",
        "    # TODO: YOUR CODE HERE\n",
        "    #closest_centroids is a rdd which contains (closest centroid, distance to closest centroid) for each datapoint\n",
        "    min_distances = closest_centroids.map(lambda line: (line[1])**2)\n",
        "    return min_distances.sum()"
      ],
      "metadata": {
        "id": "1RQM6Q1wnvun"
      },
      "execution_count": 17,
      "outputs": []
    },
    {
      "cell_type": "code",
      "source": [
        "# function to compute Manhattan distance between point A and B\n",
        "def manhattan_distance(A, B):\n",
        "    return np.sum(np.abs(np.subtract(A, B)))\n",
        "\n",
        "# function to compute cost function psi\n",
        "def compute_psi(closest_centroids):\n",
        "    # TODO: YOUR CODE HERE\n",
        "    min_distances = closest_centroids.map(lambda line: line[1])\n",
        "    return min_distances.sum()"
      ],
      "metadata": {
        "id": "HhiSHZ79nvj4"
      },
      "execution_count": 18,
      "outputs": []
    },
    {
      "cell_type": "code",
      "source": [
        "class my_kmeans:\n",
        "    def __init__(self, data, centroids, k, max_iter, distance_measure):\n",
        "        \"\"\"\n",
        "        Initializes the my_PageRank object\n",
        "        \"\"\"\n",
        "        self.data = data\n",
        "        self.centroids = centroids\n",
        "        self.k = k\n",
        "        self.max_iter = max_iter\n",
        "\n",
        "        self.distance_measure = distance_measure\n",
        "\n",
        "    def run_kmeans(self):\n",
        "        \"\"\"\n",
        "        Run the entire K-Means algorithm, return list of centroids, list of assignments, and list of costs\n",
        "        \"\"\"\n",
        "\n",
        "        # TODO: YOUR CODE HERE\n",
        "        def find_closest_centroid(datapoint,centroids,distance_measure):\n",
        "            #Find the closest centroid for a datapoint given a list of centroids\n",
        "            min_c = None\n",
        "            min_distance = float('inf')\n",
        "            for i, c in enumerate(centroids):\n",
        "              distance = distance_measure(datapoint, c)\n",
        "              if distance < min_distance: #Also catches the case of equidistant centroids\n",
        "                min_c = i\n",
        "                min_distance = distance\n",
        "            return (min_c, min_distance)\n",
        "        def map_point_centroid(row_idx, row):\n",
        "            centroid = row[0]\n",
        "            return (centroid, [row_idx]) #(centroid, [datapoint_id])\n",
        "        costs = []\n",
        "\n",
        "        centroids = self.centroids\n",
        "        centroids = centroids.collect()\n",
        "        data = self.data\n",
        "        distance_measure = self.distance_measure\n",
        "        data_with_index = data.zipWithIndex()\n",
        "        for i in range(self.max_iter):\n",
        "\n",
        "            #Assign all datapoints to the closest centroid\n",
        "            broadcast_centroids = sc.broadcast(centroids)\n",
        "            closest_centroids = data.map(lambda datapoint: find_closest_centroid(datapoint, broadcast_centroids.value, distance_measure))\n",
        "\n",
        "            #Calculate cost for this iteration\n",
        "            if distance_measure is euclidean_distance:\n",
        "                cost = compute_phi(closest_centroids)\n",
        "                if i == 0:\n",
        "                    print(\"Using euclidean distance\")\n",
        "            else:\n",
        "                cost = compute_psi(closest_centroids)\n",
        "                if i == 0:\n",
        "                    print(\"Using Manhattan distance\")\n",
        "            costs.append(cost)\n",
        "\n",
        "            #Recompute centroids as mean of all datapoints assigned to each centroid\n",
        "            closest_centroids = closest_centroids.zipWithIndex().map(lambda row: map_point_centroid(row[1], row[0])) #map to (centroid, [datapoint_id])\n",
        "            closest_centroids = closest_centroids.reduceByKey(lambda a, b: a + b) #we got (centroid_i, [all datapoint_id assigned to centroid_i])\n",
        "            closest_centroids = closest_centroids.collect()\n",
        "\n",
        "            for key, value in closest_centroids: #for each centroid and all datapoints assigned to that centroid\n",
        "                #compute the mean\n",
        "                datapoints = data_with_index.filter(lambda x: x[1] in value).map(lambda x: np.array(x[0]))\n",
        "                length = datapoints.count()\n",
        "                mean = datapoints.reduce(lambda a, b: a + b)\n",
        "                # mean = np.array(mean.collect())\n",
        "                mean = mean/length\n",
        "\n",
        "                #assign mean to that centroid\n",
        "                centroids[key] = list(mean)\n",
        "        #assignments\n",
        "        return centroids, costs"
      ],
      "metadata": {
        "id": "iFfQH3h8hLkA"
      },
      "execution_count": 19,
      "outputs": []
    },
    {
      "cell_type": "markdown",
      "source": [
        "### a) Using Euclidean distance to compute phi(i) for every iteration i."
      ],
      "metadata": {
        "id": "zk7EPeziwsQJ"
      }
    },
    {
      "cell_type": "code",
      "source": [
        "# initialize my_kmeans class\n",
        "km = my_kmeans(data=documents, centroids = c1, k = 10, max_iter = 20, distance_measure=euclidean_distance)\n",
        "km2 = my_kmeans(data=documents, centroids = c2, k = 10, max_iter = 20, distance_measure=euclidean_distance)"
      ],
      "metadata": {
        "id": "B7580tuxq9E-"
      },
      "execution_count": 20,
      "outputs": []
    },
    {
      "cell_type": "code",
      "source": [
        "# Get a list of costs phi\n",
        "\n",
        "# TODO: YOUR CODE HERE\n",
        "centroids, costs = km.run_kmeans()\n",
        "centroids_c2, costs_c2 = km2.run_kmeans()"
      ],
      "metadata": {
        "id": "AkB9iR4jxNh7",
        "colab": {
          "base_uri": "https://localhost:8080/"
        },
        "outputId": "8d082393-8870-42ca-fc45-74298c91778a"
      },
      "execution_count": 21,
      "outputs": [
        {
          "output_type": "stream",
          "name": "stdout",
          "text": [
            "Using euclidean distance\n",
            "Using euclidean distance\n"
          ]
        }
      ]
    },
    {
      "cell_type": "markdown",
      "source": [
        "Use the below cell to plot the graphs."
      ],
      "metadata": {
        "id": "EfESwUR4xQHF"
      }
    },
    {
      "cell_type": "code",
      "source": [
        "def plot_costs(costs, c):\n",
        "    iterations = list(range(1,21))\n",
        "    plt.plot(iterations, costs)\n",
        "    plt.title(f\"Costs for {c}.txt\")\n",
        "    plt.xlabel(\"Iterations\")\n",
        "    plt.ylabel(\"Costs\")\n",
        "    plt.grid(True)\n",
        "    plt.show()"
      ],
      "metadata": {
        "id": "h4dSzvBfrG2M"
      },
      "execution_count": 22,
      "outputs": []
    },
    {
      "cell_type": "code",
      "source": [
        "# Generate a plot for c1.txt\n",
        "\n",
        "# TODO: YOUR CODE HERE\n",
        "plot_costs(costs, \"c1\")"
      ],
      "metadata": {
        "id": "pEwRFLbnxCdZ",
        "colab": {
          "base_uri": "https://localhost:8080/",
          "height": 472
        },
        "outputId": "007980e5-dd81-4959-a802-da18b8201ae4"
      },
      "execution_count": 23,
      "outputs": [
        {
          "output_type": "display_data",
          "data": {
            "text/plain": [
              "<Figure size 640x480 with 1 Axes>"
            ],
            "image/png": "[encoded data removed]"
          },
          "metadata": {}
        }
      ]
    },
    {
      "cell_type": "code",
      "source": [
        "# Generate a plot for c2.txt\n",
        "\n",
        "# TODO: YOUR CODE HERE\n",
        "plot_costs(costs_c2,\"c2\")"
      ],
      "metadata": {
        "id": "Ya5C9lt3xdRN",
        "colab": {
          "base_uri": "https://localhost:8080/",
          "height": 472
        },
        "outputId": "ff6e4544-7dcc-4d0a-c2bf-1222b85dc67d"
      },
      "execution_count": 24,
      "outputs": [
        {
          "output_type": "display_data",
          "data": {
            "text/plain": [
              "<Figure size 640x480 with 1 Axes>"
            ],
            "image/png": "[encoded data removed]"
          },
          "metadata": {}
        }
      ]
    },
    {
      "cell_type": "markdown",
      "source": [
        "### b) Compute percentage change in cost after 10 iterations of the K-Means algorithm."
      ],
      "metadata": {
        "id": "g8-1ta35xirA"
      }
    },
    {
      "cell_type": "code",
      "source": [
        "def get_percent_change(costs, c):\n",
        "    change = (costs[0]-costs[10])/ costs[0]\n",
        "    print(f\"Percentage change in cost for {c} = {change*100}%\")"
      ],
      "metadata": {
        "id": "5MZyniAqrx1V"
      },
      "execution_count": 25,
      "outputs": []
    },
    {
      "cell_type": "code",
      "source": [
        "# percentage change in cost for c1.\n",
        "\n",
        "# TODO: YOUR CODE HERE\n",
        "get_percent_change(costs, \"c1\")"
      ],
      "metadata": {
        "id": "8wn0w_Tdxw3O",
        "colab": {
          "base_uri": "https://localhost:8080/"
        },
        "outputId": "237439f4-9fa4-4bdc-cdbd-5dfe8c366a47"
      },
      "execution_count": 26,
      "outputs": [
        {
          "output_type": "stream",
          "name": "stdout",
          "text": [
            "Percentage change in cost for c1 = 26.483917144560547%\n"
          ]
        }
      ]
    },
    {
      "cell_type": "code",
      "source": [
        "# percentage change in cost for c2.\n",
        "\n",
        "# TODO: YOUR CODE HERE\n",
        "get_percent_change(costs_c2, \"c2\")"
      ],
      "metadata": {
        "id": "pj7dBiXex34b",
        "colab": {
          "base_uri": "https://localhost:8080/"
        },
        "outputId": "68aa1620-3bcb-43eb-ba06-067f88d0b76d"
      },
      "execution_count": 27,
      "outputs": [
        {
          "output_type": "stream",
          "name": "stdout",
          "text": [
            "Percentage change in cost for c2 = 76.69795594605947%\n"
          ]
        }
      ]
    },
    {
      "cell_type": "markdown",
      "source": [
        "Use the below cell for your written explanation."
      ],
      "metadata": {
        "id": "O3TBoyQAx51M"
      }
    },
    {
      "cell_type": "markdown",
      "source": [
        "The initialization using c2.txt is better than random initialization using c1.txt. From the graph, c2 has less initial cost than c1 and c2 is able to converge to a much lower cost than c1. Other than that, c2 is able to reduce its cost for over 75% compared to c1 with only 26.5%, meaning c2 is able to find a much better grouping compared to the initialization and c1 cannot. All of these come from the fact that c2 initializes clusters that are close to global minima, while c1 has more chance to get stuck at local optima."
      ],
      "metadata": {
        "id": "Bo3xY24Ux__Z"
      }
    },
    {
      "cell_type": "markdown",
      "source": [
        "### c) Using Manhattan distance to compute phi(i) for every iteration i."
      ],
      "metadata": {
        "id": "Lqb32K1hyA9i"
      }
    },
    {
      "cell_type": "code",
      "source": [
        "# initialize my_kmeans class\n",
        "km = my_kmeans(data=documents, centroids = c1, k = 10, max_iter = 20, distance_measure=manhattan_distance)\n",
        "km2 = my_kmeans(data=documents, centroids = c2, k = 10, max_iter = 20, distance_measure=manhattan_distance)"
      ],
      "metadata": {
        "id": "fhAunQpAyKoO"
      },
      "execution_count": 30,
      "outputs": []
    },
    {
      "cell_type": "code",
      "source": [
        "# Get a list of costs psi\n",
        "\n",
        "# TODO: YOUR CODE HERE\n",
        "centroids, costs = km.run_kmeans()\n",
        "centroids_c2, costs_c2 = km2.run_kmeans()"
      ],
      "metadata": {
        "id": "MlbCXJ7DyPLC",
        "colab": {
          "base_uri": "https://localhost:8080/"
        },
        "outputId": "ff87acbd-93ae-41da-b161-d00786bb6422"
      },
      "execution_count": 31,
      "outputs": [
        {
          "output_type": "stream",
          "name": "stdout",
          "text": [
            "Using Manhattan distance\n",
            "Using Manhattan distance\n"
          ]
        }
      ]
    },
    {
      "cell_type": "markdown",
      "source": [
        "Use the below cell to plot the graphs."
      ],
      "metadata": {
        "id": "KzvDu5rCyRXT"
      }
    },
    {
      "cell_type": "code",
      "source": [
        "# Generate a plot for c1.txt\n",
        "\n",
        "# TODO: YOUR CODE HERE\n",
        "plot_costs(costs, \"c1\")"
      ],
      "metadata": {
        "id": "S8qrYGpcyYaa",
        "colab": {
          "base_uri": "https://localhost:8080/",
          "height": 472
        },
        "outputId": "1b2f44a7-17fe-4212-b914-dd9e1db32737"
      },
      "execution_count": 32,
      "outputs": [
        {
          "output_type": "display_data",
          "data": {
            "text/plain": [
              "<Figure size 640x480 with 1 Axes>"
            ],
            "image/png": "[encoded data removed]"
          },
          "metadata": {}
        }
      ]
    },
    {
      "cell_type": "code",
      "source": [
        "# Generate a plot for c2.txt\n",
        "\n",
        "# TODO: YOUR CODE HERE\n",
        "plot_costs(costs_c2, \"c2\")"
      ],
      "metadata": {
        "id": "RP7k1-_XyZEP",
        "colab": {
          "base_uri": "https://localhost:8080/",
          "height": 472
        },
        "outputId": "6eff99e6-e253-4945-f405-50c321c13a42"
      },
      "execution_count": 33,
      "outputs": [
        {
          "output_type": "display_data",
          "data": {
            "text/plain": [
              "<Figure size 640x480 with 1 Axes>"
            ],
            "image/png": "[encoded data removed]"
          },
          "metadata": {}
        }
      ]
    },
    {
      "cell_type": "markdown",
      "source": [
        "### d) Compute percentage change in cost after 10 iterations of the K-Means algorithm."
      ],
      "metadata": {
        "id": "v-SEeqGiybpl"
      }
    },
    {
      "cell_type": "code",
      "source": [
        "# percentage change in cost for c1.\n",
        "\n",
        "# TODO: YOUR CODE HERE\n",
        "get_percent_change(costs, \"c1\")"
      ],
      "metadata": {
        "id": "3pMotgT7yga2",
        "colab": {
          "base_uri": "https://localhost:8080/"
        },
        "outputId": "d08e0ab8-db45-4b2a-9772-851d76f39a3f"
      },
      "execution_count": 34,
      "outputs": [
        {
          "output_type": "stream",
          "name": "stdout",
          "text": [
            "Percentage change in cost for c1 = 18.65492611679923%\n"
          ]
        }
      ]
    },
    {
      "cell_type": "code",
      "source": [
        "# percentage change in cost for c2.\n",
        "\n",
        "# TODO: YOUR CODE HERE\n",
        "get_percent_change(costs_c2, \"c2\")"
      ],
      "metadata": {
        "id": "FYi_4QsZyhSA",
        "colab": {
          "base_uri": "https://localhost:8080/"
        },
        "outputId": "107efbd6-1bf5-4cdc-f7f7-fb0cac7720c0"
      },
      "execution_count": 35,
      "outputs": [
        {
          "output_type": "stream",
          "name": "stdout",
          "text": [
            "Percentage change in cost for c2 = 51.554099102389095%\n"
          ]
        }
      ]
    },
    {
      "cell_type": "markdown",
      "source": [
        "Use the below cell for your written explanation."
      ],
      "metadata": {
        "id": "kRTMltKkyjh4"
      }
    },
    {
      "cell_type": "markdown",
      "source": [
        "From the graph, c2 initialization places the clusters in a worse position than c1 initialization. Even though KMeans performed better with c2 and reduced a lot of its initialization cost, the minimum cost from c1 is still lower than cost from c2. In conclusion, random initialization can sometimes place the clusters in a better position than c2, leading to a better result; however, c2 initialization guarantees that KMeans will get a good convergence."
      ],
      "metadata": {
        "id": "phYRh0cCykUV"
      }
    }
  ]
}